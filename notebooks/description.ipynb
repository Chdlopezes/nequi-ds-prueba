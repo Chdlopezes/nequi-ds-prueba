{
 "cells": [
  {
   "cell_type": "code",
   "execution_count": 1,
   "id": "235d8bf7",
   "metadata": {},
   "outputs": [],
   "source": [
    "import os \n",
    "os.chdir(\"../\") # To read the data from the root folder"
   ]
  },
  {
   "cell_type": "code",
   "execution_count": 2,
   "id": "cef2206e",
   "metadata": {},
   "outputs": [],
   "source": [
    "import pandas as pd\n",
    "import duckdb"
   ]
  },
  {
   "cell_type": "markdown",
   "id": "8da46a69",
   "metadata": {},
   "source": [
    "# lets explore a little bit the features of data\n",
    "\n",
    "## lets count the number of rows in the dataset"
   ]
  },
  {
   "cell_type": "code",
   "execution_count": 3,
   "id": "2f35f634",
   "metadata": {},
   "outputs": [
    {
     "data": {
      "application/vnd.microsoft.datawrangler.viewer.v0+json": {
       "columns": [
        {
         "name": "index",
         "rawType": "int64",
         "type": "integer"
        },
        {
         "name": "total_rows",
         "rawType": "int64",
         "type": "integer"
        }
       ],
       "ref": "9ac53084-3990-4848-9e7a-8a148418e78b",
       "rows": [
        [
         "0",
         "10758418"
        ]
       ],
       "shape": {
        "columns": 1,
        "rows": 1
       }
      },
      "text/html": [
       "<div>\n",
       "<style scoped>\n",
       "    .dataframe tbody tr th:only-of-type {\n",
       "        vertical-align: middle;\n",
       "    }\n",
       "\n",
       "    .dataframe tbody tr th {\n",
       "        vertical-align: top;\n",
       "    }\n",
       "\n",
       "    .dataframe thead th {\n",
       "        text-align: right;\n",
       "    }\n",
       "</style>\n",
       "<table border=\"1\" class=\"dataframe\">\n",
       "  <thead>\n",
       "    <tr style=\"text-align: right;\">\n",
       "      <th></th>\n",
       "      <th>total_rows</th>\n",
       "    </tr>\n",
       "  </thead>\n",
       "  <tbody>\n",
       "    <tr>\n",
       "      <th>0</th>\n",
       "      <td>10758418</td>\n",
       "    </tr>\n",
       "  </tbody>\n",
       "</table>\n",
       "</div>"
      ],
      "text/plain": [
       "   total_rows\n",
       "0    10758418"
      ]
     },
     "execution_count": 3,
     "metadata": {},
     "output_type": "execute_result"
    }
   ],
   "source": [
    "con = duckdb.connect()\n",
    "\n",
    "file_1_path = 'data/sample_data_0006_part_00.parquet'\n",
    "\n",
    "query = f\"\"\"\n",
    "    SELECT \n",
    "        COUNT(*) AS total_rows\n",
    "    FROM \n",
    "        '{file_1_path}'\n",
    "\"\"\"\n",
    "\n",
    "result = con.execute(query).df()\n",
    "result"
   ]
  },
  {
   "cell_type": "markdown",
   "id": "33c8edc8",
   "metadata": {},
   "source": [
    "### GEt the period of time covered by the dataset"
   ]
  },
  {
   "cell_type": "code",
   "execution_count": 4,
   "id": "04ead663",
   "metadata": {},
   "outputs": [
    {
     "data": {
      "application/vnd.microsoft.datawrangler.viewer.v0+json": {
       "columns": [
        {
         "name": "index",
         "rawType": "int64",
         "type": "integer"
        },
        {
         "name": "start_date",
         "rawType": "datetime64[us]",
         "type": "unknown"
        },
        {
         "name": "end_date",
         "rawType": "datetime64[us]",
         "type": "unknown"
        }
       ],
       "ref": "fdf08360-7247-4f0b-aae5-dc30254730ca",
       "rows": [
        [
         "0",
         "2021-01-01 00:01:13",
         "2021-11-30 23:59:49"
        ]
       ],
       "shape": {
        "columns": 2,
        "rows": 1
       }
      },
      "text/html": [
       "<div>\n",
       "<style scoped>\n",
       "    .dataframe tbody tr th:only-of-type {\n",
       "        vertical-align: middle;\n",
       "    }\n",
       "\n",
       "    .dataframe tbody tr th {\n",
       "        vertical-align: top;\n",
       "    }\n",
       "\n",
       "    .dataframe thead th {\n",
       "        text-align: right;\n",
       "    }\n",
       "</style>\n",
       "<table border=\"1\" class=\"dataframe\">\n",
       "  <thead>\n",
       "    <tr style=\"text-align: right;\">\n",
       "      <th></th>\n",
       "      <th>start_date</th>\n",
       "      <th>end_date</th>\n",
       "    </tr>\n",
       "  </thead>\n",
       "  <tbody>\n",
       "    <tr>\n",
       "      <th>0</th>\n",
       "      <td>2021-01-01 00:01:13</td>\n",
       "      <td>2021-11-30 23:59:49</td>\n",
       "    </tr>\n",
       "  </tbody>\n",
       "</table>\n",
       "</div>"
      ],
      "text/plain": [
       "           start_date            end_date\n",
       "0 2021-01-01 00:01:13 2021-11-30 23:59:49"
      ]
     },
     "execution_count": 4,
     "metadata": {},
     "output_type": "execute_result"
    }
   ],
   "source": [
    "query = f\"\"\"\n",
    "    SELECT \n",
    "        MIN(transaction_date) AS start_date,\n",
    "        MAX(transaction_date) AS end_date\n",
    "    FROM \n",
    "        '{file_1_path}'\n",
    "\"\"\"\n",
    "result = con.execute(query).df()\n",
    "result"
   ]
  },
  {
   "cell_type": "markdown",
   "id": "6e483d0f",
   "metadata": {},
   "source": [
    "### Now lets find the number of colums and their data types"
   ]
  },
  {
   "cell_type": "code",
   "execution_count": 5,
   "id": "cf7ce55c",
   "metadata": {},
   "outputs": [
    {
     "data": {
      "application/vnd.microsoft.datawrangler.viewer.v0+json": {
       "columns": [
        {
         "name": "index",
         "rawType": "int64",
         "type": "integer"
        },
        {
         "name": "column_name",
         "rawType": "object",
         "type": "string"
        },
        {
         "name": "column_type",
         "rawType": "object",
         "type": "string"
        },
        {
         "name": "null",
         "rawType": "object",
         "type": "string"
        },
        {
         "name": "key",
         "rawType": "object",
         "type": "unknown"
        },
        {
         "name": "default",
         "rawType": "object",
         "type": "unknown"
        },
        {
         "name": "extra",
         "rawType": "object",
         "type": "unknown"
        }
       ],
       "ref": "53dae177-2f3f-469b-8b98-d8d5112f94a2",
       "rows": [
        [
         "0",
         "merchant_id",
         "VARCHAR",
         "YES",
         null,
         null,
         null
        ],
        [
         "1",
         "_id",
         "VARCHAR",
         "YES",
         null,
         null,
         null
        ],
        [
         "2",
         "subsidiary",
         "VARCHAR",
         "YES",
         null,
         null,
         null
        ],
        [
         "3",
         "transaction_date",
         "TIMESTAMP",
         "YES",
         null,
         null,
         null
        ],
        [
         "4",
         "account_number",
         "VARCHAR",
         "YES",
         null,
         null,
         null
        ],
        [
         "5",
         "user_id",
         "VARCHAR",
         "YES",
         null,
         null,
         null
        ],
        [
         "6",
         "transaction_amount",
         "DECIMAL(24,8)",
         "YES",
         null,
         null,
         null
        ],
        [
         "7",
         "transaction_type",
         "VARCHAR",
         "YES",
         null,
         null,
         null
        ]
       ],
       "shape": {
        "columns": 6,
        "rows": 8
       }
      },
      "text/html": [
       "<div>\n",
       "<style scoped>\n",
       "    .dataframe tbody tr th:only-of-type {\n",
       "        vertical-align: middle;\n",
       "    }\n",
       "\n",
       "    .dataframe tbody tr th {\n",
       "        vertical-align: top;\n",
       "    }\n",
       "\n",
       "    .dataframe thead th {\n",
       "        text-align: right;\n",
       "    }\n",
       "</style>\n",
       "<table border=\"1\" class=\"dataframe\">\n",
       "  <thead>\n",
       "    <tr style=\"text-align: right;\">\n",
       "      <th></th>\n",
       "      <th>column_name</th>\n",
       "      <th>column_type</th>\n",
       "      <th>null</th>\n",
       "      <th>key</th>\n",
       "      <th>default</th>\n",
       "      <th>extra</th>\n",
       "    </tr>\n",
       "  </thead>\n",
       "  <tbody>\n",
       "    <tr>\n",
       "      <th>0</th>\n",
       "      <td>merchant_id</td>\n",
       "      <td>VARCHAR</td>\n",
       "      <td>YES</td>\n",
       "      <td>None</td>\n",
       "      <td>None</td>\n",
       "      <td>None</td>\n",
       "    </tr>\n",
       "    <tr>\n",
       "      <th>1</th>\n",
       "      <td>_id</td>\n",
       "      <td>VARCHAR</td>\n",
       "      <td>YES</td>\n",
       "      <td>None</td>\n",
       "      <td>None</td>\n",
       "      <td>None</td>\n",
       "    </tr>\n",
       "    <tr>\n",
       "      <th>2</th>\n",
       "      <td>subsidiary</td>\n",
       "      <td>VARCHAR</td>\n",
       "      <td>YES</td>\n",
       "      <td>None</td>\n",
       "      <td>None</td>\n",
       "      <td>None</td>\n",
       "    </tr>\n",
       "    <tr>\n",
       "      <th>3</th>\n",
       "      <td>transaction_date</td>\n",
       "      <td>TIMESTAMP</td>\n",
       "      <td>YES</td>\n",
       "      <td>None</td>\n",
       "      <td>None</td>\n",
       "      <td>None</td>\n",
       "    </tr>\n",
       "    <tr>\n",
       "      <th>4</th>\n",
       "      <td>account_number</td>\n",
       "      <td>VARCHAR</td>\n",
       "      <td>YES</td>\n",
       "      <td>None</td>\n",
       "      <td>None</td>\n",
       "      <td>None</td>\n",
       "    </tr>\n",
       "    <tr>\n",
       "      <th>5</th>\n",
       "      <td>user_id</td>\n",
       "      <td>VARCHAR</td>\n",
       "      <td>YES</td>\n",
       "      <td>None</td>\n",
       "      <td>None</td>\n",
       "      <td>None</td>\n",
       "    </tr>\n",
       "    <tr>\n",
       "      <th>6</th>\n",
       "      <td>transaction_amount</td>\n",
       "      <td>DECIMAL(24,8)</td>\n",
       "      <td>YES</td>\n",
       "      <td>None</td>\n",
       "      <td>None</td>\n",
       "      <td>None</td>\n",
       "    </tr>\n",
       "    <tr>\n",
       "      <th>7</th>\n",
       "      <td>transaction_type</td>\n",
       "      <td>VARCHAR</td>\n",
       "      <td>YES</td>\n",
       "      <td>None</td>\n",
       "      <td>None</td>\n",
       "      <td>None</td>\n",
       "    </tr>\n",
       "  </tbody>\n",
       "</table>\n",
       "</div>"
      ],
      "text/plain": [
       "          column_name    column_type null   key default extra\n",
       "0         merchant_id        VARCHAR  YES  None    None  None\n",
       "1                 _id        VARCHAR  YES  None    None  None\n",
       "2          subsidiary        VARCHAR  YES  None    None  None\n",
       "3    transaction_date      TIMESTAMP  YES  None    None  None\n",
       "4      account_number        VARCHAR  YES  None    None  None\n",
       "5             user_id        VARCHAR  YES  None    None  None\n",
       "6  transaction_amount  DECIMAL(24,8)  YES  None    None  None\n",
       "7    transaction_type        VARCHAR  YES  None    None  None"
      ]
     },
     "execution_count": 5,
     "metadata": {},
     "output_type": "execute_result"
    }
   ],
   "source": [
    "query = f\"\"\"\n",
    "    DESCRIBE SELECT * FROM '{file_1_path}' \n",
    "\"\"\"\n",
    "\n",
    "columns_info = con.execute(query).df()\n",
    "columns_info"
   ]
  },
  {
   "cell_type": "markdown",
   "id": "cfb8eb04",
   "metadata": {},
   "source": [
    "### Ok so now lets get some rows to check the data"
   ]
  },
  {
   "cell_type": "code",
   "execution_count": 6,
   "id": "f3bc462a",
   "metadata": {},
   "outputs": [
    {
     "data": {
      "application/vnd.microsoft.datawrangler.viewer.v0+json": {
       "columns": [
        {
         "name": "index",
         "rawType": "int64",
         "type": "integer"
        },
        {
         "name": "merchant_id",
         "rawType": "object",
         "type": "string"
        },
        {
         "name": "_id",
         "rawType": "object",
         "type": "string"
        },
        {
         "name": "subsidiary",
         "rawType": "object",
         "type": "string"
        },
        {
         "name": "transaction_date",
         "rawType": "datetime64[us]",
         "type": "unknown"
        },
        {
         "name": "account_number",
         "rawType": "object",
         "type": "string"
        },
        {
         "name": "user_id",
         "rawType": "object",
         "type": "string"
        },
        {
         "name": "transaction_amount",
         "rawType": "float64",
         "type": "float"
        },
        {
         "name": "transaction_type",
         "rawType": "object",
         "type": "string"
        }
       ],
       "ref": "3ed48a7a-48fa-4a65-ab8c-e68ebcf6dde9",
       "rows": [
        [
         "0",
         "075d178871d8d48502bf1f54887e52fe",
         "aa8dacff663072244d0a8ab6bbe36b93",
         "824b2af470cbe6a65b15650e03b740fc",
         "2021-09-12 18:32:03",
         "648e257c9d74909a1f61c54b93a9e1b3",
         "ba42d192a145583ba8e7bf04875f837f",
         "178.33365037",
         "CREDITO"
        ],
        [
         "1",
         "075d178871d8d48502bf1f54887e52fe",
         "a53bb81bd0bba2ae2535bda7ea5a550c",
         "2d8d34be7509a6b1262336d036fdb324",
         "2021-09-12 18:31:58",
         "c0b62f9046c83ea5543ea46a497a4d6e",
         "5cfff960ea6d732c1ba3e63d24f3be52",
         "35.66673007",
         "CREDITO"
        ],
        [
         "2",
         "075d178871d8d48502bf1f54887e52fe",
         "79f893ea65c06fe2933f3847c88c272f",
         "5eeb18254850b21af0a6bb2697913cd3",
         "2021-09-12 18:31:56",
         "872d10143fc0ac7d5de467806f6bef81",
         "c97e63a92c82c7217b333635d75928ed",
         "142.66692029",
         "CREDITO"
        ],
        [
         "3",
         "075d178871d8d48502bf1f54887e52fe",
         "ce577223699dbdc119df2ab8a35457fe",
         "5221a599856c0a0588ed9ffd150edd3b",
         "2021-09-12 18:31:10",
         "2e35cfe7860a480a93e1c83e99843579",
         "fc09bdd00f283222d65eaff4d00a6594",
         "8.32223701",
         "CREDITO"
        ],
        [
         "4",
         "075d178871d8d48502bf1f54887e52fe",
         "0ce7ab2950e7a788a608f881aec0f8f0",
         "971e55ef12d80ec070ea4f6750c8b892",
         "2021-09-12 18:31:07",
         "995bc89e4c4e00334f1f90c4a55f4729",
         "213527e8ba94fcaf2f9378969f9f6abc",
         "32.10005706",
         "CREDITO"
        ],
        [
         "5",
         "075d178871d8d48502bf1f54887e52fe",
         "01220d4c4ed48cfd6f7ca5f278f9a6f6",
         "76aca4525838053ca0d5ba8e37f1ffe8",
         "2021-09-12 18:31:06",
         "a32395153b2dc1383304bd2c33990a78",
         "d1022ab075c2a2cf681398670d2bf8a1",
         "59.44455012",
         "CREDITO"
        ],
        [
         "6",
         "075d178871d8d48502bf1f54887e52fe",
         "f02cabf07366d25120c9b2e7019a4205",
         "6b102b2df10e986bd97b1b5713be0843",
         "2021-09-12 18:30:55",
         "2dd7afef1abfbfbbb68b6a31df70fc91",
         "d6b9f3858016e0581e006ad574e23c6c",
         "11.88891002",
         "CREDITO"
        ],
        [
         "7",
         "075d178871d8d48502bf1f54887e52fe",
         "fb12816c831921ff105fea2197ab26b1",
         "3ae3115ca051e75384016f7dbe2e1c44",
         "2021-09-12 18:30:44",
         "b203ec1d2e5355a406451c5a664fd1fe",
         "fed67132093416ba01a45b31d907d437",
         "29.72227506",
         "CREDITO"
        ],
        [
         "8",
         "075d178871d8d48502bf1f54887e52fe",
         "faf1f94ffdcd14b92523439672079498",
         "408c74e90c79b159c91267b8fdf11053",
         "2021-09-12 18:30:15",
         "8bd7618563c9e4e9c1cee885a8816188",
         "09e64f7c1df4eb1acd93733bc7c699a7",
         "23.77782004",
         "CREDITO"
        ],
        [
         "9",
         "075d178871d8d48502bf1f54887e52fe",
         "76d975dce75647824a3ff3d1c8e4fa4c",
         "30e5a216a97f0b59114d79b0b69061a2",
         "2021-09-12 18:29:45",
         "c4703b5e8501767be83fe2b258ffc7ee",
         "320b4b756f3584ee36738cf8cd60a581",
         "41.61118508",
         "CREDITO"
        ]
       ],
       "shape": {
        "columns": 8,
        "rows": 10
       }
      },
      "text/html": [
       "<div>\n",
       "<style scoped>\n",
       "    .dataframe tbody tr th:only-of-type {\n",
       "        vertical-align: middle;\n",
       "    }\n",
       "\n",
       "    .dataframe tbody tr th {\n",
       "        vertical-align: top;\n",
       "    }\n",
       "\n",
       "    .dataframe thead th {\n",
       "        text-align: right;\n",
       "    }\n",
       "</style>\n",
       "<table border=\"1\" class=\"dataframe\">\n",
       "  <thead>\n",
       "    <tr style=\"text-align: right;\">\n",
       "      <th></th>\n",
       "      <th>merchant_id</th>\n",
       "      <th>_id</th>\n",
       "      <th>subsidiary</th>\n",
       "      <th>transaction_date</th>\n",
       "      <th>account_number</th>\n",
       "      <th>user_id</th>\n",
       "      <th>transaction_amount</th>\n",
       "      <th>transaction_type</th>\n",
       "    </tr>\n",
       "  </thead>\n",
       "  <tbody>\n",
       "    <tr>\n",
       "      <th>0</th>\n",
       "      <td>075d178871d8d48502bf1f54887e52fe</td>\n",
       "      <td>aa8dacff663072244d0a8ab6bbe36b93</td>\n",
       "      <td>824b2af470cbe6a65b15650e03b740fc</td>\n",
       "      <td>2021-09-12 18:32:03</td>\n",
       "      <td>648e257c9d74909a1f61c54b93a9e1b3</td>\n",
       "      <td>ba42d192a145583ba8e7bf04875f837f</td>\n",
       "      <td>178.333650</td>\n",
       "      <td>CREDITO</td>\n",
       "    </tr>\n",
       "    <tr>\n",
       "      <th>1</th>\n",
       "      <td>075d178871d8d48502bf1f54887e52fe</td>\n",
       "      <td>a53bb81bd0bba2ae2535bda7ea5a550c</td>\n",
       "      <td>2d8d34be7509a6b1262336d036fdb324</td>\n",
       "      <td>2021-09-12 18:31:58</td>\n",
       "      <td>c0b62f9046c83ea5543ea46a497a4d6e</td>\n",
       "      <td>5cfff960ea6d732c1ba3e63d24f3be52</td>\n",
       "      <td>35.666730</td>\n",
       "      <td>CREDITO</td>\n",
       "    </tr>\n",
       "    <tr>\n",
       "      <th>2</th>\n",
       "      <td>075d178871d8d48502bf1f54887e52fe</td>\n",
       "      <td>79f893ea65c06fe2933f3847c88c272f</td>\n",
       "      <td>5eeb18254850b21af0a6bb2697913cd3</td>\n",
       "      <td>2021-09-12 18:31:56</td>\n",
       "      <td>872d10143fc0ac7d5de467806f6bef81</td>\n",
       "      <td>c97e63a92c82c7217b333635d75928ed</td>\n",
       "      <td>142.666920</td>\n",
       "      <td>CREDITO</td>\n",
       "    </tr>\n",
       "    <tr>\n",
       "      <th>3</th>\n",
       "      <td>075d178871d8d48502bf1f54887e52fe</td>\n",
       "      <td>ce577223699dbdc119df2ab8a35457fe</td>\n",
       "      <td>5221a599856c0a0588ed9ffd150edd3b</td>\n",
       "      <td>2021-09-12 18:31:10</td>\n",
       "      <td>2e35cfe7860a480a93e1c83e99843579</td>\n",
       "      <td>fc09bdd00f283222d65eaff4d00a6594</td>\n",
       "      <td>8.322237</td>\n",
       "      <td>CREDITO</td>\n",
       "    </tr>\n",
       "    <tr>\n",
       "      <th>4</th>\n",
       "      <td>075d178871d8d48502bf1f54887e52fe</td>\n",
       "      <td>0ce7ab2950e7a788a608f881aec0f8f0</td>\n",
       "      <td>971e55ef12d80ec070ea4f6750c8b892</td>\n",
       "      <td>2021-09-12 18:31:07</td>\n",
       "      <td>995bc89e4c4e00334f1f90c4a55f4729</td>\n",
       "      <td>213527e8ba94fcaf2f9378969f9f6abc</td>\n",
       "      <td>32.100057</td>\n",
       "      <td>CREDITO</td>\n",
       "    </tr>\n",
       "    <tr>\n",
       "      <th>5</th>\n",
       "      <td>075d178871d8d48502bf1f54887e52fe</td>\n",
       "      <td>01220d4c4ed48cfd6f7ca5f278f9a6f6</td>\n",
       "      <td>76aca4525838053ca0d5ba8e37f1ffe8</td>\n",
       "      <td>2021-09-12 18:31:06</td>\n",
       "      <td>a32395153b2dc1383304bd2c33990a78</td>\n",
       "      <td>d1022ab075c2a2cf681398670d2bf8a1</td>\n",
       "      <td>59.444550</td>\n",
       "      <td>CREDITO</td>\n",
       "    </tr>\n",
       "    <tr>\n",
       "      <th>6</th>\n",
       "      <td>075d178871d8d48502bf1f54887e52fe</td>\n",
       "      <td>f02cabf07366d25120c9b2e7019a4205</td>\n",
       "      <td>6b102b2df10e986bd97b1b5713be0843</td>\n",
       "      <td>2021-09-12 18:30:55</td>\n",
       "      <td>2dd7afef1abfbfbbb68b6a31df70fc91</td>\n",
       "      <td>d6b9f3858016e0581e006ad574e23c6c</td>\n",
       "      <td>11.888910</td>\n",
       "      <td>CREDITO</td>\n",
       "    </tr>\n",
       "    <tr>\n",
       "      <th>7</th>\n",
       "      <td>075d178871d8d48502bf1f54887e52fe</td>\n",
       "      <td>fb12816c831921ff105fea2197ab26b1</td>\n",
       "      <td>3ae3115ca051e75384016f7dbe2e1c44</td>\n",
       "      <td>2021-09-12 18:30:44</td>\n",
       "      <td>b203ec1d2e5355a406451c5a664fd1fe</td>\n",
       "      <td>fed67132093416ba01a45b31d907d437</td>\n",
       "      <td>29.722275</td>\n",
       "      <td>CREDITO</td>\n",
       "    </tr>\n",
       "    <tr>\n",
       "      <th>8</th>\n",
       "      <td>075d178871d8d48502bf1f54887e52fe</td>\n",
       "      <td>faf1f94ffdcd14b92523439672079498</td>\n",
       "      <td>408c74e90c79b159c91267b8fdf11053</td>\n",
       "      <td>2021-09-12 18:30:15</td>\n",
       "      <td>8bd7618563c9e4e9c1cee885a8816188</td>\n",
       "      <td>09e64f7c1df4eb1acd93733bc7c699a7</td>\n",
       "      <td>23.777820</td>\n",
       "      <td>CREDITO</td>\n",
       "    </tr>\n",
       "    <tr>\n",
       "      <th>9</th>\n",
       "      <td>075d178871d8d48502bf1f54887e52fe</td>\n",
       "      <td>76d975dce75647824a3ff3d1c8e4fa4c</td>\n",
       "      <td>30e5a216a97f0b59114d79b0b69061a2</td>\n",
       "      <td>2021-09-12 18:29:45</td>\n",
       "      <td>c4703b5e8501767be83fe2b258ffc7ee</td>\n",
       "      <td>320b4b756f3584ee36738cf8cd60a581</td>\n",
       "      <td>41.611185</td>\n",
       "      <td>CREDITO</td>\n",
       "    </tr>\n",
       "  </tbody>\n",
       "</table>\n",
       "</div>"
      ],
      "text/plain": [
       "                        merchant_id                               _id  \\\n",
       "0  075d178871d8d48502bf1f54887e52fe  aa8dacff663072244d0a8ab6bbe36b93   \n",
       "1  075d178871d8d48502bf1f54887e52fe  a53bb81bd0bba2ae2535bda7ea5a550c   \n",
       "2  075d178871d8d48502bf1f54887e52fe  79f893ea65c06fe2933f3847c88c272f   \n",
       "3  075d178871d8d48502bf1f54887e52fe  ce577223699dbdc119df2ab8a35457fe   \n",
       "4  075d178871d8d48502bf1f54887e52fe  0ce7ab2950e7a788a608f881aec0f8f0   \n",
       "5  075d178871d8d48502bf1f54887e52fe  01220d4c4ed48cfd6f7ca5f278f9a6f6   \n",
       "6  075d178871d8d48502bf1f54887e52fe  f02cabf07366d25120c9b2e7019a4205   \n",
       "7  075d178871d8d48502bf1f54887e52fe  fb12816c831921ff105fea2197ab26b1   \n",
       "8  075d178871d8d48502bf1f54887e52fe  faf1f94ffdcd14b92523439672079498   \n",
       "9  075d178871d8d48502bf1f54887e52fe  76d975dce75647824a3ff3d1c8e4fa4c   \n",
       "\n",
       "                         subsidiary    transaction_date  \\\n",
       "0  824b2af470cbe6a65b15650e03b740fc 2021-09-12 18:32:03   \n",
       "1  2d8d34be7509a6b1262336d036fdb324 2021-09-12 18:31:58   \n",
       "2  5eeb18254850b21af0a6bb2697913cd3 2021-09-12 18:31:56   \n",
       "3  5221a599856c0a0588ed9ffd150edd3b 2021-09-12 18:31:10   \n",
       "4  971e55ef12d80ec070ea4f6750c8b892 2021-09-12 18:31:07   \n",
       "5  76aca4525838053ca0d5ba8e37f1ffe8 2021-09-12 18:31:06   \n",
       "6  6b102b2df10e986bd97b1b5713be0843 2021-09-12 18:30:55   \n",
       "7  3ae3115ca051e75384016f7dbe2e1c44 2021-09-12 18:30:44   \n",
       "8  408c74e90c79b159c91267b8fdf11053 2021-09-12 18:30:15   \n",
       "9  30e5a216a97f0b59114d79b0b69061a2 2021-09-12 18:29:45   \n",
       "\n",
       "                     account_number                           user_id  \\\n",
       "0  648e257c9d74909a1f61c54b93a9e1b3  ba42d192a145583ba8e7bf04875f837f   \n",
       "1  c0b62f9046c83ea5543ea46a497a4d6e  5cfff960ea6d732c1ba3e63d24f3be52   \n",
       "2  872d10143fc0ac7d5de467806f6bef81  c97e63a92c82c7217b333635d75928ed   \n",
       "3  2e35cfe7860a480a93e1c83e99843579  fc09bdd00f283222d65eaff4d00a6594   \n",
       "4  995bc89e4c4e00334f1f90c4a55f4729  213527e8ba94fcaf2f9378969f9f6abc   \n",
       "5  a32395153b2dc1383304bd2c33990a78  d1022ab075c2a2cf681398670d2bf8a1   \n",
       "6  2dd7afef1abfbfbbb68b6a31df70fc91  d6b9f3858016e0581e006ad574e23c6c   \n",
       "7  b203ec1d2e5355a406451c5a664fd1fe  fed67132093416ba01a45b31d907d437   \n",
       "8  8bd7618563c9e4e9c1cee885a8816188  09e64f7c1df4eb1acd93733bc7c699a7   \n",
       "9  c4703b5e8501767be83fe2b258ffc7ee  320b4b756f3584ee36738cf8cd60a581   \n",
       "\n",
       "   transaction_amount transaction_type  \n",
       "0          178.333650          CREDITO  \n",
       "1           35.666730          CREDITO  \n",
       "2          142.666920          CREDITO  \n",
       "3            8.322237          CREDITO  \n",
       "4           32.100057          CREDITO  \n",
       "5           59.444550          CREDITO  \n",
       "6           11.888910          CREDITO  \n",
       "7           29.722275          CREDITO  \n",
       "8           23.777820          CREDITO  \n",
       "9           41.611185          CREDITO  "
      ]
     },
     "execution_count": 6,
     "metadata": {},
     "output_type": "execute_result"
    }
   ],
   "source": [
    "query = f\"\"\"\n",
    "    SELECT\n",
    "        *\n",
    "    FROM\n",
    "        '{file_1_path}'\n",
    "    LIMIT 10\n",
    "\"\"\"\n",
    "\n",
    "sample_df = con.execute(query).df()\n",
    "sample_df"
   ]
  },
  {
   "cell_type": "markdown",
   "id": "79795829",
   "metadata": {},
   "source": [
    "# Realizar conteos, unicos y nulos por\n",
    "\n",
    "- Analizar\n",
    "- Agrupar por `usuer_id`, `merchant_id` -> encontrar transacciones dobles en plazos de 24 horas"
   ]
  },
  {
   "cell_type": "code",
   "execution_count": 7,
   "id": "262e9eff",
   "metadata": {},
   "outputs": [
    {
     "data": {
      "application/vnd.microsoft.datawrangler.viewer.v0+json": {
       "columns": [
        {
         "name": "index",
         "rawType": "int64",
         "type": "integer"
        },
        {
         "name": "unique_ids",
         "rawType": "int64",
         "type": "integer"
        },
        {
         "name": "unique_user_ids",
         "rawType": "int64",
         "type": "integer"
        },
        {
         "name": "unique_merchant_ids",
         "rawType": "int64",
         "type": "integer"
        },
        {
         "name": "unique_subsidiary_ids",
         "rawType": "int64",
         "type": "integer"
        },
        {
         "name": "unique_transaction_dates",
         "rawType": "int64",
         "type": "integer"
        },
        {
         "name": "unique_account_numbers",
         "rawType": "int64",
         "type": "integer"
        },
        {
         "name": "transaction_amounts",
         "rawType": "int64",
         "type": "integer"
        },
        {
         "name": "unique_transaction_types",
         "rawType": "int64",
         "type": "integer"
        }
       ],
       "ref": "93ad11e3-184e-4ead-b3fa-4671ad5f25e4",
       "rows": [
        [
         "0",
         "10758411",
         "1948844",
         "3",
         "16052",
         "7615997",
         "1954040",
         "10758418",
         "2"
        ]
       ],
       "shape": {
        "columns": 8,
        "rows": 1
       }
      },
      "text/html": [
       "<div>\n",
       "<style scoped>\n",
       "    .dataframe tbody tr th:only-of-type {\n",
       "        vertical-align: middle;\n",
       "    }\n",
       "\n",
       "    .dataframe tbody tr th {\n",
       "        vertical-align: top;\n",
       "    }\n",
       "\n",
       "    .dataframe thead th {\n",
       "        text-align: right;\n",
       "    }\n",
       "</style>\n",
       "<table border=\"1\" class=\"dataframe\">\n",
       "  <thead>\n",
       "    <tr style=\"text-align: right;\">\n",
       "      <th></th>\n",
       "      <th>unique_ids</th>\n",
       "      <th>unique_user_ids</th>\n",
       "      <th>unique_merchant_ids</th>\n",
       "      <th>unique_subsidiary_ids</th>\n",
       "      <th>unique_transaction_dates</th>\n",
       "      <th>unique_account_numbers</th>\n",
       "      <th>transaction_amounts</th>\n",
       "      <th>unique_transaction_types</th>\n",
       "    </tr>\n",
       "  </thead>\n",
       "  <tbody>\n",
       "    <tr>\n",
       "      <th>0</th>\n",
       "      <td>10758411</td>\n",
       "      <td>1948844</td>\n",
       "      <td>3</td>\n",
       "      <td>16052</td>\n",
       "      <td>7615997</td>\n",
       "      <td>1954040</td>\n",
       "      <td>10758418</td>\n",
       "      <td>2</td>\n",
       "    </tr>\n",
       "  </tbody>\n",
       "</table>\n",
       "</div>"
      ],
      "text/plain": [
       "   unique_ids  unique_user_ids  unique_merchant_ids  unique_subsidiary_ids  \\\n",
       "0    10758411          1948844                    3                  16052   \n",
       "\n",
       "   unique_transaction_dates  unique_account_numbers  transaction_amounts  \\\n",
       "0                   7615997                 1954040             10758418   \n",
       "\n",
       "   unique_transaction_types  \n",
       "0                         2  "
      ]
     },
     "execution_count": 7,
     "metadata": {},
     "output_type": "execute_result"
    }
   ],
   "source": [
    "query = f\"\"\"\n",
    "    SELECT \n",
    "        COUNT(DISTINCT _id) AS unique_ids,\n",
    "        COUNT(DISTINCT user_id) AS unique_user_ids,\n",
    "        COUNT(DISTINCT merchant_id) AS unique_merchant_ids,\n",
    "        COUNT(DISTINCT subsidiary) AS unique_subsidiary_ids,\n",
    "        COUNT(DISTINCT transaction_date) AS unique_transaction_dates,\n",
    "        COUNT(DISTINCT account_number) AS unique_account_numbers,\n",
    "        COUNT(transaction_amount) AS transaction_amounts,\n",
    "        COUNT(DISTINCT transaction_type) AS unique_transaction_types\n",
    "    FROM \n",
    "        '{file_1_path}'\n",
    "\"\"\"\n",
    "unique_counts = con.execute(query).df()\n",
    "unique_counts"
   ]
  },
  {
   "cell_type": "markdown",
   "id": "e460f865",
   "metadata": {},
   "source": [
    "## ok so there was found important key facts:\n",
    "\n",
    "- There are not as many _id as the total number of rows, maybe duplicates?\n",
    "- There are only 3 merchant_ids, I was expecting more variety, but subsidiary ids are more varied with 16052 unique values\n",
    "- There are a little bit more unique_accounts that user_ids, maybe users have more than one account?, but not many more\n",
    "\n",
    "**First** we check the amount of null values in each column"
   ]
  },
  {
   "cell_type": "code",
   "execution_count": 8,
   "id": "743a0a59",
   "metadata": {},
   "outputs": [
    {
     "data": {
      "application/vnd.microsoft.datawrangler.viewer.v0+json": {
       "columns": [
        {
         "name": "index",
         "rawType": "int64",
         "type": "integer"
        },
        {
         "name": "null_ids",
         "rawType": "float64",
         "type": "float"
        },
        {
         "name": "null_user_ids",
         "rawType": "float64",
         "type": "float"
        },
        {
         "name": "null_merchant_ids",
         "rawType": "float64",
         "type": "float"
        },
        {
         "name": "null_subsidiary_ids",
         "rawType": "float64",
         "type": "float"
        },
        {
         "name": "null_transaction_dates",
         "rawType": "float64",
         "type": "float"
        },
        {
         "name": "null_account_numbers",
         "rawType": "float64",
         "type": "float"
        },
        {
         "name": "null_transaction_amounts",
         "rawType": "float64",
         "type": "float"
        },
        {
         "name": "null_transaction_types",
         "rawType": "float64",
         "type": "float"
        }
       ],
       "ref": "1252ba83-26f6-4fcd-a3fe-1cc74c3423a3",
       "rows": [
        [
         "0",
         "0.0",
         "0.0",
         "0.0",
         "0.0",
         "0.0",
         "0.0",
         "0.0",
         "0.0"
        ]
       ],
       "shape": {
        "columns": 8,
        "rows": 1
       }
      },
      "text/html": [
       "<div>\n",
       "<style scoped>\n",
       "    .dataframe tbody tr th:only-of-type {\n",
       "        vertical-align: middle;\n",
       "    }\n",
       "\n",
       "    .dataframe tbody tr th {\n",
       "        vertical-align: top;\n",
       "    }\n",
       "\n",
       "    .dataframe thead th {\n",
       "        text-align: right;\n",
       "    }\n",
       "</style>\n",
       "<table border=\"1\" class=\"dataframe\">\n",
       "  <thead>\n",
       "    <tr style=\"text-align: right;\">\n",
       "      <th></th>\n",
       "      <th>null_ids</th>\n",
       "      <th>null_user_ids</th>\n",
       "      <th>null_merchant_ids</th>\n",
       "      <th>null_subsidiary_ids</th>\n",
       "      <th>null_transaction_dates</th>\n",
       "      <th>null_account_numbers</th>\n",
       "      <th>null_transaction_amounts</th>\n",
       "      <th>null_transaction_types</th>\n",
       "    </tr>\n",
       "  </thead>\n",
       "  <tbody>\n",
       "    <tr>\n",
       "      <th>0</th>\n",
       "      <td>0.0</td>\n",
       "      <td>0.0</td>\n",
       "      <td>0.0</td>\n",
       "      <td>0.0</td>\n",
       "      <td>0.0</td>\n",
       "      <td>0.0</td>\n",
       "      <td>0.0</td>\n",
       "      <td>0.0</td>\n",
       "    </tr>\n",
       "  </tbody>\n",
       "</table>\n",
       "</div>"
      ],
      "text/plain": [
       "   null_ids  null_user_ids  null_merchant_ids  null_subsidiary_ids  \\\n",
       "0       0.0            0.0                0.0                  0.0   \n",
       "\n",
       "   null_transaction_dates  null_account_numbers  null_transaction_amounts  \\\n",
       "0                     0.0                   0.0                       0.0   \n",
       "\n",
       "   null_transaction_types  \n",
       "0                     0.0  "
      ]
     },
     "execution_count": 8,
     "metadata": {},
     "output_type": "execute_result"
    }
   ],
   "source": [
    "query = f\"\"\"\n",
    "    SELECT \n",
    "        SUM(CASE WHEN _id IS NULL THEN 1 ELSE 0 END) AS null_ids,\n",
    "        SUM(CASE WHEN user_id IS NULL THEN 1 ELSE 0 END) AS null_user_ids,\n",
    "        SUM(CASE WHEN merchant_id IS NULL THEN 1 ELSE 0 END) AS null_merchant_ids,\n",
    "        SUM(CASE WHEN subsidiary IS NULL THEN 1 ELSE 0 END) AS null_subsidiary_ids,\n",
    "        SUM(CASE WHEN transaction_date IS NULL THEN 1 ELSE 0 END) AS null_transaction_dates,\n",
    "        SUM(CASE WHEN account_number IS NULL THEN 1 ELSE 0 END) AS null_account_numbers,\n",
    "        SUM(CASE WHEN transaction_amount IS NULL THEN 1 ELSE 0 END) AS null_transaction_amounts,\n",
    "        SUM(CASE WHEN transaction_type IS NULL THEN 1 ELSE 0 END) AS null_transaction_types\n",
    "    FROM \n",
    "        '{file_1_path}'\n",
    "\"\"\"\n",
    "\n",
    "null_counts = con.execute(query).df()\n",
    "null_counts"
   ]
  },
  {
   "cell_type": "markdown",
   "id": "b981ff09",
   "metadata": {},
   "source": [
    "### What are the duplicated values in _id column?"
   ]
  },
  {
   "cell_type": "code",
   "execution_count": 9,
   "id": "9dc828d8",
   "metadata": {},
   "outputs": [
    {
     "data": {
      "application/vnd.microsoft.datawrangler.viewer.v0+json": {
       "columns": [
        {
         "name": "index",
         "rawType": "int64",
         "type": "integer"
        },
        {
         "name": "merchant_id",
         "rawType": "object",
         "type": "string"
        },
        {
         "name": "_id",
         "rawType": "object",
         "type": "string"
        },
        {
         "name": "subsidiary",
         "rawType": "object",
         "type": "string"
        },
        {
         "name": "transaction_date",
         "rawType": "datetime64[us]",
         "type": "unknown"
        },
        {
         "name": "account_number",
         "rawType": "object",
         "type": "string"
        },
        {
         "name": "user_id",
         "rawType": "object",
         "type": "string"
        },
        {
         "name": "transaction_amount",
         "rawType": "float64",
         "type": "float"
        },
        {
         "name": "transaction_type",
         "rawType": "object",
         "type": "string"
        }
       ],
       "ref": "cb673e2d-f222-4f23-8769-3e59ed46afc9",
       "rows": [
        [
         "0",
         "075d178871d8d48502bf1f54887e52fe",
         "53f3b7bf5cf7c5509279f385eedca459",
         "09f6be1ff97081582f7ae1b4aa8e163e",
         "2021-08-23 10:49:08",
         "669223a6679cd07a026f97fe4b197651",
         "157b9aa3eb0ad227e4580095c4e4e721",
         "63.01122313",
         "CREDITO"
        ],
        [
         "1",
         "075d178871d8d48502bf1f54887e52fe",
         "53f3b7bf5cf7c5509279f385eedca459",
         "09f6be1ff97081582f7ae1b4aa8e163e",
         "2021-08-23 10:49:08",
         "669223a6679cd07a026f97fe4b197651",
         "157b9aa3eb0ad227e4580095c4e4e721",
         "63.01122313",
         "CREDITO"
        ],
        [
         "2",
         "838a8fa992a4aa2fb5a0cf8b15b63755",
         "d737f8d70694471f3061002db7fb2ac1",
         "fb06b4a71938b984fc729784c1db0fca",
         "2021-09-05 15:44:13",
         "79f3ffcf1cdf1d6e7166e9ef87d64247",
         "cb5364b29887ac940a8fc0eb02f7e6e4",
         "99.8668442",
         "CREDITO"
        ],
        [
         "3",
         "838a8fa992a4aa2fb5a0cf8b15b63755",
         "d737f8d70694471f3061002db7fb2ac1",
         "fb06b4a71938b984fc729784c1db0fca",
         "2021-09-05 15:44:13",
         "79f3ffcf1cdf1d6e7166e9ef87d64247",
         "cb5364b29887ac940a8fc0eb02f7e6e4",
         "99.8668442",
         "CREDITO"
        ],
        [
         "4",
         "075d178871d8d48502bf1f54887e52fe",
         "c52a54da9927f445e5f621d6dac29bf4",
         "ef6ca49817c5526c145d3cf89b79ba5b",
         "2021-08-03 16:10:11",
         "4e355451697d9365322913f3e4117503",
         "4e6b357a05727beeb7d7faf836554683",
         "23.77782004",
         "CREDITO"
        ],
        [
         "5",
         "075d178871d8d48502bf1f54887e52fe",
         "c52a54da9927f445e5f621d6dac29bf4",
         "ef6ca49817c5526c145d3cf89b79ba5b",
         "2021-08-03 16:10:10",
         "4e355451697d9365322913f3e4117503",
         "4e6b357a05727beeb7d7faf836554683",
         "23.77782004",
         "CREDITO"
        ],
        [
         "6",
         "075d178871d8d48502bf1f54887e52fe",
         "52227fbe95311404092cbc8fbf2d320b",
         "024b459a0851f51d731099ac10d1b30a",
         "2021-08-26 14:58:58",
         "8495c31cd0ba9c1c6ccf493cdf0e3558",
         "6405b4845df13af0ca2f03714ff486c2",
         "475.55640098",
         "CREDITO"
        ],
        [
         "7",
         "075d178871d8d48502bf1f54887e52fe",
         "52227fbe95311404092cbc8fbf2d320b",
         "024b459a0851f51d731099ac10d1b30a",
         "2021-08-26 14:58:58",
         "8495c31cd0ba9c1c6ccf493cdf0e3558",
         "6405b4845df13af0ca2f03714ff486c2",
         "475.55640098",
         "CREDITO"
        ],
        [
         "8",
         "075d178871d8d48502bf1f54887e52fe",
         "b93a2bb461682a71f593049250e68a4e",
         "da3fd12109b5ca658dae0e3c7906a295",
         "2021-08-27 15:43:22",
         "b5bd0f7cbf4d757287cd200d77a5a3cb",
         "0c2cb49e26661d64eb28a05704c484d2",
         "47.55564009",
         "CREDITO"
        ],
        [
         "9",
         "075d178871d8d48502bf1f54887e52fe",
         "b93a2bb461682a71f593049250e68a4e",
         "da3fd12109b5ca658dae0e3c7906a295",
         "2021-08-27 15:43:21",
         "b5bd0f7cbf4d757287cd200d77a5a3cb",
         "0c2cb49e26661d64eb28a05704c484d2",
         "47.55564009",
         "CREDITO"
        ],
        [
         "10",
         "838a8fa992a4aa2fb5a0cf8b15b63755",
         "8f5418532506951085466a90e0359377",
         "6c8343dbee2910b629ff68d9a66543d2",
         "2021-09-08 10:20:40",
         "e3fe1835484bf56eea4bbdd7d97c3f27",
         "6866c2ba6962fced9e8275bc505ef914",
         "594.44550123",
         "CREDITO"
        ],
        [
         "11",
         "838a8fa992a4aa2fb5a0cf8b15b63755",
         "8f5418532506951085466a90e0359377",
         "6c8343dbee2910b629ff68d9a66543d2",
         "2021-09-08 10:20:40",
         "e3fe1835484bf56eea4bbdd7d97c3f27",
         "6866c2ba6962fced9e8275bc505ef914",
         "594.44550123",
         "CREDITO"
        ],
        [
         "12",
         "075d178871d8d48502bf1f54887e52fe",
         "01dd3dc328d6c7e40453c509311f3b74",
         "62c21974aa375cd2689a8e883520c9da",
         "2021-09-17 16:19:28",
         "1fdcb18a9c87137a828cf01e5505e165",
         "ad5fade2b0f886d802c910ac58f69835",
         "118.88910024",
         "CREDITO"
        ],
        [
         "13",
         "075d178871d8d48502bf1f54887e52fe",
         "01dd3dc328d6c7e40453c509311f3b74",
         "62c21974aa375cd2689a8e883520c9da",
         "2021-09-17 16:19:27",
         "1fdcb18a9c87137a828cf01e5505e165",
         "ad5fade2b0f886d802c910ac58f69835",
         "118.88910024",
         "CREDITO"
        ]
       ],
       "shape": {
        "columns": 8,
        "rows": 14
       }
      },
      "text/html": [
       "<div>\n",
       "<style scoped>\n",
       "    .dataframe tbody tr th:only-of-type {\n",
       "        vertical-align: middle;\n",
       "    }\n",
       "\n",
       "    .dataframe tbody tr th {\n",
       "        vertical-align: top;\n",
       "    }\n",
       "\n",
       "    .dataframe thead th {\n",
       "        text-align: right;\n",
       "    }\n",
       "</style>\n",
       "<table border=\"1\" class=\"dataframe\">\n",
       "  <thead>\n",
       "    <tr style=\"text-align: right;\">\n",
       "      <th></th>\n",
       "      <th>merchant_id</th>\n",
       "      <th>_id</th>\n",
       "      <th>subsidiary</th>\n",
       "      <th>transaction_date</th>\n",
       "      <th>account_number</th>\n",
       "      <th>user_id</th>\n",
       "      <th>transaction_amount</th>\n",
       "      <th>transaction_type</th>\n",
       "    </tr>\n",
       "  </thead>\n",
       "  <tbody>\n",
       "    <tr>\n",
       "      <th>0</th>\n",
       "      <td>075d178871d8d48502bf1f54887e52fe</td>\n",
       "      <td>53f3b7bf5cf7c5509279f385eedca459</td>\n",
       "      <td>09f6be1ff97081582f7ae1b4aa8e163e</td>\n",
       "      <td>2021-08-23 10:49:08</td>\n",
       "      <td>669223a6679cd07a026f97fe4b197651</td>\n",
       "      <td>157b9aa3eb0ad227e4580095c4e4e721</td>\n",
       "      <td>63.011223</td>\n",
       "      <td>CREDITO</td>\n",
       "    </tr>\n",
       "    <tr>\n",
       "      <th>1</th>\n",
       "      <td>075d178871d8d48502bf1f54887e52fe</td>\n",
       "      <td>53f3b7bf5cf7c5509279f385eedca459</td>\n",
       "      <td>09f6be1ff97081582f7ae1b4aa8e163e</td>\n",
       "      <td>2021-08-23 10:49:08</td>\n",
       "      <td>669223a6679cd07a026f97fe4b197651</td>\n",
       "      <td>157b9aa3eb0ad227e4580095c4e4e721</td>\n",
       "      <td>63.011223</td>\n",
       "      <td>CREDITO</td>\n",
       "    </tr>\n",
       "    <tr>\n",
       "      <th>2</th>\n",
       "      <td>838a8fa992a4aa2fb5a0cf8b15b63755</td>\n",
       "      <td>d737f8d70694471f3061002db7fb2ac1</td>\n",
       "      <td>fb06b4a71938b984fc729784c1db0fca</td>\n",
       "      <td>2021-09-05 15:44:13</td>\n",
       "      <td>79f3ffcf1cdf1d6e7166e9ef87d64247</td>\n",
       "      <td>cb5364b29887ac940a8fc0eb02f7e6e4</td>\n",
       "      <td>99.866844</td>\n",
       "      <td>CREDITO</td>\n",
       "    </tr>\n",
       "    <tr>\n",
       "      <th>3</th>\n",
       "      <td>838a8fa992a4aa2fb5a0cf8b15b63755</td>\n",
       "      <td>d737f8d70694471f3061002db7fb2ac1</td>\n",
       "      <td>fb06b4a71938b984fc729784c1db0fca</td>\n",
       "      <td>2021-09-05 15:44:13</td>\n",
       "      <td>79f3ffcf1cdf1d6e7166e9ef87d64247</td>\n",
       "      <td>cb5364b29887ac940a8fc0eb02f7e6e4</td>\n",
       "      <td>99.866844</td>\n",
       "      <td>CREDITO</td>\n",
       "    </tr>\n",
       "    <tr>\n",
       "      <th>4</th>\n",
       "      <td>075d178871d8d48502bf1f54887e52fe</td>\n",
       "      <td>c52a54da9927f445e5f621d6dac29bf4</td>\n",
       "      <td>ef6ca49817c5526c145d3cf89b79ba5b</td>\n",
       "      <td>2021-08-03 16:10:11</td>\n",
       "      <td>4e355451697d9365322913f3e4117503</td>\n",
       "      <td>4e6b357a05727beeb7d7faf836554683</td>\n",
       "      <td>23.777820</td>\n",
       "      <td>CREDITO</td>\n",
       "    </tr>\n",
       "    <tr>\n",
       "      <th>5</th>\n",
       "      <td>075d178871d8d48502bf1f54887e52fe</td>\n",
       "      <td>c52a54da9927f445e5f621d6dac29bf4</td>\n",
       "      <td>ef6ca49817c5526c145d3cf89b79ba5b</td>\n",
       "      <td>2021-08-03 16:10:10</td>\n",
       "      <td>4e355451697d9365322913f3e4117503</td>\n",
       "      <td>4e6b357a05727beeb7d7faf836554683</td>\n",
       "      <td>23.777820</td>\n",
       "      <td>CREDITO</td>\n",
       "    </tr>\n",
       "    <tr>\n",
       "      <th>6</th>\n",
       "      <td>075d178871d8d48502bf1f54887e52fe</td>\n",
       "      <td>52227fbe95311404092cbc8fbf2d320b</td>\n",
       "      <td>024b459a0851f51d731099ac10d1b30a</td>\n",
       "      <td>2021-08-26 14:58:58</td>\n",
       "      <td>8495c31cd0ba9c1c6ccf493cdf0e3558</td>\n",
       "      <td>6405b4845df13af0ca2f03714ff486c2</td>\n",
       "      <td>475.556401</td>\n",
       "      <td>CREDITO</td>\n",
       "    </tr>\n",
       "    <tr>\n",
       "      <th>7</th>\n",
       "      <td>075d178871d8d48502bf1f54887e52fe</td>\n",
       "      <td>52227fbe95311404092cbc8fbf2d320b</td>\n",
       "      <td>024b459a0851f51d731099ac10d1b30a</td>\n",
       "      <td>2021-08-26 14:58:58</td>\n",
       "      <td>8495c31cd0ba9c1c6ccf493cdf0e3558</td>\n",
       "      <td>6405b4845df13af0ca2f03714ff486c2</td>\n",
       "      <td>475.556401</td>\n",
       "      <td>CREDITO</td>\n",
       "    </tr>\n",
       "    <tr>\n",
       "      <th>8</th>\n",
       "      <td>075d178871d8d48502bf1f54887e52fe</td>\n",
       "      <td>b93a2bb461682a71f593049250e68a4e</td>\n",
       "      <td>da3fd12109b5ca658dae0e3c7906a295</td>\n",
       "      <td>2021-08-27 15:43:22</td>\n",
       "      <td>b5bd0f7cbf4d757287cd200d77a5a3cb</td>\n",
       "      <td>0c2cb49e26661d64eb28a05704c484d2</td>\n",
       "      <td>47.555640</td>\n",
       "      <td>CREDITO</td>\n",
       "    </tr>\n",
       "    <tr>\n",
       "      <th>9</th>\n",
       "      <td>075d178871d8d48502bf1f54887e52fe</td>\n",
       "      <td>b93a2bb461682a71f593049250e68a4e</td>\n",
       "      <td>da3fd12109b5ca658dae0e3c7906a295</td>\n",
       "      <td>2021-08-27 15:43:21</td>\n",
       "      <td>b5bd0f7cbf4d757287cd200d77a5a3cb</td>\n",
       "      <td>0c2cb49e26661d64eb28a05704c484d2</td>\n",
       "      <td>47.555640</td>\n",
       "      <td>CREDITO</td>\n",
       "    </tr>\n",
       "    <tr>\n",
       "      <th>10</th>\n",
       "      <td>838a8fa992a4aa2fb5a0cf8b15b63755</td>\n",
       "      <td>8f5418532506951085466a90e0359377</td>\n",
       "      <td>6c8343dbee2910b629ff68d9a66543d2</td>\n",
       "      <td>2021-09-08 10:20:40</td>\n",
       "      <td>e3fe1835484bf56eea4bbdd7d97c3f27</td>\n",
       "      <td>6866c2ba6962fced9e8275bc505ef914</td>\n",
       "      <td>594.445501</td>\n",
       "      <td>CREDITO</td>\n",
       "    </tr>\n",
       "    <tr>\n",
       "      <th>11</th>\n",
       "      <td>838a8fa992a4aa2fb5a0cf8b15b63755</td>\n",
       "      <td>8f5418532506951085466a90e0359377</td>\n",
       "      <td>6c8343dbee2910b629ff68d9a66543d2</td>\n",
       "      <td>2021-09-08 10:20:40</td>\n",
       "      <td>e3fe1835484bf56eea4bbdd7d97c3f27</td>\n",
       "      <td>6866c2ba6962fced9e8275bc505ef914</td>\n",
       "      <td>594.445501</td>\n",
       "      <td>CREDITO</td>\n",
       "    </tr>\n",
       "    <tr>\n",
       "      <th>12</th>\n",
       "      <td>075d178871d8d48502bf1f54887e52fe</td>\n",
       "      <td>01dd3dc328d6c7e40453c509311f3b74</td>\n",
       "      <td>62c21974aa375cd2689a8e883520c9da</td>\n",
       "      <td>2021-09-17 16:19:28</td>\n",
       "      <td>1fdcb18a9c87137a828cf01e5505e165</td>\n",
       "      <td>ad5fade2b0f886d802c910ac58f69835</td>\n",
       "      <td>118.889100</td>\n",
       "      <td>CREDITO</td>\n",
       "    </tr>\n",
       "    <tr>\n",
       "      <th>13</th>\n",
       "      <td>075d178871d8d48502bf1f54887e52fe</td>\n",
       "      <td>01dd3dc328d6c7e40453c509311f3b74</td>\n",
       "      <td>62c21974aa375cd2689a8e883520c9da</td>\n",
       "      <td>2021-09-17 16:19:27</td>\n",
       "      <td>1fdcb18a9c87137a828cf01e5505e165</td>\n",
       "      <td>ad5fade2b0f886d802c910ac58f69835</td>\n",
       "      <td>118.889100</td>\n",
       "      <td>CREDITO</td>\n",
       "    </tr>\n",
       "  </tbody>\n",
       "</table>\n",
       "</div>"
      ],
      "text/plain": [
       "                         merchant_id                               _id  \\\n",
       "0   075d178871d8d48502bf1f54887e52fe  53f3b7bf5cf7c5509279f385eedca459   \n",
       "1   075d178871d8d48502bf1f54887e52fe  53f3b7bf5cf7c5509279f385eedca459   \n",
       "2   838a8fa992a4aa2fb5a0cf8b15b63755  d737f8d70694471f3061002db7fb2ac1   \n",
       "3   838a8fa992a4aa2fb5a0cf8b15b63755  d737f8d70694471f3061002db7fb2ac1   \n",
       "4   075d178871d8d48502bf1f54887e52fe  c52a54da9927f445e5f621d6dac29bf4   \n",
       "5   075d178871d8d48502bf1f54887e52fe  c52a54da9927f445e5f621d6dac29bf4   \n",
       "6   075d178871d8d48502bf1f54887e52fe  52227fbe95311404092cbc8fbf2d320b   \n",
       "7   075d178871d8d48502bf1f54887e52fe  52227fbe95311404092cbc8fbf2d320b   \n",
       "8   075d178871d8d48502bf1f54887e52fe  b93a2bb461682a71f593049250e68a4e   \n",
       "9   075d178871d8d48502bf1f54887e52fe  b93a2bb461682a71f593049250e68a4e   \n",
       "10  838a8fa992a4aa2fb5a0cf8b15b63755  8f5418532506951085466a90e0359377   \n",
       "11  838a8fa992a4aa2fb5a0cf8b15b63755  8f5418532506951085466a90e0359377   \n",
       "12  075d178871d8d48502bf1f54887e52fe  01dd3dc328d6c7e40453c509311f3b74   \n",
       "13  075d178871d8d48502bf1f54887e52fe  01dd3dc328d6c7e40453c509311f3b74   \n",
       "\n",
       "                          subsidiary    transaction_date  \\\n",
       "0   09f6be1ff97081582f7ae1b4aa8e163e 2021-08-23 10:49:08   \n",
       "1   09f6be1ff97081582f7ae1b4aa8e163e 2021-08-23 10:49:08   \n",
       "2   fb06b4a71938b984fc729784c1db0fca 2021-09-05 15:44:13   \n",
       "3   fb06b4a71938b984fc729784c1db0fca 2021-09-05 15:44:13   \n",
       "4   ef6ca49817c5526c145d3cf89b79ba5b 2021-08-03 16:10:11   \n",
       "5   ef6ca49817c5526c145d3cf89b79ba5b 2021-08-03 16:10:10   \n",
       "6   024b459a0851f51d731099ac10d1b30a 2021-08-26 14:58:58   \n",
       "7   024b459a0851f51d731099ac10d1b30a 2021-08-26 14:58:58   \n",
       "8   da3fd12109b5ca658dae0e3c7906a295 2021-08-27 15:43:22   \n",
       "9   da3fd12109b5ca658dae0e3c7906a295 2021-08-27 15:43:21   \n",
       "10  6c8343dbee2910b629ff68d9a66543d2 2021-09-08 10:20:40   \n",
       "11  6c8343dbee2910b629ff68d9a66543d2 2021-09-08 10:20:40   \n",
       "12  62c21974aa375cd2689a8e883520c9da 2021-09-17 16:19:28   \n",
       "13  62c21974aa375cd2689a8e883520c9da 2021-09-17 16:19:27   \n",
       "\n",
       "                      account_number                           user_id  \\\n",
       "0   669223a6679cd07a026f97fe4b197651  157b9aa3eb0ad227e4580095c4e4e721   \n",
       "1   669223a6679cd07a026f97fe4b197651  157b9aa3eb0ad227e4580095c4e4e721   \n",
       "2   79f3ffcf1cdf1d6e7166e9ef87d64247  cb5364b29887ac940a8fc0eb02f7e6e4   \n",
       "3   79f3ffcf1cdf1d6e7166e9ef87d64247  cb5364b29887ac940a8fc0eb02f7e6e4   \n",
       "4   4e355451697d9365322913f3e4117503  4e6b357a05727beeb7d7faf836554683   \n",
       "5   4e355451697d9365322913f3e4117503  4e6b357a05727beeb7d7faf836554683   \n",
       "6   8495c31cd0ba9c1c6ccf493cdf0e3558  6405b4845df13af0ca2f03714ff486c2   \n",
       "7   8495c31cd0ba9c1c6ccf493cdf0e3558  6405b4845df13af0ca2f03714ff486c2   \n",
       "8   b5bd0f7cbf4d757287cd200d77a5a3cb  0c2cb49e26661d64eb28a05704c484d2   \n",
       "9   b5bd0f7cbf4d757287cd200d77a5a3cb  0c2cb49e26661d64eb28a05704c484d2   \n",
       "10  e3fe1835484bf56eea4bbdd7d97c3f27  6866c2ba6962fced9e8275bc505ef914   \n",
       "11  e3fe1835484bf56eea4bbdd7d97c3f27  6866c2ba6962fced9e8275bc505ef914   \n",
       "12  1fdcb18a9c87137a828cf01e5505e165  ad5fade2b0f886d802c910ac58f69835   \n",
       "13  1fdcb18a9c87137a828cf01e5505e165  ad5fade2b0f886d802c910ac58f69835   \n",
       "\n",
       "    transaction_amount transaction_type  \n",
       "0            63.011223          CREDITO  \n",
       "1            63.011223          CREDITO  \n",
       "2            99.866844          CREDITO  \n",
       "3            99.866844          CREDITO  \n",
       "4            23.777820          CREDITO  \n",
       "5            23.777820          CREDITO  \n",
       "6           475.556401          CREDITO  \n",
       "7           475.556401          CREDITO  \n",
       "8            47.555640          CREDITO  \n",
       "9            47.555640          CREDITO  \n",
       "10          594.445501          CREDITO  \n",
       "11          594.445501          CREDITO  \n",
       "12          118.889100          CREDITO  \n",
       "13          118.889100          CREDITO  "
      ]
     },
     "execution_count": 9,
     "metadata": {},
     "output_type": "execute_result"
    }
   ],
   "source": [
    "query = f\"\"\"\n",
    "    SELECT \n",
    "        *\n",
    "    FROM \n",
    "        '{file_1_path}'\n",
    "    WHERE \n",
    "        _id IN (\n",
    "        SELECT\n",
    "            _id\n",
    "        FROM \n",
    "            '{file_1_path}'\n",
    "        GROUP BY \n",
    "            _id\n",
    "        HAVING \n",
    "            COUNT(*) > 1\n",
    "        )\n",
    "\"\"\"\n",
    "\n",
    "duplicated_ids = con.execute(query).df()\n",
    "duplicated_ids"
   ]
  },
  {
   "cell_type": "markdown",
   "id": "c4edf02c",
   "metadata": {},
   "source": [
    "#### Ok so it seems that duplicated rows correspond to the same transaction done more than once, maybe the user tried to pay again after a failed attempt? Maybe not because the hour of duplicated transactions concedes. So maybe is an duplicated error. So I will drop the first appearance of each duplicated _id"
   ]
  },
  {
   "cell_type": "code",
   "execution_count": 10,
   "id": "d15086d5",
   "metadata": {},
   "outputs": [
    {
     "data": {
      "application/vnd.microsoft.datawrangler.viewer.v0+json": {
       "columns": [
        {
         "name": "index",
         "rawType": "int64",
         "type": "integer"
        },
        {
         "name": "_id",
         "rawType": "object",
         "type": "string"
        },
        {
         "name": "first_appearance",
         "rawType": "datetime64[us]",
         "type": "unknown"
        }
       ],
       "ref": "3f981927-d35e-4b03-90a3-ef15d33c80aa",
       "rows": [
        [
         "0",
         "52227fbe95311404092cbc8fbf2d320b",
         "2021-08-26 14:58:58"
        ],
        [
         "1",
         "8f5418532506951085466a90e0359377",
         "2021-09-08 10:20:40"
        ],
        [
         "2",
         "b93a2bb461682a71f593049250e68a4e",
         "2021-08-27 15:43:21"
        ],
        [
         "3",
         "d737f8d70694471f3061002db7fb2ac1",
         "2021-09-05 15:44:13"
        ],
        [
         "4",
         "53f3b7bf5cf7c5509279f385eedca459",
         "2021-08-23 10:49:08"
        ],
        [
         "5",
         "c52a54da9927f445e5f621d6dac29bf4",
         "2021-08-03 16:10:10"
        ],
        [
         "6",
         "01dd3dc328d6c7e40453c509311f3b74",
         "2021-09-17 16:19:27"
        ]
       ],
       "shape": {
        "columns": 2,
        "rows": 7
       }
      },
      "text/html": [
       "<div>\n",
       "<style scoped>\n",
       "    .dataframe tbody tr th:only-of-type {\n",
       "        vertical-align: middle;\n",
       "    }\n",
       "\n",
       "    .dataframe tbody tr th {\n",
       "        vertical-align: top;\n",
       "    }\n",
       "\n",
       "    .dataframe thead th {\n",
       "        text-align: right;\n",
       "    }\n",
       "</style>\n",
       "<table border=\"1\" class=\"dataframe\">\n",
       "  <thead>\n",
       "    <tr style=\"text-align: right;\">\n",
       "      <th></th>\n",
       "      <th>_id</th>\n",
       "      <th>first_appearance</th>\n",
       "    </tr>\n",
       "  </thead>\n",
       "  <tbody>\n",
       "    <tr>\n",
       "      <th>0</th>\n",
       "      <td>52227fbe95311404092cbc8fbf2d320b</td>\n",
       "      <td>2021-08-26 14:58:58</td>\n",
       "    </tr>\n",
       "    <tr>\n",
       "      <th>1</th>\n",
       "      <td>8f5418532506951085466a90e0359377</td>\n",
       "      <td>2021-09-08 10:20:40</td>\n",
       "    </tr>\n",
       "    <tr>\n",
       "      <th>2</th>\n",
       "      <td>b93a2bb461682a71f593049250e68a4e</td>\n",
       "      <td>2021-08-27 15:43:21</td>\n",
       "    </tr>\n",
       "    <tr>\n",
       "      <th>3</th>\n",
       "      <td>d737f8d70694471f3061002db7fb2ac1</td>\n",
       "      <td>2021-09-05 15:44:13</td>\n",
       "    </tr>\n",
       "    <tr>\n",
       "      <th>4</th>\n",
       "      <td>53f3b7bf5cf7c5509279f385eedca459</td>\n",
       "      <td>2021-08-23 10:49:08</td>\n",
       "    </tr>\n",
       "    <tr>\n",
       "      <th>5</th>\n",
       "      <td>c52a54da9927f445e5f621d6dac29bf4</td>\n",
       "      <td>2021-08-03 16:10:10</td>\n",
       "    </tr>\n",
       "    <tr>\n",
       "      <th>6</th>\n",
       "      <td>01dd3dc328d6c7e40453c509311f3b74</td>\n",
       "      <td>2021-09-17 16:19:27</td>\n",
       "    </tr>\n",
       "  </tbody>\n",
       "</table>\n",
       "</div>"
      ],
      "text/plain": [
       "                                _id    first_appearance\n",
       "0  52227fbe95311404092cbc8fbf2d320b 2021-08-26 14:58:58\n",
       "1  8f5418532506951085466a90e0359377 2021-09-08 10:20:40\n",
       "2  b93a2bb461682a71f593049250e68a4e 2021-08-27 15:43:21\n",
       "3  d737f8d70694471f3061002db7fb2ac1 2021-09-05 15:44:13\n",
       "4  53f3b7bf5cf7c5509279f385eedca459 2021-08-23 10:49:08\n",
       "5  c52a54da9927f445e5f621d6dac29bf4 2021-08-03 16:10:10\n",
       "6  01dd3dc328d6c7e40453c509311f3b74 2021-09-17 16:19:27"
      ]
     },
     "execution_count": 10,
     "metadata": {},
     "output_type": "execute_result"
    }
   ],
   "source": [
    "exclusion_query = f\"\"\"\n",
    "    SELECT\n",
    "        _id, \n",
    "        MIN(transaction_date) AS first_appearance\n",
    "    FROM \n",
    "        '{file_1_path}'\n",
    "    GROUP BY\n",
    "        _id\n",
    "    HAVING \n",
    "        COUNT(*) > 1\n",
    "\"\"\"\n",
    "\n",
    "exclusion_df = con.execute(exclusion_query).df()\n",
    "exclusion_df"
   ]
  },
  {
   "cell_type": "markdown",
   "id": "c0188623",
   "metadata": {},
   "source": [
    "### I want to perform a query to count the amount of subsidiaries per merchant"
   ]
  },
  {
   "cell_type": "code",
   "execution_count": 11,
   "id": "59b050d1",
   "metadata": {},
   "outputs": [
    {
     "data": {
      "application/vnd.microsoft.datawrangler.viewer.v0+json": {
       "columns": [
        {
         "name": "index",
         "rawType": "int64",
         "type": "integer"
        },
        {
         "name": "merchant_id",
         "rawType": "object",
         "type": "string"
        },
        {
         "name": "unique_subsidiaries",
         "rawType": "int64",
         "type": "integer"
        },
        {
         "name": "total_transactions",
         "rawType": "int64",
         "type": "integer"
        }
       ],
       "ref": "b7030d4a-f24f-4d59-b314-91f12d78485c",
       "rows": [
        [
         "0",
         "838a8fa992a4aa2fb5a0cf8b15b63755",
         "6641",
         "1876700"
        ],
        [
         "1",
         "075d178871d8d48502bf1f54887e52fe",
         "4178",
         "1614618"
        ],
        [
         "2",
         "817d18cd3c31e40e9bff0566baae7758",
         "5233",
         "7267100"
        ]
       ],
       "shape": {
        "columns": 3,
        "rows": 3
       }
      },
      "text/html": [
       "<div>\n",
       "<style scoped>\n",
       "    .dataframe tbody tr th:only-of-type {\n",
       "        vertical-align: middle;\n",
       "    }\n",
       "\n",
       "    .dataframe tbody tr th {\n",
       "        vertical-align: top;\n",
       "    }\n",
       "\n",
       "    .dataframe thead th {\n",
       "        text-align: right;\n",
       "    }\n",
       "</style>\n",
       "<table border=\"1\" class=\"dataframe\">\n",
       "  <thead>\n",
       "    <tr style=\"text-align: right;\">\n",
       "      <th></th>\n",
       "      <th>merchant_id</th>\n",
       "      <th>unique_subsidiaries</th>\n",
       "      <th>total_transactions</th>\n",
       "    </tr>\n",
       "  </thead>\n",
       "  <tbody>\n",
       "    <tr>\n",
       "      <th>0</th>\n",
       "      <td>838a8fa992a4aa2fb5a0cf8b15b63755</td>\n",
       "      <td>6641</td>\n",
       "      <td>1876700</td>\n",
       "    </tr>\n",
       "    <tr>\n",
       "      <th>1</th>\n",
       "      <td>075d178871d8d48502bf1f54887e52fe</td>\n",
       "      <td>4178</td>\n",
       "      <td>1614618</td>\n",
       "    </tr>\n",
       "    <tr>\n",
       "      <th>2</th>\n",
       "      <td>817d18cd3c31e40e9bff0566baae7758</td>\n",
       "      <td>5233</td>\n",
       "      <td>7267100</td>\n",
       "    </tr>\n",
       "  </tbody>\n",
       "</table>\n",
       "</div>"
      ],
      "text/plain": [
       "                        merchant_id  unique_subsidiaries  total_transactions\n",
       "0  838a8fa992a4aa2fb5a0cf8b15b63755                 6641             1876700\n",
       "1  075d178871d8d48502bf1f54887e52fe                 4178             1614618\n",
       "2  817d18cd3c31e40e9bff0566baae7758                 5233             7267100"
      ]
     },
     "execution_count": 11,
     "metadata": {},
     "output_type": "execute_result"
    }
   ],
   "source": [
    "query = f\"\"\"\n",
    "    SELECT \n",
    "        merchant_id,\n",
    "        COUNT(DISTINCT subsidiary) AS unique_subsidiaries,\n",
    "        COUNT(*) AS total_transactions        \n",
    "    FROM \n",
    "        '{file_1_path}'\n",
    "    GROUP BY \n",
    "        merchant_id\n",
    "\"\"\"\n",
    "\n",
    "subsidiary_counts = con.execute(query).df()\n",
    "subsidiary_counts"
   ]
  },
  {
   "cell_type": "markdown",
   "id": "fb89b387",
   "metadata": {},
   "source": [
    "# Now lets indentify the cases where transactional fractioning happened.\n",
    "\n",
    "**First case:** we identify cases where same user in same day made more than 1 transaction to same merchant"
   ]
  },
  {
   "cell_type": "code",
   "execution_count": 12,
   "id": "7434995c",
   "metadata": {},
   "outputs": [
    {
     "data": {
      "application/vnd.microsoft.datawrangler.viewer.v0+json": {
       "columns": [
        {
         "name": "index",
         "rawType": "int64",
         "type": "integer"
        },
        {
         "name": "user_id",
         "rawType": "object",
         "type": "string"
        },
        {
         "name": "merchant_id",
         "rawType": "object",
         "type": "string"
        },
        {
         "name": "transaction_day",
         "rawType": "datetime64[us]",
         "type": "unknown"
        },
        {
         "name": "transaction_counts",
         "rawType": "int64",
         "type": "integer"
        }
       ],
       "ref": "46fa63e3-93b8-4016-9afc-74f515d02fae",
       "rows": [
        [
         "0",
         "71aa1651d9adc0b226107084fba3d71c",
         "838a8fa992a4aa2fb5a0cf8b15b63755",
         "2021-02-07 00:00:00",
         "288"
        ],
        [
         "1",
         "77704d483fbd7a54a0da2589b9eb4d14",
         "838a8fa992a4aa2fb5a0cf8b15b63755",
         "2021-01-23 00:00:00",
         "200"
        ],
        [
         "2",
         "684202021037f203f2f2258f5f1819a4",
         "838a8fa992a4aa2fb5a0cf8b15b63755",
         "2021-01-20 00:00:00",
         "200"
        ],
        [
         "3",
         "f578e090182426cd7196f66c0f77e90c",
         "838a8fa992a4aa2fb5a0cf8b15b63755",
         "2021-02-16 00:00:00",
         "200"
        ],
        [
         "4",
         "5e674596af22a66e826bf15b2a363cce",
         "838a8fa992a4aa2fb5a0cf8b15b63755",
         "2021-02-10 00:00:00",
         "200"
        ],
        [
         "5",
         "01c2e0350f7d77f4084502861b4989ff",
         "838a8fa992a4aa2fb5a0cf8b15b63755",
         "2021-02-05 00:00:00",
         "200"
        ],
        [
         "6",
         "5e674596af22a66e826bf15b2a363cce",
         "838a8fa992a4aa2fb5a0cf8b15b63755",
         "2021-02-07 00:00:00",
         "200"
        ],
        [
         "7",
         "02bb2479b4fe6c8119254eaacc88ba7e",
         "838a8fa992a4aa2fb5a0cf8b15b63755",
         "2021-01-22 00:00:00",
         "200"
        ],
        [
         "8",
         "4677a8b53fc1ef1e16007968cdfcb2ec",
         "838a8fa992a4aa2fb5a0cf8b15b63755",
         "2021-02-12 00:00:00",
         "200"
        ],
        [
         "9",
         "e2d6158cc2b6467a47223cb2629f03f3",
         "838a8fa992a4aa2fb5a0cf8b15b63755",
         "2021-02-02 00:00:00",
         "200"
        ],
        [
         "10",
         "f9a10e0f56a96d244feadda0194fcb06",
         "838a8fa992a4aa2fb5a0cf8b15b63755",
         "2021-02-02 00:00:00",
         "200"
        ],
        [
         "11",
         "a78e7d86b67a355375bd174b2b859ce6",
         "838a8fa992a4aa2fb5a0cf8b15b63755",
         "2021-02-14 00:00:00",
         "200"
        ],
        [
         "12",
         "fc794dabb3afc434e73ce67e6b9542e4",
         "838a8fa992a4aa2fb5a0cf8b15b63755",
         "2021-02-08 00:00:00",
         "200"
        ],
        [
         "13",
         "3739a3c32bf6f116edea1d45964cba92",
         "838a8fa992a4aa2fb5a0cf8b15b63755",
         "2021-02-02 00:00:00",
         "200"
        ],
        [
         "14",
         "5e674596af22a66e826bf15b2a363cce",
         "838a8fa992a4aa2fb5a0cf8b15b63755",
         "2021-01-27 00:00:00",
         "200"
        ],
        [
         "15",
         "ab2b8b5244e19c302a09d825a15d1193",
         "838a8fa992a4aa2fb5a0cf8b15b63755",
         "2021-02-10 00:00:00",
         "200"
        ],
        [
         "16",
         "e77fc30bb3bec8bf45a35b535b292047",
         "838a8fa992a4aa2fb5a0cf8b15b63755",
         "2021-01-17 00:00:00",
         "200"
        ],
        [
         "17",
         "7fda354dbc3e684bf414d3ab27208d79",
         "838a8fa992a4aa2fb5a0cf8b15b63755",
         "2021-01-27 00:00:00",
         "199"
        ],
        [
         "18",
         "a5eecc62a91ec2273c9e09d53aa6564a",
         "838a8fa992a4aa2fb5a0cf8b15b63755",
         "2021-02-08 00:00:00",
         "198"
        ],
        [
         "19",
         "d3720205290ca7444d216167dd4cb0b1",
         "838a8fa992a4aa2fb5a0cf8b15b63755",
         "2021-02-06 00:00:00",
         "197"
        ],
        [
         "20",
         "789c59c87fee33218ac916dbece2ed4e",
         "838a8fa992a4aa2fb5a0cf8b15b63755",
         "2021-01-29 00:00:00",
         "194"
        ],
        [
         "21",
         "6646bb834ba941cff24534473520d90a",
         "838a8fa992a4aa2fb5a0cf8b15b63755",
         "2021-02-08 00:00:00",
         "193"
        ],
        [
         "22",
         "01c2e0350f7d77f4084502861b4989ff",
         "838a8fa992a4aa2fb5a0cf8b15b63755",
         "2021-01-31 00:00:00",
         "193"
        ],
        [
         "23",
         "684202021037f203f2f2258f5f1819a4",
         "838a8fa992a4aa2fb5a0cf8b15b63755",
         "2021-02-04 00:00:00",
         "193"
        ],
        [
         "24",
         "8796988fe01305c7f63dedf306f8bc25",
         "838a8fa992a4aa2fb5a0cf8b15b63755",
         "2021-02-13 00:00:00",
         "192"
        ],
        [
         "25",
         "5e674596af22a66e826bf15b2a363cce",
         "838a8fa992a4aa2fb5a0cf8b15b63755",
         "2021-02-05 00:00:00",
         "192"
        ],
        [
         "26",
         "7fda354dbc3e684bf414d3ab27208d79",
         "838a8fa992a4aa2fb5a0cf8b15b63755",
         "2021-02-05 00:00:00",
         "190"
        ],
        [
         "27",
         "092209b828921258b7718cc0ad1a18ad",
         "838a8fa992a4aa2fb5a0cf8b15b63755",
         "2021-01-01 00:00:00",
         "188"
        ],
        [
         "28",
         "04b054b61ff8cf57eb76dab3a91839fd",
         "838a8fa992a4aa2fb5a0cf8b15b63755",
         "2021-01-31 00:00:00",
         "185"
        ],
        [
         "29",
         "a0350fe02e253ca113916d21191ec6ac",
         "838a8fa992a4aa2fb5a0cf8b15b63755",
         "2021-02-07 00:00:00",
         "185"
        ],
        [
         "30",
         "375397c6a91c66a34af67f2154490aa7",
         "838a8fa992a4aa2fb5a0cf8b15b63755",
         "2021-01-26 00:00:00",
         "184"
        ],
        [
         "31",
         "e996e08fb1f7ee5f259a2031a931073d",
         "838a8fa992a4aa2fb5a0cf8b15b63755",
         "2021-01-31 00:00:00",
         "184"
        ],
        [
         "32",
         "8888c2bad14ee70264f347b0a4f84dcb",
         "838a8fa992a4aa2fb5a0cf8b15b63755",
         "2021-02-16 00:00:00",
         "183"
        ],
        [
         "33",
         "d37edb0062f43578a1b0a46eeb59e795",
         "838a8fa992a4aa2fb5a0cf8b15b63755",
         "2021-02-03 00:00:00",
         "183"
        ],
        [
         "34",
         "2ec2c3a64aafc203d8440ef569c2137b",
         "838a8fa992a4aa2fb5a0cf8b15b63755",
         "2021-02-09 00:00:00",
         "182"
        ],
        [
         "35",
         "7aff5130962f175b3c335e17d3df3cc8",
         "838a8fa992a4aa2fb5a0cf8b15b63755",
         "2021-02-05 00:00:00",
         "181"
        ],
        [
         "36",
         "09643fc6edfb47a46e087be5c8d48303",
         "838a8fa992a4aa2fb5a0cf8b15b63755",
         "2021-01-12 00:00:00",
         "181"
        ],
        [
         "37",
         "09ef9d0c0923b7f4848655f0de449603",
         "838a8fa992a4aa2fb5a0cf8b15b63755",
         "2021-01-20 00:00:00",
         "181"
        ],
        [
         "38",
         "9341309e1ec9fedc4c6050aa8da6f1d8",
         "838a8fa992a4aa2fb5a0cf8b15b63755",
         "2021-01-30 00:00:00",
         "180"
        ],
        [
         "39",
         "7a4740d97e9f869ed3c044a3607aff4b",
         "838a8fa992a4aa2fb5a0cf8b15b63755",
         "2021-01-12 00:00:00",
         "179"
        ],
        [
         "40",
         "258769dd7eb8275fd32ee54dc19a791e",
         "838a8fa992a4aa2fb5a0cf8b15b63755",
         "2021-02-06 00:00:00",
         "176"
        ],
        [
         "41",
         "b121aea17175c6415876f9064c38921a",
         "838a8fa992a4aa2fb5a0cf8b15b63755",
         "2021-02-15 00:00:00",
         "175"
        ],
        [
         "42",
         "d6a601b40c1be50166543453ea0c7128",
         "838a8fa992a4aa2fb5a0cf8b15b63755",
         "2021-02-09 00:00:00",
         "174"
        ],
        [
         "43",
         "e77fc30bb3bec8bf45a35b535b292047",
         "838a8fa992a4aa2fb5a0cf8b15b63755",
         "2021-01-22 00:00:00",
         "174"
        ],
        [
         "44",
         "e2d6158cc2b6467a47223cb2629f03f3",
         "838a8fa992a4aa2fb5a0cf8b15b63755",
         "2021-02-06 00:00:00",
         "174"
        ],
        [
         "45",
         "7fda354dbc3e684bf414d3ab27208d79",
         "838a8fa992a4aa2fb5a0cf8b15b63755",
         "2021-02-09 00:00:00",
         "172"
        ],
        [
         "46",
         "3182b776cd8e62b08b8091713f793a75",
         "838a8fa992a4aa2fb5a0cf8b15b63755",
         "2021-02-09 00:00:00",
         "171"
        ],
        [
         "47",
         "77704d483fbd7a54a0da2589b9eb4d14",
         "838a8fa992a4aa2fb5a0cf8b15b63755",
         "2021-01-12 00:00:00",
         "171"
        ],
        [
         "48",
         "04186493809f56eaab5ba1dca36047e4",
         "838a8fa992a4aa2fb5a0cf8b15b63755",
         "2021-01-03 00:00:00",
         "170"
        ],
        [
         "49",
         "63bdd328016288768c5c0fc437a656f4",
         "838a8fa992a4aa2fb5a0cf8b15b63755",
         "2021-02-03 00:00:00",
         "169"
        ]
       ],
       "shape": {
        "columns": 4,
        "rows": 904398
       }
      },
      "text/html": [
       "<div>\n",
       "<style scoped>\n",
       "    .dataframe tbody tr th:only-of-type {\n",
       "        vertical-align: middle;\n",
       "    }\n",
       "\n",
       "    .dataframe tbody tr th {\n",
       "        vertical-align: top;\n",
       "    }\n",
       "\n",
       "    .dataframe thead th {\n",
       "        text-align: right;\n",
       "    }\n",
       "</style>\n",
       "<table border=\"1\" class=\"dataframe\">\n",
       "  <thead>\n",
       "    <tr style=\"text-align: right;\">\n",
       "      <th></th>\n",
       "      <th>user_id</th>\n",
       "      <th>merchant_id</th>\n",
       "      <th>transaction_day</th>\n",
       "      <th>transaction_counts</th>\n",
       "    </tr>\n",
       "  </thead>\n",
       "  <tbody>\n",
       "    <tr>\n",
       "      <th>0</th>\n",
       "      <td>71aa1651d9adc0b226107084fba3d71c</td>\n",
       "      <td>838a8fa992a4aa2fb5a0cf8b15b63755</td>\n",
       "      <td>2021-02-07</td>\n",
       "      <td>288</td>\n",
       "    </tr>\n",
       "    <tr>\n",
       "      <th>1</th>\n",
       "      <td>77704d483fbd7a54a0da2589b9eb4d14</td>\n",
       "      <td>838a8fa992a4aa2fb5a0cf8b15b63755</td>\n",
       "      <td>2021-01-23</td>\n",
       "      <td>200</td>\n",
       "    </tr>\n",
       "    <tr>\n",
       "      <th>2</th>\n",
       "      <td>684202021037f203f2f2258f5f1819a4</td>\n",
       "      <td>838a8fa992a4aa2fb5a0cf8b15b63755</td>\n",
       "      <td>2021-01-20</td>\n",
       "      <td>200</td>\n",
       "    </tr>\n",
       "    <tr>\n",
       "      <th>3</th>\n",
       "      <td>f578e090182426cd7196f66c0f77e90c</td>\n",
       "      <td>838a8fa992a4aa2fb5a0cf8b15b63755</td>\n",
       "      <td>2021-02-16</td>\n",
       "      <td>200</td>\n",
       "    </tr>\n",
       "    <tr>\n",
       "      <th>4</th>\n",
       "      <td>5e674596af22a66e826bf15b2a363cce</td>\n",
       "      <td>838a8fa992a4aa2fb5a0cf8b15b63755</td>\n",
       "      <td>2021-02-10</td>\n",
       "      <td>200</td>\n",
       "    </tr>\n",
       "    <tr>\n",
       "      <th>...</th>\n",
       "      <td>...</td>\n",
       "      <td>...</td>\n",
       "      <td>...</td>\n",
       "      <td>...</td>\n",
       "    </tr>\n",
       "    <tr>\n",
       "      <th>904393</th>\n",
       "      <td>a9f084d0b0b82e3134b0df30f315bd7f</td>\n",
       "      <td>075d178871d8d48502bf1f54887e52fe</td>\n",
       "      <td>2021-02-13</td>\n",
       "      <td>2</td>\n",
       "    </tr>\n",
       "    <tr>\n",
       "      <th>904394</th>\n",
       "      <td>6a7d58675d73b9f280aa105c752cae0d</td>\n",
       "      <td>075d178871d8d48502bf1f54887e52fe</td>\n",
       "      <td>2021-10-29</td>\n",
       "      <td>2</td>\n",
       "    </tr>\n",
       "    <tr>\n",
       "      <th>904395</th>\n",
       "      <td>98129c770728f069aebe081df0cb5b0b</td>\n",
       "      <td>075d178871d8d48502bf1f54887e52fe</td>\n",
       "      <td>2021-10-06</td>\n",
       "      <td>2</td>\n",
       "    </tr>\n",
       "    <tr>\n",
       "      <th>904396</th>\n",
       "      <td>4f52270f99b7cfea239a3ad1e9bf46bc</td>\n",
       "      <td>817d18cd3c31e40e9bff0566baae7758</td>\n",
       "      <td>2021-02-05</td>\n",
       "      <td>2</td>\n",
       "    </tr>\n",
       "    <tr>\n",
       "      <th>904397</th>\n",
       "      <td>a76afd8ec2db8418068a8a622f13634a</td>\n",
       "      <td>817d18cd3c31e40e9bff0566baae7758</td>\n",
       "      <td>2021-08-31</td>\n",
       "      <td>2</td>\n",
       "    </tr>\n",
       "  </tbody>\n",
       "</table>\n",
       "<p>904398 rows × 4 columns</p>\n",
       "</div>"
      ],
      "text/plain": [
       "                                 user_id                       merchant_id  \\\n",
       "0       71aa1651d9adc0b226107084fba3d71c  838a8fa992a4aa2fb5a0cf8b15b63755   \n",
       "1       77704d483fbd7a54a0da2589b9eb4d14  838a8fa992a4aa2fb5a0cf8b15b63755   \n",
       "2       684202021037f203f2f2258f5f1819a4  838a8fa992a4aa2fb5a0cf8b15b63755   \n",
       "3       f578e090182426cd7196f66c0f77e90c  838a8fa992a4aa2fb5a0cf8b15b63755   \n",
       "4       5e674596af22a66e826bf15b2a363cce  838a8fa992a4aa2fb5a0cf8b15b63755   \n",
       "...                                  ...                               ...   \n",
       "904393  a9f084d0b0b82e3134b0df30f315bd7f  075d178871d8d48502bf1f54887e52fe   \n",
       "904394  6a7d58675d73b9f280aa105c752cae0d  075d178871d8d48502bf1f54887e52fe   \n",
       "904395  98129c770728f069aebe081df0cb5b0b  075d178871d8d48502bf1f54887e52fe   \n",
       "904396  4f52270f99b7cfea239a3ad1e9bf46bc  817d18cd3c31e40e9bff0566baae7758   \n",
       "904397  a76afd8ec2db8418068a8a622f13634a  817d18cd3c31e40e9bff0566baae7758   \n",
       "\n",
       "       transaction_day  transaction_counts  \n",
       "0           2021-02-07                 288  \n",
       "1           2021-01-23                 200  \n",
       "2           2021-01-20                 200  \n",
       "3           2021-02-16                 200  \n",
       "4           2021-02-10                 200  \n",
       "...                ...                 ...  \n",
       "904393      2021-02-13                   2  \n",
       "904394      2021-10-29                   2  \n",
       "904395      2021-10-06                   2  \n",
       "904396      2021-02-05                   2  \n",
       "904397      2021-08-31                   2  \n",
       "\n",
       "[904398 rows x 4 columns]"
      ]
     },
     "execution_count": 12,
     "metadata": {},
     "output_type": "execute_result"
    }
   ],
   "source": [
    "query = f\"\"\"\n",
    "    SELECT \n",
    "        user_id,\n",
    "        merchant_id,\n",
    "        DATE_TRUNC('day', transaction_date) as transaction_day,\n",
    "        COUNT(*) AS transaction_counts\n",
    "    FROM \n",
    "        '{file_1_path}'\n",
    "    GROUP BY \n",
    "        user_id, \n",
    "        merchant_id, \n",
    "        DATE_TRUNC('day', transaction_date)\n",
    "    HAVING\n",
    "        COUNT(*) > 1\n",
    "    ORDER BY \n",
    "        transaction_counts DESC\n",
    "\"\"\"\n",
    "fractioned_transactions_merchant = con.execute(query).df()\n",
    "fractioned_transactions_merchant"
   ]
  },
  {
   "cell_type": "markdown",
   "id": "549c7070",
   "metadata": {},
   "source": [
    "## Ok this is interesting, there are users that made up to 200 transactions in a single day to the same merchant.\n",
    "\n",
    "- There are 904k fractioned transactions. THis is around"
   ]
  },
  {
   "cell_type": "code",
   "execution_count": 13,
   "id": "a5edc7f1",
   "metadata": {},
   "outputs": [
    {
     "name": "stdout",
     "output_type": "stream",
     "text": [
      "Percentage of fractioned transactions: 8.41%\n"
     ]
    }
   ],
   "source": [
    "total_transactions = 10758418\n",
    "perc_fractioned = (len(fractioned_transactions_merchant) / total_transactions) * 100\n",
    "\n",
    "print(f\"Percentage of fractioned transactions: {perc_fractioned:.2f}%\")"
   ]
  },
  {
   "cell_type": "markdown",
   "id": "86742bd1",
   "metadata": {},
   "source": [
    "Considering that there are only 3 merchants, the percentage of fractioned transactions is not as high as I expected.\n",
    "\n",
    "**Next:** Lets check the same, but this time using the subsidiary id instead of merchant id"
   ]
  },
  {
   "cell_type": "code",
   "execution_count": 14,
   "id": "17cdba91",
   "metadata": {},
   "outputs": [
    {
     "data": {
      "application/vnd.microsoft.datawrangler.viewer.v0+json": {
       "columns": [
        {
         "name": "index",
         "rawType": "int64",
         "type": "integer"
        },
        {
         "name": "user_id",
         "rawType": "object",
         "type": "string"
        },
        {
         "name": "subsidiary",
         "rawType": "object",
         "type": "string"
        },
        {
         "name": "transaction_day",
         "rawType": "datetime64[us]",
         "type": "unknown"
        },
        {
         "name": "transaction_counts",
         "rawType": "int64",
         "type": "integer"
        },
        {
         "name": "total_transaction_amount",
         "rawType": "float64",
         "type": "float"
        },
        {
         "name": "amount_per_transaction",
         "rawType": "float64",
         "type": "float"
        },
        {
         "name": "label",
         "rawType": "int64",
         "type": "integer"
        }
       ],
       "ref": "801e5226-2bf6-475f-93ed-90cd378d6ccc",
       "rows": [
        [
         "0",
         "71aa1651d9adc0b226107084fba3d71c",
         "4f511a84e8c4b1c09991e0d876e880ce",
         "2021-02-07 00:00:00",
         "271",
         "5845.77586896",
         "22.0",
         "600566"
        ],
        [
         "1",
         "01c2e0350f7d77f4084502861b4989ff",
         "f54e0b6b32831a6307361ed959903e76",
         "2021-02-05 00:00:00",
         "200",
         "1189.37488023",
         "6.0",
         "281456"
        ],
        [
         "2",
         "e2d6158cc2b6467a47223cb2629f03f3",
         "f54e0b6b32831a6307361ed959903e76",
         "2021-02-02 00:00:00",
         "200",
         "1275.9154456",
         "6.0",
         "462668"
        ],
        [
         "3",
         "f9a10e0f56a96d244feadda0194fcb06",
         "f54e0b6b32831a6307361ed959903e76",
         "2021-02-02 00:00:00",
         "200",
         "1188.891002",
         "6.0",
         "48402"
        ],
        [
         "4",
         "3739a3c32bf6f116edea1d45964cba92",
         "f54e0b6b32831a6307361ed959903e76",
         "2021-02-02 00:00:00",
         "200",
         "1188.891002",
         "6.0",
         "395917"
        ],
        [
         "5",
         "fc794dabb3afc434e73ce67e6b9542e4",
         "f54e0b6b32831a6307361ed959903e76",
         "2021-02-08 00:00:00",
         "200",
         "1188.99324662",
         "6.0",
         "80993"
        ],
        [
         "6",
         "a5eecc62a91ec2273c9e09d53aa6564a",
         "f54e0b6b32831a6307361ed959903e76",
         "2021-02-08 00:00:00",
         "198",
         "1218.61327706",
         "6.0",
         "247308"
        ],
        [
         "7",
         "d3720205290ca7444d216167dd4cb0b1",
         "d4b621a24cc03e3f92155a7e241fa1c3",
         "2021-02-06 00:00:00",
         "197",
         "2324.87873169",
         "12.0",
         "28013"
        ],
        [
         "8",
         "789c59c87fee33218ac916dbece2ed4e",
         "f54e0b6b32831a6307361ed959903e76",
         "2021-01-29 00:00:00",
         "194",
         "1173.43541898",
         "6.0",
         "194390"
        ],
        [
         "9",
         "01c2e0350f7d77f4084502861b4989ff",
         "f54e0b6b32831a6307361ed959903e76",
         "2021-01-31 00:00:00",
         "193",
         "1147.73159513",
         "6.0",
         "452353"
        ],
        [
         "10",
         "6646bb834ba941cff24534473520d90a",
         "f54e0b6b32831a6307361ed959903e76",
         "2021-02-08 00:00:00",
         "193",
         "1147.39395037",
         "6.0",
         "270868"
        ],
        [
         "11",
         "8796988fe01305c7f63dedf306f8bc25",
         "d4b621a24cc03e3f92155a7e241fa1c3",
         "2021-02-13 00:00:00",
         "192",
         "2229.62121897",
         "12.0",
         "313758"
        ],
        [
         "12",
         "a0350fe02e253ca113916d21191ec6ac",
         "f54e0b6b32831a6307361ed959903e76",
         "2021-02-07 00:00:00",
         "185",
         "1264.26669125",
         "7.0",
         "323764"
        ],
        [
         "13",
         "e996e08fb1f7ee5f259a2031a931073d",
         "f54e0b6b32831a6307361ed959903e76",
         "2021-01-31 00:00:00",
         "184",
         "1605.0028527",
         "9.0",
         "197782"
        ],
        [
         "14",
         "d37edb0062f43578a1b0a46eeb59e795",
         "f54e0b6b32831a6307361ed959903e76",
         "2021-02-03 00:00:00",
         "183",
         "1087.83526683",
         "6.0",
         "17495"
        ],
        [
         "15",
         "9341309e1ec9fedc4c6050aa8da6f1d8",
         "f54e0b6b32831a6307361ed959903e76",
         "2021-01-30 00:00:00",
         "180",
         "1073.5685748",
         "6.0",
         "664255"
        ],
        [
         "16",
         "09643fc6edfb47a46e087be5c8d48303",
         "f54e0b6b32831a6307361ed959903e76",
         "2021-01-12 00:00:00",
         "177",
         "1053.07684923",
         "6.0",
         "376706"
        ],
        [
         "17",
         "e2d6158cc2b6467a47223cb2629f03f3",
         "f54e0b6b32831a6307361ed959903e76",
         "2021-02-06 00:00:00",
         "174",
         "1211.89366517",
         "7.0",
         "429752"
        ],
        [
         "18",
         "e77fc30bb3bec8bf45a35b535b292047",
         "d4b621a24cc03e3f92155a7e241fa1c3",
         "2021-01-17 00:00:00",
         "174",
         "2134.84044982",
         "12.0",
         "641828"
        ],
        [
         "19",
         "e77fc30bb3bec8bf45a35b535b292047",
         "d4b621a24cc03e3f92155a7e241fa1c3",
         "2021-01-22 00:00:00",
         "174",
         "1903.18503805",
         "11.0",
         "654129"
        ],
        [
         "20",
         "258769dd7eb8275fd32ee54dc19a791e",
         "d4b621a24cc03e3f92155a7e241fa1c3",
         "2021-02-06 00:00:00",
         "171",
         "1884.76317257",
         "11.0",
         "589069"
        ],
        [
         "21",
         "5e674596af22a66e826bf15b2a363cce",
         "d4b621a24cc03e3f92155a7e241fa1c3",
         "2021-02-07 00:00:00",
         "170",
         "2123.88363035",
         "12.0",
         "601270"
        ],
        [
         "22",
         "63bdd328016288768c5c0fc437a656f4",
         "f54e0b6b32831a6307361ed959903e76",
         "2021-02-03 00:00:00",
         "169",
         "1004.61289669",
         "6.0",
         "385865"
        ],
        [
         "23",
         "fa6e9afb87703acab47b4346d3162369",
         "d4b621a24cc03e3f92155a7e241fa1c3",
         "2021-02-12 00:00:00",
         "169",
         "2008.15579135",
         "12.0",
         "452154"
        ],
        [
         "24",
         "5e674596af22a66e826bf15b2a363cce",
         "d4b621a24cc03e3f92155a7e241fa1c3",
         "2021-01-27 00:00:00",
         "169",
         "2132.9596243",
         "13.0",
         "38160"
        ],
        [
         "25",
         "5e674596af22a66e826bf15b2a363cce",
         "d4b621a24cc03e3f92155a7e241fa1c3",
         "2021-02-10 00:00:00",
         "168",
         "2093.59187651",
         "12.0",
         "101663"
        ],
        [
         "26",
         "4677a8b53fc1ef1e16007968cdfcb2ec",
         "d4b621a24cc03e3f92155a7e241fa1c3",
         "2021-02-12 00:00:00",
         "168",
         "1010.5573517",
         "6.0",
         "218484"
        ],
        [
         "27",
         "5e674596af22a66e826bf15b2a363cce",
         "d4b621a24cc03e3f92155a7e241fa1c3",
         "2021-02-05 00:00:00",
         "168",
         "2076.18294557",
         "12.0",
         "536082"
        ],
        [
         "28",
         "6646bb834ba941cff24534473520d90a",
         "f54e0b6b32831a6307361ed959903e76",
         "2021-01-13 00:00:00",
         "167",
         "993.02120917",
         "6.0",
         "525698"
        ],
        [
         "29",
         "7a4740d97e9f869ed3c044a3607aff4b",
         "f54e0b6b32831a6307361ed959903e76",
         "2021-01-12 00:00:00",
         "167",
         "993.01169805",
         "6.0",
         "60449"
        ],
        [
         "30",
         "9a667b91347c3876205ffbdfc1324f2a",
         "f54e0b6b32831a6307361ed959903e76",
         "2021-02-08 00:00:00",
         "167",
         "1105.74709864",
         "7.0",
         "558876"
        ],
        [
         "31",
         "e45ef6205241baf7f32e2829fd0eee27",
         "f54e0b6b32831a6307361ed959903e76",
         "2021-02-10 00:00:00",
         "167",
         "1056.18104392",
         "6.0",
         "204859"
        ],
        [
         "32",
         "b6f2149bf2c034e3d96dc40bd7a6e7e9",
         "f54e0b6b32831a6307361ed959903e76",
         "2021-02-10 00:00:00",
         "166",
         "1022.10505001",
         "6.0",
         "558826"
        ],
        [
         "33",
         "845316c2b60d28bb6e83ca7ad3a7c851",
         "f54e0b6b32831a6307361ed959903e76",
         "2021-02-09 00:00:00",
         "166",
         "1050.14742208",
         "6.0",
         "187114"
        ],
        [
         "34",
         "789c59c87fee33218ac916dbece2ed4e",
         "f54e0b6b32831a6307361ed959903e76",
         "2021-02-02 00:00:00",
         "165",
         "980.83507665",
         "6.0",
         "512666"
        ],
        [
         "35",
         "09ef9d0c0923b7f4848655f0de449603",
         "d4b621a24cc03e3f92155a7e241fa1c3",
         "2021-01-20 00:00:00",
         "165",
         "1897.08959389",
         "11.0",
         "144350"
        ],
        [
         "36",
         "0457e033945b37b94d7f396aa07daaa1",
         "f54e0b6b32831a6307361ed959903e76",
         "2021-01-28 00:00:00",
         "164",
         "2146.08617005",
         "13.0",
         "144176"
        ],
        [
         "37",
         "9e925b3e2159cc6d6a4b33ab0a354748",
         "f54e0b6b32831a6307361ed959903e76",
         "2021-01-08 00:00:00",
         "164",
         "1747.79341749",
         "11.0",
         "3814"
        ],
        [
         "38",
         "c13badb7ee952c4fb45b94fb23448d49",
         "f54e0b6b32831a6307361ed959903e76",
         "2021-02-04 00:00:00",
         "164",
         "1315.03233686",
         "8.0",
         "462686"
        ],
        [
         "39",
         "273c7f8bdc0bdd508a8a47774f728fd7",
         "f54e0b6b32831a6307361ed959903e76",
         "2021-02-03 00:00:00",
         "161",
         "957.05725661",
         "6.0",
         "479925"
        ],
        [
         "40",
         "c651fe1b335f57733c0e50b1fd2ff6ba",
         "f54e0b6b32831a6307361ed959903e76",
         "2021-01-23 00:00:00",
         "161",
         "957.35923467",
         "6.0",
         "197657"
        ],
        [
         "41",
         "04186493809f56eaab5ba1dca36047e4",
         "f54e0b6b32831a6307361ed959903e76",
         "2021-01-03 00:00:00",
         "160",
         "951.37554629",
         "6.0",
         "101108"
        ],
        [
         "42",
         "ffd25fce0151b5b923c684aa5c8171a4",
         "f54e0b6b32831a6307361ed959903e76",
         "2021-02-08 00:00:00",
         "159",
         "945.16834659",
         "6.0",
         "332461"
        ],
        [
         "43",
         "6a3b1017fd706ca11822a112664f14ad",
         "f54e0b6b32831a6307361ed959903e76",
         "2021-02-09 00:00:00",
         "159",
         "1349.39128727",
         "8.0",
         "399370"
        ],
        [
         "44",
         "7cdc2ae0fd37bdbe72540084b26fa8c0",
         "f54e0b6b32831a6307361ed959903e76",
         "2021-02-06 00:00:00",
         "158",
         "939.22389158",
         "6.0",
         "164897"
        ],
        [
         "45",
         "820b6a841f5422a73cc97b6b7e76a715",
         "4ecafb5dcecd6027257e8af4d9c82853",
         "2021-02-02 00:00:00",
         "158",
         "1611.25998633",
         "10.0",
         "7371"
        ],
        [
         "46",
         "e996e08fb1f7ee5f259a2031a931073d",
         "f54e0b6b32831a6307361ed959903e76",
         "2021-02-04 00:00:00",
         "158",
         "1355.33574228",
         "9.0",
         "175273"
        ],
        [
         "47",
         "04186493809f56eaab5ba1dca36047e4",
         "f54e0b6b32831a6307361ed959903e76",
         "2021-01-14 00:00:00",
         "156",
         "931.19055483",
         "6.0",
         "429327"
        ],
        [
         "48",
         "19361f217de3fa0c9ccc5bfdcbc8158c",
         "f54e0b6b32831a6307361ed959903e76",
         "2021-02-05 00:00:00",
         "156",
         "1475.41373343",
         "9.0",
         "77920"
        ],
        [
         "49",
         "68f48c640768279950312b6284b97841",
         "f54e0b6b32831a6307361ed959903e76",
         "2021-02-09 00:00:00",
         "155",
         "939.22389158",
         "6.0",
         "303648"
        ]
       ],
       "shape": {
        "columns": 7,
        "rows": 678398
       }
      },
      "text/html": [
       "<div>\n",
       "<style scoped>\n",
       "    .dataframe tbody tr th:only-of-type {\n",
       "        vertical-align: middle;\n",
       "    }\n",
       "\n",
       "    .dataframe tbody tr th {\n",
       "        vertical-align: top;\n",
       "    }\n",
       "\n",
       "    .dataframe thead th {\n",
       "        text-align: right;\n",
       "    }\n",
       "</style>\n",
       "<table border=\"1\" class=\"dataframe\">\n",
       "  <thead>\n",
       "    <tr style=\"text-align: right;\">\n",
       "      <th></th>\n",
       "      <th>user_id</th>\n",
       "      <th>subsidiary</th>\n",
       "      <th>transaction_day</th>\n",
       "      <th>transaction_counts</th>\n",
       "      <th>total_transaction_amount</th>\n",
       "      <th>amount_per_transaction</th>\n",
       "      <th>label</th>\n",
       "    </tr>\n",
       "  </thead>\n",
       "  <tbody>\n",
       "    <tr>\n",
       "      <th>0</th>\n",
       "      <td>71aa1651d9adc0b226107084fba3d71c</td>\n",
       "      <td>4f511a84e8c4b1c09991e0d876e880ce</td>\n",
       "      <td>2021-02-07</td>\n",
       "      <td>271</td>\n",
       "      <td>5845.775869</td>\n",
       "      <td>22.0</td>\n",
       "      <td>600566</td>\n",
       "    </tr>\n",
       "    <tr>\n",
       "      <th>1</th>\n",
       "      <td>01c2e0350f7d77f4084502861b4989ff</td>\n",
       "      <td>f54e0b6b32831a6307361ed959903e76</td>\n",
       "      <td>2021-02-05</td>\n",
       "      <td>200</td>\n",
       "      <td>1189.374880</td>\n",
       "      <td>6.0</td>\n",
       "      <td>281456</td>\n",
       "    </tr>\n",
       "    <tr>\n",
       "      <th>2</th>\n",
       "      <td>e2d6158cc2b6467a47223cb2629f03f3</td>\n",
       "      <td>f54e0b6b32831a6307361ed959903e76</td>\n",
       "      <td>2021-02-02</td>\n",
       "      <td>200</td>\n",
       "      <td>1275.915446</td>\n",
       "      <td>6.0</td>\n",
       "      <td>462668</td>\n",
       "    </tr>\n",
       "    <tr>\n",
       "      <th>3</th>\n",
       "      <td>f9a10e0f56a96d244feadda0194fcb06</td>\n",
       "      <td>f54e0b6b32831a6307361ed959903e76</td>\n",
       "      <td>2021-02-02</td>\n",
       "      <td>200</td>\n",
       "      <td>1188.891002</td>\n",
       "      <td>6.0</td>\n",
       "      <td>48402</td>\n",
       "    </tr>\n",
       "    <tr>\n",
       "      <th>4</th>\n",
       "      <td>3739a3c32bf6f116edea1d45964cba92</td>\n",
       "      <td>f54e0b6b32831a6307361ed959903e76</td>\n",
       "      <td>2021-02-02</td>\n",
       "      <td>200</td>\n",
       "      <td>1188.891002</td>\n",
       "      <td>6.0</td>\n",
       "      <td>395917</td>\n",
       "    </tr>\n",
       "    <tr>\n",
       "      <th>...</th>\n",
       "      <td>...</td>\n",
       "      <td>...</td>\n",
       "      <td>...</td>\n",
       "      <td>...</td>\n",
       "      <td>...</td>\n",
       "      <td>...</td>\n",
       "      <td>...</td>\n",
       "    </tr>\n",
       "    <tr>\n",
       "      <th>678393</th>\n",
       "      <td>c3ba079c108d8257953e12ee87c7513b</td>\n",
       "      <td>46e5d05afcd8dc579b442a16fe6e5db7</td>\n",
       "      <td>2021-06-24</td>\n",
       "      <td>2</td>\n",
       "      <td>2377.782005</td>\n",
       "      <td>1189.0</td>\n",
       "      <td>678395</td>\n",
       "    </tr>\n",
       "    <tr>\n",
       "      <th>678394</th>\n",
       "      <td>505a4b2c5eeea11a9e131fc4ec9c8124</td>\n",
       "      <td>b5580beb29afc241b5c7130f78f90cf3</td>\n",
       "      <td>2021-07-31</td>\n",
       "      <td>2</td>\n",
       "      <td>166.444740</td>\n",
       "      <td>83.0</td>\n",
       "      <td>678396</td>\n",
       "    </tr>\n",
       "    <tr>\n",
       "      <th>678395</th>\n",
       "      <td>e7b6126dcfd717726768b752cce2f283</td>\n",
       "      <td>3ea88f376dc22adc4f5a20464a003940</td>\n",
       "      <td>2021-03-04</td>\n",
       "      <td>2</td>\n",
       "      <td>749.001332</td>\n",
       "      <td>375.0</td>\n",
       "      <td>678397</td>\n",
       "    </tr>\n",
       "    <tr>\n",
       "      <th>678396</th>\n",
       "      <td>1425088228f42313b5e275ee814fde4e</td>\n",
       "      <td>7ab74491621d8589238ec4b313d65f4c</td>\n",
       "      <td>2021-03-12</td>\n",
       "      <td>2</td>\n",
       "      <td>713.334601</td>\n",
       "      <td>357.0</td>\n",
       "      <td>678398</td>\n",
       "    </tr>\n",
       "    <tr>\n",
       "      <th>678397</th>\n",
       "      <td>132e01679efafd2b172a9adc3fa4bb8c</td>\n",
       "      <td>13dc5bbc2f16aff4f2c157cbe4a0f5cd</td>\n",
       "      <td>2021-06-22</td>\n",
       "      <td>2</td>\n",
       "      <td>261.556021</td>\n",
       "      <td>131.0</td>\n",
       "      <td>400068</td>\n",
       "    </tr>\n",
       "  </tbody>\n",
       "</table>\n",
       "<p>678398 rows × 7 columns</p>\n",
       "</div>"
      ],
      "text/plain": [
       "                                 user_id                        subsidiary  \\\n",
       "0       71aa1651d9adc0b226107084fba3d71c  4f511a84e8c4b1c09991e0d876e880ce   \n",
       "1       01c2e0350f7d77f4084502861b4989ff  f54e0b6b32831a6307361ed959903e76   \n",
       "2       e2d6158cc2b6467a47223cb2629f03f3  f54e0b6b32831a6307361ed959903e76   \n",
       "3       f9a10e0f56a96d244feadda0194fcb06  f54e0b6b32831a6307361ed959903e76   \n",
       "4       3739a3c32bf6f116edea1d45964cba92  f54e0b6b32831a6307361ed959903e76   \n",
       "...                                  ...                               ...   \n",
       "678393  c3ba079c108d8257953e12ee87c7513b  46e5d05afcd8dc579b442a16fe6e5db7   \n",
       "678394  505a4b2c5eeea11a9e131fc4ec9c8124  b5580beb29afc241b5c7130f78f90cf3   \n",
       "678395  e7b6126dcfd717726768b752cce2f283  3ea88f376dc22adc4f5a20464a003940   \n",
       "678396  1425088228f42313b5e275ee814fde4e  7ab74491621d8589238ec4b313d65f4c   \n",
       "678397  132e01679efafd2b172a9adc3fa4bb8c  13dc5bbc2f16aff4f2c157cbe4a0f5cd   \n",
       "\n",
       "       transaction_day  transaction_counts  total_transaction_amount  \\\n",
       "0           2021-02-07                 271               5845.775869   \n",
       "1           2021-02-05                 200               1189.374880   \n",
       "2           2021-02-02                 200               1275.915446   \n",
       "3           2021-02-02                 200               1188.891002   \n",
       "4           2021-02-02                 200               1188.891002   \n",
       "...                ...                 ...                       ...   \n",
       "678393      2021-06-24                   2               2377.782005   \n",
       "678394      2021-07-31                   2                166.444740   \n",
       "678395      2021-03-04                   2                749.001332   \n",
       "678396      2021-03-12                   2                713.334601   \n",
       "678397      2021-06-22                   2                261.556021   \n",
       "\n",
       "        amount_per_transaction   label  \n",
       "0                         22.0  600566  \n",
       "1                          6.0  281456  \n",
       "2                          6.0  462668  \n",
       "3                          6.0   48402  \n",
       "4                          6.0  395917  \n",
       "...                        ...     ...  \n",
       "678393                  1189.0  678395  \n",
       "678394                    83.0  678396  \n",
       "678395                   375.0  678397  \n",
       "678396                   357.0  678398  \n",
       "678397                   131.0  400068  \n",
       "\n",
       "[678398 rows x 7 columns]"
      ]
     },
     "execution_count": 14,
     "metadata": {},
     "output_type": "execute_result"
    }
   ],
   "source": [
    "frac_tran_subsidiary_query = f\"\"\"\n",
    "    SELECT        \n",
    "        user_id,\n",
    "        subsidiary,\n",
    "        DATE_TRUNC('day', transaction_date) as transaction_day,\n",
    "        COUNT(*) AS transaction_counts,\n",
    "        SUM(transaction_amount) AS total_transaction_amount,\n",
    "        ROUND(SUM(transaction_amount) / NULLIF(COUNT(*), 0)) AS amount_per_transaction,\n",
    "        ROW_NUMBER() OVER () AS label\n",
    "    FROM \n",
    "        '{file_1_path}'\n",
    "    GROUP BY \n",
    "        user_id, \n",
    "        subsidiary, \n",
    "        DATE_TRUNC('day', transaction_date)\n",
    "    HAVING\n",
    "        COUNT(*) > 1\n",
    "    ORDER BY \n",
    "        transaction_counts DESC\n",
    "\"\"\"\n",
    "fractioned_transactions_subsidiary = con.execute(frac_tran_subsidiary_query).df()\n",
    "fractioned_transactions_subsidiary"
   ]
  },
  {
   "cell_type": "code",
   "execution_count": 15,
   "id": "88ad785b",
   "metadata": {},
   "outputs": [
    {
     "data": {
      "text/plain": [
       "np.int64(1832878)"
      ]
     },
     "execution_count": 15,
     "metadata": {},
     "output_type": "execute_result"
    }
   ],
   "source": [
    "fractioned_transactions_subsidiary['transaction_counts'].sum()"
   ]
  },
  {
   "cell_type": "markdown",
   "id": "c850256d",
   "metadata": {},
   "source": [
    "- ok, 678398 fractioned transactions in the same day to same subsidiary by the same user\n",
    "\n",
    "- Is it possible to perform fractioned transactions for the same market using two different subsidiaries? Maybe yes, but I think its not common. So lets mark them as safe, and i will only consider fractioned transactions when they are done to the same subsidiary.\n",
    "\n",
    "**Question:** What is the percentage of fractioned transactions now?"
   ]
  },
  {
   "cell_type": "code",
   "execution_count": 16,
   "id": "e35f1f30",
   "metadata": {},
   "outputs": [
    {
     "name": "stdout",
     "output_type": "stream",
     "text": [
      "Percentage of fractioned transactions: 6.31%\n"
     ]
    }
   ],
   "source": [
    "total_transactions = 10758418\n",
    "\n",
    "perc_fractioned = (len(fractioned_transactions_subsidiary) / total_transactions) * 100\n",
    "\n",
    "print(f\"Percentage of fractioned transactions: {perc_fractioned:.2f}%\")"
   ]
  },
  {
   "cell_type": "markdown",
   "id": "1911679a",
   "metadata": {},
   "source": [
    "# lets perform some prelimimary analysis on the fractioned transactions table.\n",
    "\n",
    "- I would like to know the distribution of transaction counts, to check if the majority of fractioned transactions per day is low (like 2 or 3) or high (more than 10)\n",
    "- also if it follows a known distribution like poisson, normal, etc."
   ]
  },
  {
   "cell_type": "code",
   "execution_count": 17,
   "id": "12c8c969",
   "metadata": {},
   "outputs": [
    {
     "data": {
      "image/png": "[encoded data removed]",
      "text/plain": [
       "<Figure size 1000x600 with 1 Axes>"
      ]
     },
     "metadata": {},
     "output_type": "display_data"
    }
   ],
   "source": [
    "import matplotlib.pyplot as plt\n",
    "import seaborn as sns\n",
    "plt.figure(figsize=(10, 6))\n",
    "sns.histplot(fractioned_transactions_subsidiary['transaction_counts'], bins=30, stat='percent')\n",
    "plt.title('Distribution of Fractioned Transactions per Day to Same Subsidiary by Same User')\n",
    "plt.xlabel('Number of Transactions in a Day')\n",
    "plt.ylabel('Frequency (%)')\n",
    "plt.show()"
   ]
  },
  {
   "cell_type": "markdown",
   "id": "5cc60f14",
   "metadata": {},
   "source": [
    "- Well it seems that those cases where the number of fractioned transactions is high are quite rare.\n",
    "- Lets check in a small range, how the distribution looks like."
   ]
  },
  {
   "cell_type": "code",
   "execution_count": 18,
   "id": "595a70fa",
   "metadata": {},
   "outputs": [
    {
     "data": {
      "image/png": "[encoded data removed]",
      "text/plain": [
       "<Figure size 1000x600 with 1 Axes>"
      ]
     },
     "metadata": {},
     "output_type": "display_data"
    }
   ],
   "source": [
    "plt.figure(figsize=(10, 6))\n",
    "sns.histplot(fractioned_transactions_subsidiary['transaction_counts'], bins=1000, stat='percent')\n",
    "plt.title('Distribution of Fractioned Transactions per Day to Same Subsidiary by Same User')\n",
    "plt.xlim(0, 20)\n",
    "plt.xlabel('Number of Transactions in a Day')\n",
    "plt.xticks(range(0, 21, 1))\n",
    "plt.ylabel('Frequency (%)')\n",
    "plt.show()"
   ]
  },
  {
   "cell_type": "markdown",
   "id": "988f22d5",
   "metadata": {},
   "source": [
    "## So maybe those values with more than 100 transactions in a day are outliers, lets check how many of those are there\n",
    "\n",
    "- What is the percentile of those outliers?\n",
    "- Which is greater between 99 percentile and 1.5 times the IQR?\n",
    "\n",
    "So the q3 and q1 are the same, well this is expected from the histogram observed before. So I will use the 99th percentile as the threshold for outliers."
   ]
  },
  {
   "cell_type": "code",
   "execution_count": 19,
   "id": "cf8257ca",
   "metadata": {},
   "outputs": [
    {
     "name": "stdout",
     "output_type": "stream",
     "text": [
      "Number of outliers (more than 100 transactions in a day): 226\n",
      "Percentage of outliers (more than 100 transactions in a day): 0.0333%\n",
      "99th percentile of transaction counts: 16.0\n",
      "IQR : 0.0\n",
      "1.5 IQR: 0.0\n"
     ]
    }
   ],
   "source": [
    "outliers = fractioned_transactions_subsidiary[fractioned_transactions_subsidiary['transaction_counts'] > 100]\n",
    "print(f\"Number of outliers (more than 100 transactions in a day): {outliers.shape[0]}\")\n",
    "\n",
    "perc_100_transactions = (outliers.shape[0] / fractioned_transactions_subsidiary.shape[0]) * 100\n",
    "print(f\"Percentage of outliers (more than 100 transactions in a day): {perc_100_transactions:.4f}%\")\n",
    "\n",
    "percentile_99 = fractioned_transactions_subsidiary['transaction_counts'].quantile(0.99)\n",
    "print(f\"99th percentile of transaction counts: {percentile_99}\")\n",
    "\n",
    "q3 = fractioned_transactions_subsidiary['transaction_counts'].quantile(0.75) \n",
    "q1 = fractioned_transactions_subsidiary['transaction_counts'].quantile(0.25)\n",
    "iqr = q3 - q1\n",
    "print(f\"IQR : {iqr}\")\n",
    "print(f\"1.5 IQR: {iqr * 1.5}\")"
   ]
  },
  {
   "cell_type": "markdown",
   "id": "4721071d",
   "metadata": {},
   "source": [
    "### Now lets check the distribution of total transaction amount in those fractioned transactions"
   ]
  },
  {
   "cell_type": "code",
   "execution_count": 20,
   "id": "5cdb8709",
   "metadata": {},
   "outputs": [
    {
     "name": "stdout",
     "output_type": "stream",
     "text": [
      "max amount spent in fractioned transactions: 17559.19607174\n",
      "min amount spent in fractioned transactions: 11.88891002\n"
     ]
    },
    {
     "data": {
      "image/png": "[encoded data removed]",
      "text/plain": [
       "<Figure size 1000x600 with 1 Axes>"
      ]
     },
     "metadata": {},
     "output_type": "display_data"
    }
   ],
   "source": [
    "print(f\"max amount spent in fractioned transactions: {fractioned_transactions_subsidiary['total_transaction_amount'].max()}\")\n",
    "print(f\"min amount spent in fractioned transactions: {fractioned_transactions_subsidiary['total_transaction_amount'].min()}\")\n",
    "\n",
    "plt.figure(figsize=(10, 6))\n",
    "sns.histplot(fractioned_transactions_subsidiary['total_transaction_amount'], bins=50, stat='percent')\n",
    "plt.title('Distribution of Total Transaction Amount in Fractioned Transactions')\n",
    "plt.xlabel('Total Transaction Amount')\n",
    "plt.ylabel('Frequency (%)')\n",
    "plt.show()"
   ]
  },
  {
   "cell_type": "code",
   "execution_count": 21,
   "id": "5ff29364",
   "metadata": {},
   "outputs": [
    {
     "data": {
      "application/vnd.microsoft.datawrangler.viewer.v0+json": {
       "columns": [
        {
         "name": "index",
         "rawType": "object",
         "type": "string"
        },
        {
         "name": "total_transaction_amount",
         "rawType": "float64",
         "type": "float"
        }
       ],
       "ref": "19b11f15-e1b5-4837-93f3-17c815c9e88e",
       "rows": [
        [
         "count",
         "678398.0"
        ],
        [
         "mean",
         "682.5699534352027"
        ],
        [
         "std",
         "719.8730513531007"
        ],
        [
         "min",
         "11.88891002"
        ],
        [
         "25%",
         "95.11128019"
        ],
        [
         "50%",
         "475.55640096"
        ],
        [
         "75%",
         "1070.00190221"
        ],
        [
         "max",
         "17559.19607174"
        ]
       ],
       "shape": {
        "columns": 1,
        "rows": 8
       }
      },
      "text/plain": [
       "count    678398.000000\n",
       "mean        682.569953\n",
       "std         719.873051\n",
       "min          11.888910\n",
       "25%          95.111280\n",
       "50%         475.556401\n",
       "75%        1070.001902\n",
       "max       17559.196072\n",
       "Name: total_transaction_amount, dtype: float64"
      ]
     },
     "execution_count": 21,
     "metadata": {},
     "output_type": "execute_result"
    }
   ],
   "source": [
    "fractioned_transactions_subsidiary['total_transaction_amount'].describe()"
   ]
  },
  {
   "cell_type": "markdown",
   "id": "9acf6b80",
   "metadata": {},
   "source": [
    "- Well, at least, the total_transaction_amount has a wide range of values, from very low to quite high amounts. But these high amounts seems to be outliers.\n",
    "- Lets compute again the 99th percentile for this feature and the IQR"
   ]
  },
  {
   "cell_type": "code",
   "execution_count": 22,
   "id": "6c78ebbd",
   "metadata": {},
   "outputs": [
    {
     "name": "stdout",
     "output_type": "stream",
     "text": [
      "IQR threshold: 1462.33593303\n",
      "99th percentile of total transaction amount: 2972.22750617\n"
     ]
    }
   ],
   "source": [
    "q1 = fractioned_transactions_subsidiary['total_transaction_amount'].quantile(0.25)\n",
    "q3 = fractioned_transactions_subsidiary['total_transaction_amount'].quantile(0.75)\n",
    "iqr = q3 - q1\n",
    "print(f\"IQR threshold: {iqr * 1.5}\")\n",
    "print(f\"99th percentile of total transaction amount: {fractioned_transactions_subsidiary['total_transaction_amount'].quantile(0.99)}\")"
   ]
  },
  {
   "cell_type": "markdown",
   "id": "ebab70bc",
   "metadata": {},
   "source": [
    "### So what with these > 5000 total transaction amounts? Are they outliers?"
   ]
  },
  {
   "cell_type": "code",
   "execution_count": 23,
   "id": "9ddeb83f",
   "metadata": {},
   "outputs": [
    {
     "data": {
      "application/vnd.microsoft.datawrangler.viewer.v0+json": {
       "columns": [
        {
         "name": "index",
         "rawType": "int64",
         "type": "integer"
        },
        {
         "name": "user_id",
         "rawType": "object",
         "type": "string"
        },
        {
         "name": "subsidiary",
         "rawType": "object",
         "type": "string"
        },
        {
         "name": "transaction_day",
         "rawType": "datetime64[us]",
         "type": "unknown"
        },
        {
         "name": "transaction_counts",
         "rawType": "int64",
         "type": "integer"
        },
        {
         "name": "total_transaction_amount",
         "rawType": "float64",
         "type": "float"
        },
        {
         "name": "amount_per_transaction",
         "rawType": "float64",
         "type": "float"
        },
        {
         "name": "label",
         "rawType": "int64",
         "type": "integer"
        }
       ],
       "ref": "9bfdfd6d-1d34-4eac-b3b5-211f0cd10474",
       "rows": [
        [
         "3193",
         "cfa366b65fa843bf78ca52f9524e1244",
         "f54e0b6b32831a6307361ed959903e76",
         "2021-02-11 00:00:00",
         "38",
         "17559.19607174",
         "462.0",
         "70914"
        ],
        [
         "4403",
         "7cac676a8d21f4fb7a66d4966dd3a12c",
         "f54e0b6b32831a6307361ed959903e76",
         "2021-02-11 00:00:00",
         "28",
         "14887.89590055",
         "532.0",
         "515924"
        ],
        [
         "3691",
         "1d46b2330c1fdf739c0c3fcc511f35bc",
         "f54e0b6b32831a6307361ed959903e76",
         "2021-02-11 00:00:00",
         "33",
         "14276.19245755",
         "433.0",
         "91539"
        ],
        [
         "10756",
         "0290610111640c1d5b863240bb81d3b4",
         "a322aaaff76c37cf59e21336b65507f2",
         "2021-10-07 00:00:00",
         "6",
         "14266.69202966",
         "2378.0",
         "387357"
        ],
        [
         "21350",
         "22e351bd70fdb319bbc102f8de27b7ce",
         "fd0f4ab622618d7c35dcb5ab8112d732",
         "2021-08-19 00:00:00",
         "4",
         "12840.02282668",
         "3210.0",
         "160054"
        ],
        [
         "3466",
         "7cac676a8d21f4fb7a66d4966dd3a12c",
         "f54e0b6b32831a6307361ed959903e76",
         "2021-02-09 00:00:00",
         "35",
         "11978.01383853",
         "342.0",
         "336295"
        ],
        [
         "8892",
         "c671cb272294b914538f1f40b62edde7",
         "c310b9334797019fd0735301b6baac5a",
         "2021-08-30 00:00:00",
         "9",
         "10700.01902223",
         "1189.0",
         "254315"
        ],
        [
         "9231",
         "8e09da7674c0e15b6cc367b21858bcef",
         "475734b63d7102b21f3486ce6e95d154",
         "2021-08-01 00:00:00",
         "8",
         "10700.01902222",
         "1338.0",
         "534038"
        ],
        [
         "7371",
         "5569293c56f3b5c8412d38eaf0934ee1",
         "f58b4530527ffb867f8d4c4d36a4bfcd",
         "2021-06-09 00:00:00",
         "13",
         "10105.57352095",
         "777.0",
         "223094"
        ],
        [
         "7267",
         "25f5eecc7a69518cf8917134e562ed50",
         "9ee9b1da2d561f27ec8c5f431ee7d69e",
         "2021-02-02 00:00:00",
         "14",
         "9701.35058012",
         "693.0",
         "657683"
        ],
        [
         "83453",
         "39123c7371236bde7ae81a1e66ed021f",
         "02b5d824bc2f49907bcdd01c485a1d52",
         "2021-11-23 00:00:00",
         "3",
         "9630.01712001",
         "3210.0",
         "6529"
        ],
        [
         "61567",
         "efa5ee6fee9b2a2558da3f79c5247d1b",
         "dd9a4dcc02a57507640b967aee2fb757",
         "2021-08-13 00:00:00",
         "3",
         "9630.01712001",
         "3210.0",
         "396348"
        ],
        [
         "67613",
         "92824dad3a4cae3faf47468dae85731e",
         "55eef63534bd72b4344ce103e3389260",
         "2021-07-09 00:00:00",
         "3",
         "9630.01712001",
         "3210.0",
         "368217"
        ],
        [
         "8870",
         "ff908e821df18562189bc038fcd4b757",
         "5a3a222c7d9eb06a4a541dc094f52c2c",
         "2021-11-18 00:00:00",
         "9",
         "9630.01712001",
         "1070.0",
         "388272"
        ],
        [
         "50627",
         "c053e50fbd1c87d3f6ebfcc6a1ad1ee3",
         "dc082cf1a4eb0ad0637fe0d2b986bee4",
         "2021-11-16 00:00:00",
         "3",
         "9630.01712001",
         "3210.0",
         "447078"
        ],
        [
         "76197",
         "cb111be0f8a2f7c36763fa4bee777c71",
         "258e15c65344765c1dec3102c544379b",
         "2021-11-27 00:00:00",
         "3",
         "9630.01712001",
         "3210.0",
         "328755"
        ],
        [
         "114833",
         "e35ba57a1613a8db88c3c83c5af9c7a2",
         "8bf74cfd581a7aef40c264f1eeaf1fc4",
         "2021-06-16 00:00:00",
         "3",
         "9630.01712001",
         "3210.0",
         "583284"
        ],
        [
         "28274",
         "56dee2f91dc3be62894d127160fe258e",
         "24e88158ef54ac66eb7ae9cbc574e0d5",
         "2021-11-17 00:00:00",
         "4",
         "9511.12801976",
         "2378.0",
         "239991"
        ],
        [
         "8441",
         "be9f077952e2216603ece42ea923e804",
         "0ffe0441f6ffd5b494428e52b0ab9158",
         "2021-11-26 00:00:00",
         "10",
         "9511.1280197",
         "951.0",
         "418513"
        ],
        [
         "10971",
         "7a58e42463d865aecff964c79419c05e",
         "2c9f5311add898e1bbec0e7cc87fcf32",
         "2021-05-25 00:00:00",
         "6",
         "9416.01673956",
         "1569.0",
         "59256"
        ],
        [
         "103675",
         "79b2421e510f7db1b07e1401181ec1d0",
         "2a18e09f409e6d6446e4bb4999116e86",
         "2021-09-14 00:00:00",
         "3",
         "9392.23891951",
         "3131.0",
         "204325"
        ],
        [
         "25450",
         "29b400ecd922f50dea9c270a6d34e4b2",
         "7ad703e2e2a56f54bf3656e4f16a670c",
         "2021-11-30 00:00:00",
         "4",
         "9178.23853908",
         "2295.0",
         "207279"
        ],
        [
         "11476",
         "8ded74c4bdac01be91dcd56e379d19d4",
         "f43752541b9c9ee224e6b16f376b68cc",
         "2021-10-12 00:00:00",
         "6",
         "9035.57161876",
         "1506.0",
         "242554"
        ],
        [
         "24799",
         "f72a60976eb647dbbdf7bcae9e4538cf",
         "9fdc120fffb72d703fadd900f3e68eeb",
         "2021-10-09 00:00:00",
         "4",
         "9035.57161876",
         "2259.0",
         "565473"
        ],
        [
         "24959",
         "1c61c27340a8b59f350c56f8f8dbf980",
         "7342f80bc70bb4f906a83a3e82d2c4a4",
         "2021-03-28 00:00:00",
         "4",
         "8952.34924861",
         "2238.0",
         "665339"
        ],
        [
         "19891",
         "47b38b84dda0cef2aa672dca7077f2ad",
         "8feed6c88062a0380311f5b0feb8ce03",
         "2021-09-18 00:00:00",
         "4",
         "8916.68251853",
         "2229.0",
         "142535"
        ],
        [
         "109814",
         "f7c12704dcaa69d0c7437e8188a38f30",
         "ad25bdb4bb2fcb27ca5e44d0fabde875",
         "2021-11-19 00:00:00",
         "3",
         "8797.79341828",
         "2933.0",
         "2045"
        ],
        [
         "20480",
         "99ad70ef95a85a30d908e5dbc6b4f938",
         "546fbcdc0d2eb9443eec3fc324707234",
         "2021-11-16 00:00:00",
         "4",
         "8560.0152178",
         "2140.0",
         "149326"
        ],
        [
         "19178",
         "1c9cd25a45ea8edbe6b75094d7b2f458",
         "05dda8ab257f23617e41d0da5f38cc9c",
         "2021-07-01 00:00:00",
         "4",
         "8560.01521778",
         "2140.0",
         "134849"
        ],
        [
         "16042",
         "0ef06be0f7006a6b56dd5d8c68ac3253",
         "4deae6595594a4b05ea9c4c78c98049a",
         "2021-08-19 00:00:00",
         "5",
         "8441.12611754",
         "1688.0",
         "29430"
        ],
        [
         "10121",
         "9758b324fda2860bacd93abee631e198",
         "933a8057230eaba1e319941b3d8be17c",
         "2021-10-01 00:00:00",
         "7",
         "8322.23701729",
         "1189.0",
         "654786"
        ],
        [
         "12205",
         "400b958786cba3d0af7fe733e770f861",
         "dc8c082805cf34360d0039fd65f58a40",
         "2021-08-28 00:00:00",
         "6",
         "8322.23701728",
         "1387.0",
         "614336"
        ],
        [
         "9368",
         "c3a94fe0a620df1df05c6f3f5a6ca2a5",
         "d2243d56ab0637b397a141cfdf28ea63",
         "2021-10-30 00:00:00",
         "8",
         "8322.23701728",
         "1040.0",
         "527409"
        ],
        [
         "9310",
         "f4c322ca51b33738bdd2f0ae84a68bcd",
         "43a008e9a1db831854588191d0edada2",
         "2021-05-05 00:00:00",
         "8",
         "8322.23701728",
         "1040.0",
         "226961"
        ],
        [
         "11994",
         "79d2552c0466d9f1f996a63839073359",
         "ac09f7c28e54bb002a7d68d317bb69e9",
         "2021-06-28 00:00:00",
         "6",
         "8322.23701728",
         "1387.0",
         "265448"
        ],
        [
         "7343",
         "9562a2ae8cd1718c2e926d379b67dc3f",
         "3dffb6c99445561464bb6fd2a7def0f3",
         "2021-03-24 00:00:00",
         "14",
         "8322.23701724",
         "594.0",
         "127754"
        ],
        [
         "27113",
         "f2a3dd8f132f553e6bb803959704fd76",
         "f74593389668ee9e20e93e46d695338b",
         "2021-11-01 00:00:00",
         "4",
         "8274.68137718",
         "2069.0",
         "224877"
        ],
        [
         "9269",
         "90c18393963f1b546ce2697dc8417b18",
         "7725f0b628dca515931788074fef7540",
         "2021-10-06 00:00:00",
         "8",
         "7965.5697165",
         "996.0",
         "181774"
        ],
        [
         "5486",
         "1d46b2330c1fdf739c0c3fcc511f35bc",
         "f54e0b6b32831a6307361ed959903e76",
         "2021-02-09 00:00:00",
         "22",
         "7869.25408973",
         "358.0",
         "419749"
        ],
        [
         "23546",
         "a57bd17de30103e8415ea4cee68d0733",
         "eb9bbd2f20030e8d598e098cb78d167a",
         "2021-10-26 00:00:00",
         "4",
         "7846.6806163",
         "1962.0",
         "571011"
        ],
        [
         "7852",
         "e7448a311d810534b07348b220e85a39",
         "a9c7d47d8425092e959aa122eb588a58",
         "2021-07-02 00:00:00",
         "12",
         "7846.68061626",
         "654.0",
         "214483"
        ],
        [
         "10269",
         "919703b29b2043925288893ffa575ae7",
         "f7707fba71c965b2f38c554a1c41845e",
         "2021-07-28 00:00:00",
         "7",
         "7668.34696591",
         "1095.0",
         "617866"
        ],
        [
         "37206",
         "4db4621da3e65435e083c30a7eca5f07",
         "234ab41e3a01ac7a91136202439a14c4",
         "2021-11-03 00:00:00",
         "4",
         "7608.9024158",
         "1902.0",
         "341069"
        ],
        [
         "8249",
         "f0453f102bb13535390a068b0a9a5901",
         "be7d2c79a31a8b86a5ff6e5ba7ab8664",
         "2021-10-30 00:00:00",
         "11",
         "7537.56895561",
         "685.0",
         "199348"
        ],
        [
         "42837",
         "06dbd0470b5459bc0ae381e9dc477bf8",
         "1c85ec19227f775e43ace752fef439a6",
         "2021-11-11 00:00:00",
         "4",
         "7490.01331556",
         "1873.0",
         "482142"
        ],
        [
         "11562",
         "08a58ddce29c59d8635decc33f6bf453",
         "38456839e0400c442b3fb70ff1de9e14",
         "2021-11-10 00:00:00",
         "6",
         "7490.01331554",
         "1248.0",
         "482288"
        ],
        [
         "9376",
         "b4a52302e45a718771fcab327e9d1bc7",
         "c0647778bcc8d36a53c9e0a4806f49a0",
         "2021-08-02 00:00:00",
         "8",
         "7371.1242153",
         "921.0",
         "331617"
        ],
        [
         "7715",
         "b0e733cd969529c5084a2a9f6ed9a469",
         "dc082cf1a4eb0ad0637fe0d2b986bee4",
         "2021-07-17 00:00:00",
         "12",
         "7371.12421526",
         "614.0",
         "364029"
        ],
        [
         "22664",
         "522d42aff80e6413b878ee67be5c8842",
         "996a07e95bd85af39af09753d19f4c69",
         "2021-11-30 00:00:00",
         "4",
         "7252.23511507",
         "1813.0",
         "22665"
        ],
        [
         "19710",
         "4cd6514a167ca4549c6dfd03d6a4dd60",
         "80effecf7ee384ee84adec2c197fd20f",
         "2021-07-30 00:00:00",
         "4",
         "7133.34601482",
         "1783.0",
         "140472"
        ]
       ],
       "shape": {
        "columns": 7,
        "rows": 206
       }
      },
      "text/html": [
       "<div>\n",
       "<style scoped>\n",
       "    .dataframe tbody tr th:only-of-type {\n",
       "        vertical-align: middle;\n",
       "    }\n",
       "\n",
       "    .dataframe tbody tr th {\n",
       "        vertical-align: top;\n",
       "    }\n",
       "\n",
       "    .dataframe thead th {\n",
       "        text-align: right;\n",
       "    }\n",
       "</style>\n",
       "<table border=\"1\" class=\"dataframe\">\n",
       "  <thead>\n",
       "    <tr style=\"text-align: right;\">\n",
       "      <th></th>\n",
       "      <th>user_id</th>\n",
       "      <th>subsidiary</th>\n",
       "      <th>transaction_day</th>\n",
       "      <th>transaction_counts</th>\n",
       "      <th>total_transaction_amount</th>\n",
       "      <th>amount_per_transaction</th>\n",
       "      <th>label</th>\n",
       "    </tr>\n",
       "  </thead>\n",
       "  <tbody>\n",
       "    <tr>\n",
       "      <th>3193</th>\n",
       "      <td>cfa366b65fa843bf78ca52f9524e1244</td>\n",
       "      <td>f54e0b6b32831a6307361ed959903e76</td>\n",
       "      <td>2021-02-11</td>\n",
       "      <td>38</td>\n",
       "      <td>17559.196072</td>\n",
       "      <td>462.0</td>\n",
       "      <td>70914</td>\n",
       "    </tr>\n",
       "    <tr>\n",
       "      <th>4403</th>\n",
       "      <td>7cac676a8d21f4fb7a66d4966dd3a12c</td>\n",
       "      <td>f54e0b6b32831a6307361ed959903e76</td>\n",
       "      <td>2021-02-11</td>\n",
       "      <td>28</td>\n",
       "      <td>14887.895901</td>\n",
       "      <td>532.0</td>\n",
       "      <td>515924</td>\n",
       "    </tr>\n",
       "    <tr>\n",
       "      <th>3691</th>\n",
       "      <td>1d46b2330c1fdf739c0c3fcc511f35bc</td>\n",
       "      <td>f54e0b6b32831a6307361ed959903e76</td>\n",
       "      <td>2021-02-11</td>\n",
       "      <td>33</td>\n",
       "      <td>14276.192458</td>\n",
       "      <td>433.0</td>\n",
       "      <td>91539</td>\n",
       "    </tr>\n",
       "    <tr>\n",
       "      <th>10756</th>\n",
       "      <td>0290610111640c1d5b863240bb81d3b4</td>\n",
       "      <td>a322aaaff76c37cf59e21336b65507f2</td>\n",
       "      <td>2021-10-07</td>\n",
       "      <td>6</td>\n",
       "      <td>14266.692030</td>\n",
       "      <td>2378.0</td>\n",
       "      <td>387357</td>\n",
       "    </tr>\n",
       "    <tr>\n",
       "      <th>21350</th>\n",
       "      <td>22e351bd70fdb319bbc102f8de27b7ce</td>\n",
       "      <td>fd0f4ab622618d7c35dcb5ab8112d732</td>\n",
       "      <td>2021-08-19</td>\n",
       "      <td>4</td>\n",
       "      <td>12840.022827</td>\n",
       "      <td>3210.0</td>\n",
       "      <td>160054</td>\n",
       "    </tr>\n",
       "    <tr>\n",
       "      <th>...</th>\n",
       "      <td>...</td>\n",
       "      <td>...</td>\n",
       "      <td>...</td>\n",
       "      <td>...</td>\n",
       "      <td>...</td>\n",
       "      <td>...</td>\n",
       "      <td>...</td>\n",
       "    </tr>\n",
       "    <tr>\n",
       "      <th>17837</th>\n",
       "      <td>b375667684698355837afaaed3dad500</td>\n",
       "      <td>28ee8dcf2268438db928361a33e16d9a</td>\n",
       "      <td>2021-05-11</td>\n",
       "      <td>5</td>\n",
       "      <td>5100.342401</td>\n",
       "      <td>1020.0</td>\n",
       "      <td>138508</td>\n",
       "    </tr>\n",
       "    <tr>\n",
       "      <th>10957</th>\n",
       "      <td>d609299eb817095b6d918dc351c3ce09</td>\n",
       "      <td>0ca0a5d99620950537c0168a05e15e44</td>\n",
       "      <td>2021-11-23</td>\n",
       "      <td>6</td>\n",
       "      <td>5088.453491</td>\n",
       "      <td>848.0</td>\n",
       "      <td>515062</td>\n",
       "    </tr>\n",
       "    <tr>\n",
       "      <th>9018</th>\n",
       "      <td>af4eb2f380fff305964fc2b53ad59321</td>\n",
       "      <td>df3fc7ba2294de5b3fb5fd2109cdbda6</td>\n",
       "      <td>2021-10-30</td>\n",
       "      <td>8</td>\n",
       "      <td>5017.120030</td>\n",
       "      <td>627.0</td>\n",
       "      <td>160724</td>\n",
       "    </tr>\n",
       "    <tr>\n",
       "      <th>9395</th>\n",
       "      <td>1094c0fb4a41aad9f2b9e2148aac9bbf</td>\n",
       "      <td>e1ae37ab3d2f00839cdf0644ff01c419</td>\n",
       "      <td>2021-01-29</td>\n",
       "      <td>8</td>\n",
       "      <td>5017.120030</td>\n",
       "      <td>627.0</td>\n",
       "      <td>88913</td>\n",
       "    </tr>\n",
       "    <tr>\n",
       "      <th>7905</th>\n",
       "      <td>495ad89b71eb717e2ff36c13267b18e1</td>\n",
       "      <td>218ba431358b790b6e29f472925362fe</td>\n",
       "      <td>2021-04-08</td>\n",
       "      <td>12</td>\n",
       "      <td>5017.120030</td>\n",
       "      <td>418.0</td>\n",
       "      <td>18092</td>\n",
       "    </tr>\n",
       "  </tbody>\n",
       "</table>\n",
       "<p>206 rows × 7 columns</p>\n",
       "</div>"
      ],
      "text/plain": [
       "                                user_id                        subsidiary  \\\n",
       "3193   cfa366b65fa843bf78ca52f9524e1244  f54e0b6b32831a6307361ed959903e76   \n",
       "4403   7cac676a8d21f4fb7a66d4966dd3a12c  f54e0b6b32831a6307361ed959903e76   \n",
       "3691   1d46b2330c1fdf739c0c3fcc511f35bc  f54e0b6b32831a6307361ed959903e76   \n",
       "10756  0290610111640c1d5b863240bb81d3b4  a322aaaff76c37cf59e21336b65507f2   \n",
       "21350  22e351bd70fdb319bbc102f8de27b7ce  fd0f4ab622618d7c35dcb5ab8112d732   \n",
       "...                                 ...                               ...   \n",
       "17837  b375667684698355837afaaed3dad500  28ee8dcf2268438db928361a33e16d9a   \n",
       "10957  d609299eb817095b6d918dc351c3ce09  0ca0a5d99620950537c0168a05e15e44   \n",
       "9018   af4eb2f380fff305964fc2b53ad59321  df3fc7ba2294de5b3fb5fd2109cdbda6   \n",
       "9395   1094c0fb4a41aad9f2b9e2148aac9bbf  e1ae37ab3d2f00839cdf0644ff01c419   \n",
       "7905   495ad89b71eb717e2ff36c13267b18e1  218ba431358b790b6e29f472925362fe   \n",
       "\n",
       "      transaction_day  transaction_counts  total_transaction_amount  \\\n",
       "3193       2021-02-11                  38              17559.196072   \n",
       "4403       2021-02-11                  28              14887.895901   \n",
       "3691       2021-02-11                  33              14276.192458   \n",
       "10756      2021-10-07                   6              14266.692030   \n",
       "21350      2021-08-19                   4              12840.022827   \n",
       "...               ...                 ...                       ...   \n",
       "17837      2021-05-11                   5               5100.342401   \n",
       "10957      2021-11-23                   6               5088.453491   \n",
       "9018       2021-10-30                   8               5017.120030   \n",
       "9395       2021-01-29                   8               5017.120030   \n",
       "7905       2021-04-08                  12               5017.120030   \n",
       "\n",
       "       amount_per_transaction   label  \n",
       "3193                    462.0   70914  \n",
       "4403                    532.0  515924  \n",
       "3691                    433.0   91539  \n",
       "10756                  2378.0  387357  \n",
       "21350                  3210.0  160054  \n",
       "...                       ...     ...  \n",
       "17837                  1020.0  138508  \n",
       "10957                   848.0  515062  \n",
       "9018                    627.0  160724  \n",
       "9395                    627.0   88913  \n",
       "7905                    418.0   18092  \n",
       "\n",
       "[206 rows x 7 columns]"
      ]
     },
     "execution_count": 23,
     "metadata": {},
     "output_type": "execute_result"
    }
   ],
   "source": [
    "fractioned_transactions_subsidiary[fractioned_transactions_subsidiary['total_transaction_amount'] > 5000].sort_values(by='total_transaction_amount', ascending=False)"
   ]
  },
  {
   "cell_type": "markdown",
   "id": "00525763",
   "metadata": {},
   "source": [
    "# Now a very interesting distribution to check is the amount per transaction in those fractioned transactions.\n",
    "\n",
    "Maybe it provide us some insight about user reaching some thresholds when performing fractioned transactions."
   ]
  },
  {
   "cell_type": "code",
   "execution_count": 24,
   "id": "62c202a2",
   "metadata": {},
   "outputs": [
    {
     "data": {
      "image/png": "[encoded data removed]",
      "text/plain": [
       "<Figure size 1000x600 with 1 Axes>"
      ]
     },
     "metadata": {},
     "output_type": "display_data"
    }
   ],
   "source": [
    "plt.figure(figsize=(10, 6))\n",
    "sns.histplot(fractioned_transactions_subsidiary['amount_per_transaction'], bins=50, stat='percent')\n",
    "plt.title('Distribution of Amount per Transaction in Fractioned Transactions')\n",
    "plt.xlabel('Amount per Transaction')\n",
    "plt.ylabel('Frequency (%)')\n",
    "plt.show()"
   ]
  },
  {
   "cell_type": "markdown",
   "id": "d4bb80aa",
   "metadata": {},
   "source": [
    "**More granulated:**"
   ]
  },
  {
   "cell_type": "code",
   "execution_count": 25,
   "id": "1725685d",
   "metadata": {},
   "outputs": [
    {
     "data": {
      "image/png": "[encoded data removed]",
      "text/plain": [
       "<Figure size 1000x600 with 1 Axes>"
      ]
     },
     "metadata": {},
     "output_type": "display_data"
    }
   ],
   "source": [
    "plt.figure(figsize=(10, 6))\n",
    "sns.histplot(fractioned_transactions_subsidiary.loc[fractioned_transactions_subsidiary['amount_per_transaction'] < 100, 'amount_per_transaction'], bins=100)\n",
    "plt.title('Distribution of Amount per Transaction in Fractioned Transactions')\n",
    "plt.xlabel('Amount per Transaction')\n",
    "plt.xlim(0, 100)\n",
    "plt.ylabel('Frequency (#)')\n",
    "plt.show()"
   ]
  },
  {
   "cell_type": "code",
   "execution_count": 26,
   "id": "c3ece5eb",
   "metadata": {},
   "outputs": [
    {
     "data": {
      "application/vnd.microsoft.datawrangler.viewer.v0+json": {
       "columns": [
        {
         "name": "index",
         "rawType": "object",
         "type": "string"
        },
        {
         "name": "amount_per_transaction",
         "rawType": "float64",
         "type": "float"
        }
       ],
       "ref": "ac606d49-7fa0-4042-8053-e796e1395cd2",
       "rows": [
        [
         "count",
         "678398.0"
        ],
        [
         "mean",
         "298.87597693389426"
        ],
        [
         "std",
         "290.15162852436123"
        ],
        [
         "min",
         "6.0"
        ],
        [
         "25%",
         "42.0"
        ],
        [
         "50%",
         "208.0"
        ],
        [
         "75%",
         "505.0"
        ],
        [
         "max",
         "3210.0"
        ]
       ],
       "shape": {
        "columns": 1,
        "rows": 8
       }
      },
      "text/plain": [
       "count    678398.000000\n",
       "mean        298.875977\n",
       "std         290.151629\n",
       "min           6.000000\n",
       "25%          42.000000\n",
       "50%         208.000000\n",
       "75%         505.000000\n",
       "max        3210.000000\n",
       "Name: amount_per_transaction, dtype: float64"
      ]
     },
     "execution_count": 26,
     "metadata": {},
     "output_type": "execute_result"
    }
   ],
   "source": [
    "fractioned_transactions_subsidiary['amount_per_transaction'].describe()"
   ]
  },
  {
   "cell_type": "markdown",
   "id": "78aa85d0",
   "metadata": {},
   "source": [
    "I could perform the following analysis: Round the amount per transaction. Count the number of occurrences of each rounded amount per transaction. And sort them"
   ]
  },
  {
   "cell_type": "code",
   "execution_count": 27,
   "id": "b2663134",
   "metadata": {},
   "outputs": [
    {
     "data": {
      "application/vnd.microsoft.datawrangler.viewer.v0+json": {
       "columns": [
        {
         "name": "index",
         "rawType": "int64",
         "type": "integer"
        },
        {
         "name": "amount_per_transaction",
         "rawType": "float64",
         "type": "float"
        },
        {
         "name": "count",
         "rawType": "int64",
         "type": "integer"
        }
       ],
       "ref": "130aeebd-67e9-4f02-bb61-6e124f2ab9a8",
       "rows": [
        [
         "0",
         "6.0",
         "52924"
        ],
        [
         "1",
         "594.0",
         "34110"
        ],
        [
         "2",
         "713.0",
         "25085"
        ],
        [
         "3",
         "24.0",
         "23170"
        ],
        [
         "4",
         "89.0",
         "21578"
        ],
        [
         "5",
         "416.0",
         "18960"
        ],
        [
         "6",
         "42.0",
         "18401"
        ],
        [
         "7",
         "476.0",
         "17640"
        ],
        [
         "8",
         "357.0",
         "15254"
        ],
        [
         "9",
         "7.0",
         "14161"
        ],
        [
         "10",
         "238.0",
         "13920"
        ],
        [
         "11",
         "9.0",
         "12370"
        ],
        [
         "12",
         "119.0",
         "12194"
        ],
        [
         "13",
         "59.0",
         "12174"
        ],
        [
         "14",
         "71.0",
         "11714"
        ],
        [
         "15",
         "535.0",
         "10958"
        ],
        [
         "16",
         "1189.0",
         "10946"
        ],
        [
         "17",
         "149.0",
         "9887"
        ],
        [
         "18",
         "36.0",
         "8928"
        ],
        [
         "19",
         "12.0",
         "7763"
        ],
        [
         "20",
         "178.0",
         "7579"
        ],
        [
         "21",
         "18.0",
         "7279"
        ],
        [
         "22",
         "48.0",
         "7124"
        ],
        [
         "23",
         "297.0",
         "6485"
        ],
        [
         "24",
         "8.0",
         "6455"
        ],
        [
         "25",
         "208.0",
         "5848"
        ],
        [
         "26",
         "131.0",
         "5789"
        ],
        [
         "27",
         "654.0",
         "5718"
        ],
        [
         "28",
         "386.0",
         "5451"
        ],
        [
         "29",
         "30.0",
         "5189"
        ],
        [
         "30",
         "327.0",
         "4743"
        ],
        [
         "31",
         "446.0",
         "4501"
        ],
        [
         "32",
         "95.0",
         "4398"
        ],
        [
         "33",
         "190.0",
         "4317"
        ],
        [
         "34",
         "54.0",
         "4242"
        ],
        [
         "35",
         "892.0",
         "4109"
        ],
        [
         "36",
         "83.0",
         "3903"
        ],
        [
         "37",
         "107.0",
         "3889"
        ],
        [
         "38",
         "65.0",
         "3888"
        ],
        [
         "39",
         "77.0",
         "3708"
        ],
        [
         "40",
         "10.0",
         "3615"
        ],
        [
         "41",
         "15.0",
         "3432"
        ],
        [
         "42",
         "505.0",
         "3088"
        ],
        [
         "43",
         "565.0",
         "2993"
        ],
        [
         "44",
         "101.0",
         "2892"
        ],
        [
         "45",
         "589.0",
         "2795"
        ],
        [
         "46",
         "11.0",
         "2774"
        ],
        [
         "47",
         "143.0",
         "2596"
        ],
        [
         "48",
         "166.0",
         "2585"
        ],
        [
         "49",
         "268.0",
         "2408"
        ]
       ],
       "shape": {
        "columns": 2,
        "rows": 1061
       }
      },
      "text/html": [
       "<div>\n",
       "<style scoped>\n",
       "    .dataframe tbody tr th:only-of-type {\n",
       "        vertical-align: middle;\n",
       "    }\n",
       "\n",
       "    .dataframe tbody tr th {\n",
       "        vertical-align: top;\n",
       "    }\n",
       "\n",
       "    .dataframe thead th {\n",
       "        text-align: right;\n",
       "    }\n",
       "</style>\n",
       "<table border=\"1\" class=\"dataframe\">\n",
       "  <thead>\n",
       "    <tr style=\"text-align: right;\">\n",
       "      <th></th>\n",
       "      <th>amount_per_transaction</th>\n",
       "      <th>count</th>\n",
       "    </tr>\n",
       "  </thead>\n",
       "  <tbody>\n",
       "    <tr>\n",
       "      <th>0</th>\n",
       "      <td>6.0</td>\n",
       "      <td>52924</td>\n",
       "    </tr>\n",
       "    <tr>\n",
       "      <th>1</th>\n",
       "      <td>594.0</td>\n",
       "      <td>34110</td>\n",
       "    </tr>\n",
       "    <tr>\n",
       "      <th>2</th>\n",
       "      <td>713.0</td>\n",
       "      <td>25085</td>\n",
       "    </tr>\n",
       "    <tr>\n",
       "      <th>3</th>\n",
       "      <td>24.0</td>\n",
       "      <td>23170</td>\n",
       "    </tr>\n",
       "    <tr>\n",
       "      <th>4</th>\n",
       "      <td>89.0</td>\n",
       "      <td>21578</td>\n",
       "    </tr>\n",
       "    <tr>\n",
       "      <th>...</th>\n",
       "      <td>...</td>\n",
       "      <td>...</td>\n",
       "    </tr>\n",
       "    <tr>\n",
       "      <th>1056</th>\n",
       "      <td>605.0</td>\n",
       "      <td>1</td>\n",
       "    </tr>\n",
       "    <tr>\n",
       "      <th>1057</th>\n",
       "      <td>1528.0</td>\n",
       "      <td>1</td>\n",
       "    </tr>\n",
       "    <tr>\n",
       "      <th>1058</th>\n",
       "      <td>688.0</td>\n",
       "      <td>1</td>\n",
       "    </tr>\n",
       "    <tr>\n",
       "      <th>1059</th>\n",
       "      <td>653.0</td>\n",
       "      <td>1</td>\n",
       "    </tr>\n",
       "    <tr>\n",
       "      <th>1060</th>\n",
       "      <td>1156.0</td>\n",
       "      <td>1</td>\n",
       "    </tr>\n",
       "  </tbody>\n",
       "</table>\n",
       "<p>1061 rows × 2 columns</p>\n",
       "</div>"
      ],
      "text/plain": [
       "      amount_per_transaction  count\n",
       "0                        6.0  52924\n",
       "1                      594.0  34110\n",
       "2                      713.0  25085\n",
       "3                       24.0  23170\n",
       "4                       89.0  21578\n",
       "...                      ...    ...\n",
       "1056                   605.0      1\n",
       "1057                  1528.0      1\n",
       "1058                   688.0      1\n",
       "1059                   653.0      1\n",
       "1060                  1156.0      1\n",
       "\n",
       "[1061 rows x 2 columns]"
      ]
     },
     "execution_count": 27,
     "metadata": {},
     "output_type": "execute_result"
    }
   ],
   "source": [
    "amount_counts = fractioned_transactions_subsidiary['amount_per_transaction'].round().value_counts().reset_index()\n",
    "amount_counts"
   ]
  },
  {
   "cell_type": "markdown",
   "id": "3bd4f51d",
   "metadata": {},
   "source": [
    "well the 6 appear the most frequently, with more than 50k occurrences. But those micro transactions of 6 units, which appear too many times with those transactions fractioned in more than 200 times in a day, seems suspicious. I will perform the same analysis but excluding the outliers, this is, frationed transactions with 16 transactions or more in a day, 16 is selected as it represent the percentile 99th."
   ]
  },
  {
   "cell_type": "code",
   "execution_count": 28,
   "id": "a613d625",
   "metadata": {},
   "outputs": [
    {
     "data": {
      "application/vnd.microsoft.datawrangler.viewer.v0+json": {
       "columns": [
        {
         "name": "index",
         "rawType": "int64",
         "type": "integer"
        },
        {
         "name": "amount_per_transaction",
         "rawType": "float64",
         "type": "float"
        },
        {
         "name": "count",
         "rawType": "int64",
         "type": "integer"
        }
       ],
       "ref": "05938084-4c53-4288-9345-19ccda32f066",
       "rows": [
        [
         "0",
         "6.0",
         "47932"
        ],
        [
         "1",
         "594.0",
         "34110"
        ],
        [
         "2",
         "713.0",
         "25085"
        ],
        [
         "3",
         "24.0",
         "23139"
        ],
        [
         "4",
         "89.0",
         "21578"
        ],
        [
         "5",
         "416.0",
         "18960"
        ],
        [
         "6",
         "42.0",
         "18401"
        ],
        [
         "7",
         "476.0",
         "17640"
        ],
        [
         "8",
         "357.0",
         "15254"
        ],
        [
         "9",
         "238.0",
         "13920"
        ],
        [
         "10",
         "7.0",
         "13454"
        ],
        [
         "11",
         "9.0",
         "12197"
        ],
        [
         "12",
         "119.0",
         "12194"
        ],
        [
         "13",
         "59.0",
         "12173"
        ],
        [
         "14",
         "71.0",
         "11714"
        ],
        [
         "15",
         "535.0",
         "10958"
        ],
        [
         "16",
         "1189.0",
         "10946"
        ],
        [
         "17",
         "149.0",
         "9887"
        ],
        [
         "18",
         "36.0",
         "8928"
        ],
        [
         "19",
         "12.0",
         "7664"
        ],
        [
         "20",
         "178.0",
         "7579"
        ],
        [
         "21",
         "18.0",
         "7162"
        ],
        [
         "22",
         "48.0",
         "7123"
        ],
        [
         "23",
         "297.0",
         "6485"
        ],
        [
         "24",
         "8.0",
         "6089"
        ],
        [
         "25",
         "208.0",
         "5848"
        ],
        [
         "26",
         "131.0",
         "5789"
        ],
        [
         "27",
         "654.0",
         "5718"
        ],
        [
         "28",
         "386.0",
         "5451"
        ],
        [
         "29",
         "30.0",
         "5188"
        ],
        [
         "30",
         "327.0",
         "4743"
        ],
        [
         "31",
         "446.0",
         "4501"
        ],
        [
         "32",
         "95.0",
         "4397"
        ],
        [
         "33",
         "190.0",
         "4317"
        ],
        [
         "34",
         "54.0",
         "4242"
        ],
        [
         "35",
         "892.0",
         "4109"
        ],
        [
         "36",
         "83.0",
         "3903"
        ],
        [
         "37",
         "107.0",
         "3889"
        ],
        [
         "38",
         "65.0",
         "3888"
        ],
        [
         "39",
         "77.0",
         "3708"
        ],
        [
         "40",
         "10.0",
         "3537"
        ],
        [
         "41",
         "15.0",
         "3411"
        ],
        [
         "42",
         "505.0",
         "3088"
        ],
        [
         "43",
         "565.0",
         "2993"
        ],
        [
         "44",
         "101.0",
         "2892"
        ],
        [
         "45",
         "589.0",
         "2795"
        ],
        [
         "46",
         "11.0",
         "2711"
        ],
        [
         "47",
         "143.0",
         "2596"
        ],
        [
         "48",
         "166.0",
         "2585"
        ],
        [
         "49",
         "268.0",
         "2408"
        ]
       ],
       "shape": {
        "columns": 2,
        "rows": 1061
       }
      },
      "text/html": [
       "<div>\n",
       "<style scoped>\n",
       "    .dataframe tbody tr th:only-of-type {\n",
       "        vertical-align: middle;\n",
       "    }\n",
       "\n",
       "    .dataframe tbody tr th {\n",
       "        vertical-align: top;\n",
       "    }\n",
       "\n",
       "    .dataframe thead th {\n",
       "        text-align: right;\n",
       "    }\n",
       "</style>\n",
       "<table border=\"1\" class=\"dataframe\">\n",
       "  <thead>\n",
       "    <tr style=\"text-align: right;\">\n",
       "      <th></th>\n",
       "      <th>amount_per_transaction</th>\n",
       "      <th>count</th>\n",
       "    </tr>\n",
       "  </thead>\n",
       "  <tbody>\n",
       "    <tr>\n",
       "      <th>0</th>\n",
       "      <td>6.0</td>\n",
       "      <td>47932</td>\n",
       "    </tr>\n",
       "    <tr>\n",
       "      <th>1</th>\n",
       "      <td>594.0</td>\n",
       "      <td>34110</td>\n",
       "    </tr>\n",
       "    <tr>\n",
       "      <th>2</th>\n",
       "      <td>713.0</td>\n",
       "      <td>25085</td>\n",
       "    </tr>\n",
       "    <tr>\n",
       "      <th>3</th>\n",
       "      <td>24.0</td>\n",
       "      <td>23139</td>\n",
       "    </tr>\n",
       "    <tr>\n",
       "      <th>4</th>\n",
       "      <td>89.0</td>\n",
       "      <td>21578</td>\n",
       "    </tr>\n",
       "    <tr>\n",
       "      <th>...</th>\n",
       "      <td>...</td>\n",
       "      <td>...</td>\n",
       "    </tr>\n",
       "    <tr>\n",
       "      <th>1056</th>\n",
       "      <td>1063.0</td>\n",
       "      <td>1</td>\n",
       "    </tr>\n",
       "    <tr>\n",
       "      <th>1057</th>\n",
       "      <td>818.0</td>\n",
       "      <td>1</td>\n",
       "    </tr>\n",
       "    <tr>\n",
       "      <th>1058</th>\n",
       "      <td>985.0</td>\n",
       "      <td>1</td>\n",
       "    </tr>\n",
       "    <tr>\n",
       "      <th>1059</th>\n",
       "      <td>1831.0</td>\n",
       "      <td>1</td>\n",
       "    </tr>\n",
       "    <tr>\n",
       "      <th>1060</th>\n",
       "      <td>954.0</td>\n",
       "      <td>1</td>\n",
       "    </tr>\n",
       "  </tbody>\n",
       "</table>\n",
       "<p>1061 rows × 2 columns</p>\n",
       "</div>"
      ],
      "text/plain": [
       "      amount_per_transaction  count\n",
       "0                        6.0  47932\n",
       "1                      594.0  34110\n",
       "2                      713.0  25085\n",
       "3                       24.0  23139\n",
       "4                       89.0  21578\n",
       "...                      ...    ...\n",
       "1056                  1063.0      1\n",
       "1057                   818.0      1\n",
       "1058                   985.0      1\n",
       "1059                  1831.0      1\n",
       "1060                   954.0      1\n",
       "\n",
       "[1061 rows x 2 columns]"
      ]
     },
     "execution_count": 28,
     "metadata": {},
     "output_type": "execute_result"
    }
   ],
   "source": [
    "amount_counts = fractioned_transactions_subsidiary[fractioned_transactions_subsidiary['transaction_counts'] < 16]['amount_per_transaction'].value_counts().reset_index()\n",
    "amount_counts"
   ]
  },
  {
   "cell_type": "markdown",
   "id": "89f165d0",
   "metadata": {},
   "source": [
    "- Well the value of 6 appears the most frequently even excluding the outliers. So it seems that this could be a transaction threshold in transactions. In fact, all the values in this table could represent some kind of threshold. So I think I will store to future use. This will be explored further, using the account_number info per user, where I expect to detect these thresholds better.\n",
    "\n",
    "**SO** I will store this dataframe as a simple csv for future analysis, I will only store those value whose count is greater than 10k occurrences"
   ]
  },
  {
   "cell_type": "code",
   "execution_count": 29,
   "id": "f9579a5b",
   "metadata": {},
   "outputs": [
    {
     "name": "stdout",
     "output_type": "stream",
     "text": [
      "Number of possible thresholds amount in transactions: 17\n"
     ]
    }
   ],
   "source": [
    "amount_counts_filtered = amount_counts[amount_counts['count'] > 10000]\n",
    "\n",
    "print(f\"Number of possible thresholds amount in transactions: {amount_counts_filtered.shape[0]}\")\n",
    "amount_counts_filtered.to_csv('data/utils/possible_transaction_thresholds.csv', index=False)"
   ]
  },
  {
   "cell_type": "markdown",
   "id": "1be33901",
   "metadata": {},
   "source": [
    "## Now I will save the fractioned transactions table to a parquet file for future analysis.\n",
    "\n",
    "Here I will mark the outliers using as criterion the 99th percentile of transaction counts obtained (16 transactions in a day)"
   ]
  },
  {
   "cell_type": "code",
   "execution_count": 30,
   "id": "51dc2e2d",
   "metadata": {},
   "outputs": [
    {
     "data": {
      "application/vnd.microsoft.datawrangler.viewer.v0+json": {
       "columns": [
        {
         "name": "index",
         "rawType": "int64",
         "type": "integer"
        },
        {
         "name": "user_id",
         "rawType": "object",
         "type": "string"
        },
        {
         "name": "subsidiary",
         "rawType": "object",
         "type": "string"
        },
        {
         "name": "transaction_day",
         "rawType": "datetime64[us]",
         "type": "unknown"
        },
        {
         "name": "transaction_counts",
         "rawType": "int64",
         "type": "integer"
        },
        {
         "name": "label",
         "rawType": "int64",
         "type": "integer"
        },
        {
         "name": "is_outlier",
         "rawType": "int32",
         "type": "integer"
        }
       ],
       "ref": "5fc469f4-ec3c-411c-9320-ad438c8215c7",
       "rows": [
        [
         "0",
         "71aa1651d9adc0b226107084fba3d71c",
         "4f511a84e8c4b1c09991e0d876e880ce",
         "2021-02-07 00:00:00",
         "271",
         "597198",
         "1"
        ],
        [
         "1",
         "fc794dabb3afc434e73ce67e6b9542e4",
         "f54e0b6b32831a6307361ed959903e76",
         "2021-02-08 00:00:00",
         "200",
         "78614",
         "1"
        ],
        [
         "2",
         "01c2e0350f7d77f4084502861b4989ff",
         "f54e0b6b32831a6307361ed959903e76",
         "2021-02-05 00:00:00",
         "200",
         "279931",
         "1"
        ],
        [
         "3",
         "e2d6158cc2b6467a47223cb2629f03f3",
         "f54e0b6b32831a6307361ed959903e76",
         "2021-02-02 00:00:00",
         "200",
         "460144",
         "1"
        ],
        [
         "4",
         "3739a3c32bf6f116edea1d45964cba92",
         "f54e0b6b32831a6307361ed959903e76",
         "2021-02-02 00:00:00",
         "200",
         "393679",
         "1"
        ],
        [
         "5",
         "f9a10e0f56a96d244feadda0194fcb06",
         "f54e0b6b32831a6307361ed959903e76",
         "2021-02-02 00:00:00",
         "200",
         "45988",
         "1"
        ],
        [
         "6",
         "a5eecc62a91ec2273c9e09d53aa6564a",
         "f54e0b6b32831a6307361ed959903e76",
         "2021-02-08 00:00:00",
         "198",
         "244273",
         "1"
        ],
        [
         "7",
         "d3720205290ca7444d216167dd4cb0b1",
         "d4b621a24cc03e3f92155a7e241fa1c3",
         "2021-02-06 00:00:00",
         "197",
         "25519",
         "1"
        ],
        [
         "8",
         "789c59c87fee33218ac916dbece2ed4e",
         "f54e0b6b32831a6307361ed959903e76",
         "2021-01-29 00:00:00",
         "194",
         "192568",
         "1"
        ],
        [
         "9",
         "6646bb834ba941cff24534473520d90a",
         "f54e0b6b32831a6307361ed959903e76",
         "2021-02-08 00:00:00",
         "193",
         "269416",
         "1"
        ],
        [
         "10",
         "01c2e0350f7d77f4084502861b4989ff",
         "f54e0b6b32831a6307361ed959903e76",
         "2021-01-31 00:00:00",
         "193",
         "449880",
         "1"
        ],
        [
         "11",
         "8796988fe01305c7f63dedf306f8bc25",
         "d4b621a24cc03e3f92155a7e241fa1c3",
         "2021-02-13 00:00:00",
         "192",
         "310525",
         "1"
        ],
        [
         "12",
         "a0350fe02e253ca113916d21191ec6ac",
         "f54e0b6b32831a6307361ed959903e76",
         "2021-02-07 00:00:00",
         "185",
         "322494",
         "1"
        ],
        [
         "13",
         "e996e08fb1f7ee5f259a2031a931073d",
         "f54e0b6b32831a6307361ed959903e76",
         "2021-01-31 00:00:00",
         "184",
         "195526",
         "1"
        ],
        [
         "14",
         "d37edb0062f43578a1b0a46eeb59e795",
         "f54e0b6b32831a6307361ed959903e76",
         "2021-02-03 00:00:00",
         "183",
         "15177",
         "1"
        ],
        [
         "15",
         "9341309e1ec9fedc4c6050aa8da6f1d8",
         "f54e0b6b32831a6307361ed959903e76",
         "2021-01-30 00:00:00",
         "180",
         "661478",
         "1"
        ],
        [
         "16",
         "09643fc6edfb47a46e087be5c8d48303",
         "f54e0b6b32831a6307361ed959903e76",
         "2021-01-12 00:00:00",
         "177",
         "373927",
         "1"
        ],
        [
         "17",
         "e2d6158cc2b6467a47223cb2629f03f3",
         "f54e0b6b32831a6307361ed959903e76",
         "2021-02-06 00:00:00",
         "174",
         "427158",
         "1"
        ],
        [
         "18",
         "e77fc30bb3bec8bf45a35b535b292047",
         "d4b621a24cc03e3f92155a7e241fa1c3",
         "2021-01-22 00:00:00",
         "174",
         "651188",
         "1"
        ],
        [
         "19",
         "e77fc30bb3bec8bf45a35b535b292047",
         "d4b621a24cc03e3f92155a7e241fa1c3",
         "2021-01-17 00:00:00",
         "174",
         "640908",
         "1"
        ],
        [
         "20",
         "258769dd7eb8275fd32ee54dc19a791e",
         "d4b621a24cc03e3f92155a7e241fa1c3",
         "2021-02-06 00:00:00",
         "171",
         "587592",
         "1"
        ],
        [
         "21",
         "5e674596af22a66e826bf15b2a363cce",
         "d4b621a24cc03e3f92155a7e241fa1c3",
         "2021-02-07 00:00:00",
         "170",
         "597902",
         "1"
        ],
        [
         "22",
         "fa6e9afb87703acab47b4346d3162369",
         "d4b621a24cc03e3f92155a7e241fa1c3",
         "2021-02-12 00:00:00",
         "169",
         "449681",
         "1"
        ],
        [
         "23",
         "63bdd328016288768c5c0fc437a656f4",
         "f54e0b6b32831a6307361ed959903e76",
         "2021-02-03 00:00:00",
         "169",
         "383648",
         "1"
        ],
        [
         "24",
         "5e674596af22a66e826bf15b2a363cce",
         "d4b621a24cc03e3f92155a7e241fa1c3",
         "2021-01-27 00:00:00",
         "169",
         "35674",
         "1"
        ],
        [
         "25",
         "5e674596af22a66e826bf15b2a363cce",
         "d4b621a24cc03e3f92155a7e241fa1c3",
         "2021-02-05 00:00:00",
         "168",
         "534100",
         "1"
        ],
        [
         "26",
         "4677a8b53fc1ef1e16007968cdfcb2ec",
         "d4b621a24cc03e3f92155a7e241fa1c3",
         "2021-02-12 00:00:00",
         "168",
         "216529",
         "1"
        ],
        [
         "27",
         "5e674596af22a66e826bf15b2a363cce",
         "d4b621a24cc03e3f92155a7e241fa1c3",
         "2021-02-10 00:00:00",
         "168",
         "99110",
         "1"
        ],
        [
         "28",
         "9a667b91347c3876205ffbdfc1324f2a",
         "f54e0b6b32831a6307361ed959903e76",
         "2021-02-08 00:00:00",
         "167",
         "554897",
         "1"
        ],
        [
         "29",
         "e45ef6205241baf7f32e2829fd0eee27",
         "f54e0b6b32831a6307361ed959903e76",
         "2021-02-10 00:00:00",
         "167",
         "203329",
         "1"
        ],
        [
         "30",
         "6646bb834ba941cff24534473520d90a",
         "f54e0b6b32831a6307361ed959903e76",
         "2021-01-13 00:00:00",
         "167",
         "523618",
         "1"
        ],
        [
         "31",
         "7a4740d97e9f869ed3c044a3607aff4b",
         "f54e0b6b32831a6307361ed959903e76",
         "2021-01-12 00:00:00",
         "167",
         "55959",
         "1"
        ],
        [
         "32",
         "845316c2b60d28bb6e83ca7ad3a7c851",
         "f54e0b6b32831a6307361ed959903e76",
         "2021-02-09 00:00:00",
         "166",
         "183107",
         "1"
        ],
        [
         "33",
         "b6f2149bf2c034e3d96dc40bd7a6e7e9",
         "f54e0b6b32831a6307361ed959903e76",
         "2021-02-10 00:00:00",
         "166",
         "554847",
         "1"
        ],
        [
         "34",
         "09ef9d0c0923b7f4848655f0de449603",
         "d4b621a24cc03e3f92155a7e241fa1c3",
         "2021-01-20 00:00:00",
         "165",
         "141962",
         "1"
        ],
        [
         "35",
         "789c59c87fee33218ac916dbece2ed4e",
         "f54e0b6b32831a6307361ed959903e76",
         "2021-02-02 00:00:00",
         "165",
         "510852",
         "1"
        ],
        [
         "36",
         "0457e033945b37b94d7f396aa07daaa1",
         "f54e0b6b32831a6307361ed959903e76",
         "2021-01-28 00:00:00",
         "164",
         "141788",
         "1"
        ],
        [
         "37",
         "c13badb7ee952c4fb45b94fb23448d49",
         "f54e0b6b32831a6307361ed959903e76",
         "2021-02-04 00:00:00",
         "164",
         "460162",
         "1"
        ],
        [
         "38",
         "9e925b3e2159cc6d6a4b33ab0a354748",
         "f54e0b6b32831a6307361ed959903e76",
         "2021-01-08 00:00:00",
         "164",
         "1823",
         "1"
        ],
        [
         "39",
         "273c7f8bdc0bdd508a8a47774f728fd7",
         "f54e0b6b32831a6307361ed959903e76",
         "2021-02-03 00:00:00",
         "161",
         "478097",
         "1"
        ],
        [
         "40",
         "c651fe1b335f57733c0e50b1fd2ff6ba",
         "f54e0b6b32831a6307361ed959903e76",
         "2021-01-23 00:00:00",
         "161",
         "195401",
         "1"
        ],
        [
         "41",
         "04186493809f56eaab5ba1dca36047e4",
         "f54e0b6b32831a6307361ed959903e76",
         "2021-01-03 00:00:00",
         "160",
         "98555",
         "1"
        ],
        [
         "42",
         "ffd25fce0151b5b923c684aa5c8171a4",
         "f54e0b6b32831a6307361ed959903e76",
         "2021-02-08 00:00:00",
         "159",
         "329935",
         "1"
        ],
        [
         "43",
         "6a3b1017fd706ca11822a112664f14ad",
         "f54e0b6b32831a6307361ed959903e76",
         "2021-02-09 00:00:00",
         "159",
         "396655",
         "1"
        ],
        [
         "44",
         "7cdc2ae0fd37bdbe72540084b26fa8c0",
         "f54e0b6b32831a6307361ed959903e76",
         "2021-02-06 00:00:00",
         "158",
         "162652",
         "1"
        ],
        [
         "45",
         "820b6a841f5422a73cc97b6b7e76a715",
         "4ecafb5dcecd6027257e8af4d9c82853",
         "2021-02-02 00:00:00",
         "158",
         "4840",
         "1"
        ],
        [
         "46",
         "e996e08fb1f7ee5f259a2031a931073d",
         "f54e0b6b32831a6307361ed959903e76",
         "2021-02-04 00:00:00",
         "158",
         "173065",
         "1"
        ],
        [
         "47",
         "04186493809f56eaab5ba1dca36047e4",
         "f54e0b6b32831a6307361ed959903e76",
         "2021-01-14 00:00:00",
         "156",
         "426733",
         "1"
        ],
        [
         "48",
         "19361f217de3fa0c9ccc5bfdcbc8158c",
         "f54e0b6b32831a6307361ed959903e76",
         "2021-02-05 00:00:00",
         "156",
         "76041",
         "1"
        ],
        [
         "49",
         "68f48c640768279950312b6284b97841",
         "f54e0b6b32831a6307361ed959903e76",
         "2021-02-09 00:00:00",
         "155",
         "300377",
         "1"
        ]
       ],
       "shape": {
        "columns": 6,
        "rows": 678398
       }
      },
      "text/html": [
       "<div>\n",
       "<style scoped>\n",
       "    .dataframe tbody tr th:only-of-type {\n",
       "        vertical-align: middle;\n",
       "    }\n",
       "\n",
       "    .dataframe tbody tr th {\n",
       "        vertical-align: top;\n",
       "    }\n",
       "\n",
       "    .dataframe thead th {\n",
       "        text-align: right;\n",
       "    }\n",
       "</style>\n",
       "<table border=\"1\" class=\"dataframe\">\n",
       "  <thead>\n",
       "    <tr style=\"text-align: right;\">\n",
       "      <th></th>\n",
       "      <th>user_id</th>\n",
       "      <th>subsidiary</th>\n",
       "      <th>transaction_day</th>\n",
       "      <th>transaction_counts</th>\n",
       "      <th>label</th>\n",
       "      <th>is_outlier</th>\n",
       "    </tr>\n",
       "  </thead>\n",
       "  <tbody>\n",
       "    <tr>\n",
       "      <th>0</th>\n",
       "      <td>71aa1651d9adc0b226107084fba3d71c</td>\n",
       "      <td>4f511a84e8c4b1c09991e0d876e880ce</td>\n",
       "      <td>2021-02-07</td>\n",
       "      <td>271</td>\n",
       "      <td>597198</td>\n",
       "      <td>1</td>\n",
       "    </tr>\n",
       "    <tr>\n",
       "      <th>1</th>\n",
       "      <td>fc794dabb3afc434e73ce67e6b9542e4</td>\n",
       "      <td>f54e0b6b32831a6307361ed959903e76</td>\n",
       "      <td>2021-02-08</td>\n",
       "      <td>200</td>\n",
       "      <td>78614</td>\n",
       "      <td>1</td>\n",
       "    </tr>\n",
       "    <tr>\n",
       "      <th>2</th>\n",
       "      <td>01c2e0350f7d77f4084502861b4989ff</td>\n",
       "      <td>f54e0b6b32831a6307361ed959903e76</td>\n",
       "      <td>2021-02-05</td>\n",
       "      <td>200</td>\n",
       "      <td>279931</td>\n",
       "      <td>1</td>\n",
       "    </tr>\n",
       "    <tr>\n",
       "      <th>3</th>\n",
       "      <td>e2d6158cc2b6467a47223cb2629f03f3</td>\n",
       "      <td>f54e0b6b32831a6307361ed959903e76</td>\n",
       "      <td>2021-02-02</td>\n",
       "      <td>200</td>\n",
       "      <td>460144</td>\n",
       "      <td>1</td>\n",
       "    </tr>\n",
       "    <tr>\n",
       "      <th>4</th>\n",
       "      <td>3739a3c32bf6f116edea1d45964cba92</td>\n",
       "      <td>f54e0b6b32831a6307361ed959903e76</td>\n",
       "      <td>2021-02-02</td>\n",
       "      <td>200</td>\n",
       "      <td>393679</td>\n",
       "      <td>1</td>\n",
       "    </tr>\n",
       "    <tr>\n",
       "      <th>...</th>\n",
       "      <td>...</td>\n",
       "      <td>...</td>\n",
       "      <td>...</td>\n",
       "      <td>...</td>\n",
       "      <td>...</td>\n",
       "      <td>...</td>\n",
       "    </tr>\n",
       "    <tr>\n",
       "      <th>678393</th>\n",
       "      <td>e978ccc68297bff3ed10920d29a0878f</td>\n",
       "      <td>46bf0db03a506923e2cee9a03d86c0d7</td>\n",
       "      <td>2021-11-26</td>\n",
       "      <td>2</td>\n",
       "      <td>678395</td>\n",
       "      <td>0</td>\n",
       "    </tr>\n",
       "    <tr>\n",
       "      <th>678394</th>\n",
       "      <td>d440a72eb71586bcf138c363273068bf</td>\n",
       "      <td>cc80323424963f8b298d1ff703d6f5d2</td>\n",
       "      <td>2021-11-02</td>\n",
       "      <td>2</td>\n",
       "      <td>678396</td>\n",
       "      <td>0</td>\n",
       "    </tr>\n",
       "    <tr>\n",
       "      <th>678395</th>\n",
       "      <td>0162f5e784b0956d551be40864cfd213</td>\n",
       "      <td>dfcfefde2de18886a8cd1ad9198e011b</td>\n",
       "      <td>2021-11-26</td>\n",
       "      <td>2</td>\n",
       "      <td>678397</td>\n",
       "      <td>0</td>\n",
       "    </tr>\n",
       "    <tr>\n",
       "      <th>678396</th>\n",
       "      <td>0fafd8fe13ca1c65ab58149045860649</td>\n",
       "      <td>97b556146b44f675898768e2684217f6</td>\n",
       "      <td>2021-11-27</td>\n",
       "      <td>2</td>\n",
       "      <td>678398</td>\n",
       "      <td>0</td>\n",
       "    </tr>\n",
       "    <tr>\n",
       "      <th>678397</th>\n",
       "      <td>59f6dbdcf6e87fe72c2a28d19d6914f4</td>\n",
       "      <td>14dc7d226f312b240f6534f0f470507e</td>\n",
       "      <td>2021-03-25</td>\n",
       "      <td>2</td>\n",
       "      <td>400068</td>\n",
       "      <td>0</td>\n",
       "    </tr>\n",
       "  </tbody>\n",
       "</table>\n",
       "<p>678398 rows × 6 columns</p>\n",
       "</div>"
      ],
      "text/plain": [
       "                                 user_id                        subsidiary  \\\n",
       "0       71aa1651d9adc0b226107084fba3d71c  4f511a84e8c4b1c09991e0d876e880ce   \n",
       "1       fc794dabb3afc434e73ce67e6b9542e4  f54e0b6b32831a6307361ed959903e76   \n",
       "2       01c2e0350f7d77f4084502861b4989ff  f54e0b6b32831a6307361ed959903e76   \n",
       "3       e2d6158cc2b6467a47223cb2629f03f3  f54e0b6b32831a6307361ed959903e76   \n",
       "4       3739a3c32bf6f116edea1d45964cba92  f54e0b6b32831a6307361ed959903e76   \n",
       "...                                  ...                               ...   \n",
       "678393  e978ccc68297bff3ed10920d29a0878f  46bf0db03a506923e2cee9a03d86c0d7   \n",
       "678394  d440a72eb71586bcf138c363273068bf  cc80323424963f8b298d1ff703d6f5d2   \n",
       "678395  0162f5e784b0956d551be40864cfd213  dfcfefde2de18886a8cd1ad9198e011b   \n",
       "678396  0fafd8fe13ca1c65ab58149045860649  97b556146b44f675898768e2684217f6   \n",
       "678397  59f6dbdcf6e87fe72c2a28d19d6914f4  14dc7d226f312b240f6534f0f470507e   \n",
       "\n",
       "       transaction_day  transaction_counts   label  is_outlier  \n",
       "0           2021-02-07                 271  597198           1  \n",
       "1           2021-02-08                 200   78614           1  \n",
       "2           2021-02-05                 200  279931           1  \n",
       "3           2021-02-02                 200  460144           1  \n",
       "4           2021-02-02                 200  393679           1  \n",
       "...                ...                 ...     ...         ...  \n",
       "678393      2021-11-26                   2  678395           0  \n",
       "678394      2021-11-02                   2  678396           0  \n",
       "678395      2021-11-26                   2  678397           0  \n",
       "678396      2021-11-27                   2  678398           0  \n",
       "678397      2021-03-25                   2  400068           0  \n",
       "\n",
       "[678398 rows x 6 columns]"
      ]
     },
     "execution_count": 30,
     "metadata": {},
     "output_type": "execute_result"
    }
   ],
   "source": [
    "new_fractioned_trans_query = f\"\"\"\n",
    "    SELECT        \n",
    "        user_id,\n",
    "        subsidiary,\n",
    "        DATE_TRUNC('day', transaction_date) as transaction_day,\n",
    "        COUNT(*) AS transaction_counts,\n",
    "        ROW_NUMBER() OVER () AS label, \n",
    "        CASE WHEN COUNT(*) > 16 THEN 1 ELSE 0 END AS is_outlier\n",
    "    FROM \n",
    "        '{file_1_path}'\n",
    "    GROUP BY \n",
    "        user_id, \n",
    "        subsidiary, \n",
    "        DATE_TRUNC('day', transaction_date)\n",
    "    HAVING\n",
    "        COUNT(*) > 1\n",
    "    ORDER BY \n",
    "        transaction_counts DESC\n",
    "\"\"\"\n",
    "fractioned_transactions_marked_outliers = con.execute(new_fractioned_trans_query).df()\n",
    "fractioned_transactions_marked_outliers"
   ]
  },
  {
   "cell_type": "code",
   "execution_count": 31,
   "id": "8d5ea90a",
   "metadata": {},
   "outputs": [
    {
     "data": {
      "application/vnd.microsoft.datawrangler.viewer.v0+json": {
       "columns": [
        {
         "name": "is_outlier",
         "rawType": "int32",
         "type": "integer"
        },
        {
         "name": "count",
         "rawType": "int64",
         "type": "integer"
        }
       ],
       "ref": "40275b46-14e4-4aca-b728-74da101e85b8",
       "rows": [
        [
         "0",
         "671728"
        ],
        [
         "1",
         "6670"
        ]
       ],
       "shape": {
        "columns": 1,
        "rows": 2
       }
      },
      "text/plain": [
       "is_outlier\n",
       "0    671728\n",
       "1      6670\n",
       "Name: count, dtype: int64"
      ]
     },
     "execution_count": 31,
     "metadata": {},
     "output_type": "execute_result"
    }
   ],
   "source": [
    "fractioned_transactions_marked_outliers['is_outlier'].value_counts()"
   ]
  },
  {
   "cell_type": "markdown",
   "id": "484c3dfc",
   "metadata": {},
   "source": [
    "### Ok, so lets create a new table which contain the fractioned transactions info"
   ]
  },
  {
   "cell_type": "code",
   "execution_count": 32,
   "id": "5c129d7f",
   "metadata": {},
   "outputs": [
    {
     "name": "stdout",
     "output_type": "stream",
     "text": [
      "Data saved to data/interim/fractioned_transactions.parquet\n"
     ]
    }
   ],
   "source": [
    "franctioned_table_path = 'data/interim/fractioned_transactions.parquet'\n",
    "\n",
    "new_table_query = f\"\"\"\n",
    "    WITH fractioned_transactions AS (\n",
    "        {new_fractioned_trans_query}\n",
    "    )\n",
    "    SELECT \n",
    "        original._id,\n",
    "        frac.label AS fractioned_label, \n",
    "        frac.is_outlier AS is_outlier\n",
    "    FROM \n",
    "        '{file_1_path}' AS original\n",
    "    INNER JOIN \n",
    "        fractioned_transactions AS frac\n",
    "    ON \n",
    "        original.user_id = frac.user_id\n",
    "        AND original.subsidiary = frac.subsidiary\n",
    "        AND DATE_TRUNC('day', original.transaction_date) = frac.transaction_day        \n",
    "\"\"\"\n",
    "con.execute(f\"COPY ({new_table_query}) TO '{franctioned_table_path}' (FORMAT PARQUET);\")\n",
    "print(f\"Data saved to {franctioned_table_path}\")"
   ]
  },
  {
   "cell_type": "markdown",
   "id": "24ac8b79",
   "metadata": {},
   "source": [
    "#### Ok now lets check if the file was saved correctly"
   ]
  },
  {
   "cell_type": "code",
   "execution_count": 33,
   "id": "ec28d63f",
   "metadata": {},
   "outputs": [
    {
     "data": {
      "application/vnd.microsoft.datawrangler.viewer.v0+json": {
       "columns": [
        {
         "name": "index",
         "rawType": "int64",
         "type": "integer"
        },
        {
         "name": "_id",
         "rawType": "object",
         "type": "string"
        },
        {
         "name": "fractioned_label",
         "rawType": "int64",
         "type": "integer"
        },
        {
         "name": "is_outlier",
         "rawType": "int32",
         "type": "integer"
        }
       ],
       "ref": "281890e3-1971-43ac-970c-d31aa10480de",
       "rows": [
        [
         "0",
         "0ce7ab2950e7a788a608f881aec0f8f0",
         "626357",
         "0"
        ],
        [
         "1",
         "d32cb4ab941c3ebecb19cf7d24b7685a",
         "373031",
         "0"
        ],
        [
         "2",
         "84a07b1ddbb4ad36af95de852538f07b",
         "373031",
         "0"
        ],
        [
         "3",
         "babf9588c0ae9b33ad452033b10d5bea",
         "96141",
         "0"
        ],
        [
         "4",
         "6b61df935e65c3e983b17afa69590572",
         "118584",
         "0"
        ],
        [
         "5",
         "41360e65057396d7fbae670cf24c7532",
         "96141",
         "0"
        ],
        [
         "6",
         "3ec93bb3e86ca3335b164297262a382b",
         "648861",
         "0"
        ],
        [
         "7",
         "8ffce3441ea2e1def8cf3c975bef39d9",
         "373031",
         "0"
        ],
        [
         "8",
         "a5ef6a1623517c3ce2c905a5f629f0d9",
         "595860",
         "0"
        ],
        [
         "9",
         "01adaa303b60d5e7d802969a93757328",
         "595860",
         "0"
        ]
       ],
       "shape": {
        "columns": 3,
        "rows": 10
       }
      },
      "text/html": [
       "<div>\n",
       "<style scoped>\n",
       "    .dataframe tbody tr th:only-of-type {\n",
       "        vertical-align: middle;\n",
       "    }\n",
       "\n",
       "    .dataframe tbody tr th {\n",
       "        vertical-align: top;\n",
       "    }\n",
       "\n",
       "    .dataframe thead th {\n",
       "        text-align: right;\n",
       "    }\n",
       "</style>\n",
       "<table border=\"1\" class=\"dataframe\">\n",
       "  <thead>\n",
       "    <tr style=\"text-align: right;\">\n",
       "      <th></th>\n",
       "      <th>_id</th>\n",
       "      <th>fractioned_label</th>\n",
       "      <th>is_outlier</th>\n",
       "    </tr>\n",
       "  </thead>\n",
       "  <tbody>\n",
       "    <tr>\n",
       "      <th>0</th>\n",
       "      <td>0ce7ab2950e7a788a608f881aec0f8f0</td>\n",
       "      <td>626357</td>\n",
       "      <td>0</td>\n",
       "    </tr>\n",
       "    <tr>\n",
       "      <th>1</th>\n",
       "      <td>d32cb4ab941c3ebecb19cf7d24b7685a</td>\n",
       "      <td>373031</td>\n",
       "      <td>0</td>\n",
       "    </tr>\n",
       "    <tr>\n",
       "      <th>2</th>\n",
       "      <td>84a07b1ddbb4ad36af95de852538f07b</td>\n",
       "      <td>373031</td>\n",
       "      <td>0</td>\n",
       "    </tr>\n",
       "    <tr>\n",
       "      <th>3</th>\n",
       "      <td>babf9588c0ae9b33ad452033b10d5bea</td>\n",
       "      <td>96141</td>\n",
       "      <td>0</td>\n",
       "    </tr>\n",
       "    <tr>\n",
       "      <th>4</th>\n",
       "      <td>6b61df935e65c3e983b17afa69590572</td>\n",
       "      <td>118584</td>\n",
       "      <td>0</td>\n",
       "    </tr>\n",
       "    <tr>\n",
       "      <th>5</th>\n",
       "      <td>41360e65057396d7fbae670cf24c7532</td>\n",
       "      <td>96141</td>\n",
       "      <td>0</td>\n",
       "    </tr>\n",
       "    <tr>\n",
       "      <th>6</th>\n",
       "      <td>3ec93bb3e86ca3335b164297262a382b</td>\n",
       "      <td>648861</td>\n",
       "      <td>0</td>\n",
       "    </tr>\n",
       "    <tr>\n",
       "      <th>7</th>\n",
       "      <td>8ffce3441ea2e1def8cf3c975bef39d9</td>\n",
       "      <td>373031</td>\n",
       "      <td>0</td>\n",
       "    </tr>\n",
       "    <tr>\n",
       "      <th>8</th>\n",
       "      <td>a5ef6a1623517c3ce2c905a5f629f0d9</td>\n",
       "      <td>595860</td>\n",
       "      <td>0</td>\n",
       "    </tr>\n",
       "    <tr>\n",
       "      <th>9</th>\n",
       "      <td>01adaa303b60d5e7d802969a93757328</td>\n",
       "      <td>595860</td>\n",
       "      <td>0</td>\n",
       "    </tr>\n",
       "  </tbody>\n",
       "</table>\n",
       "</div>"
      ],
      "text/plain": [
       "                                _id  fractioned_label  is_outlier\n",
       "0  0ce7ab2950e7a788a608f881aec0f8f0            626357           0\n",
       "1  d32cb4ab941c3ebecb19cf7d24b7685a            373031           0\n",
       "2  84a07b1ddbb4ad36af95de852538f07b            373031           0\n",
       "3  babf9588c0ae9b33ad452033b10d5bea             96141           0\n",
       "4  6b61df935e65c3e983b17afa69590572            118584           0\n",
       "5  41360e65057396d7fbae670cf24c7532             96141           0\n",
       "6  3ec93bb3e86ca3335b164297262a382b            648861           0\n",
       "7  8ffce3441ea2e1def8cf3c975bef39d9            373031           0\n",
       "8  a5ef6a1623517c3ce2c905a5f629f0d9            595860           0\n",
       "9  01adaa303b60d5e7d802969a93757328            595860           0"
      ]
     },
     "execution_count": 33,
     "metadata": {},
     "output_type": "execute_result"
    }
   ],
   "source": [
    "franctioned_table_path = 'data/interim/fractioned_transactions.parquet'\n",
    "check_table_query = f\"\"\"\n",
    "    SELECT\n",
    "        *\n",
    "    FROM\n",
    "        '{franctioned_table_path}'\n",
    "    LIMIT 10\n",
    "\"\"\"\n",
    "check_df = con.execute(check_table_query).df()\n",
    "check_df"
   ]
  },
  {
   "cell_type": "markdown",
   "id": "c7a91a8a",
   "metadata": {},
   "source": [
    "**Check the number of registers in the new table**"
   ]
  },
  {
   "cell_type": "code",
   "execution_count": 34,
   "id": "c9bbd873",
   "metadata": {},
   "outputs": [
    {
     "data": {
      "application/vnd.microsoft.datawrangler.viewer.v0+json": {
       "columns": [
        {
         "name": "index",
         "rawType": "int64",
         "type": "integer"
        },
        {
         "name": "total_fractioned_transactions",
         "rawType": "int64",
         "type": "integer"
        }
       ],
       "ref": "1227a278-9706-482a-aff9-fd21ba3161af",
       "rows": [
        [
         "0",
         "1832878"
        ]
       ],
       "shape": {
        "columns": 1,
        "rows": 1
       }
      },
      "text/html": [
       "<div>\n",
       "<style scoped>\n",
       "    .dataframe tbody tr th:only-of-type {\n",
       "        vertical-align: middle;\n",
       "    }\n",
       "\n",
       "    .dataframe tbody tr th {\n",
       "        vertical-align: top;\n",
       "    }\n",
       "\n",
       "    .dataframe thead th {\n",
       "        text-align: right;\n",
       "    }\n",
       "</style>\n",
       "<table border=\"1\" class=\"dataframe\">\n",
       "  <thead>\n",
       "    <tr style=\"text-align: right;\">\n",
       "      <th></th>\n",
       "      <th>total_fractioned_transactions</th>\n",
       "    </tr>\n",
       "  </thead>\n",
       "  <tbody>\n",
       "    <tr>\n",
       "      <th>0</th>\n",
       "      <td>1832878</td>\n",
       "    </tr>\n",
       "  </tbody>\n",
       "</table>\n",
       "</div>"
      ],
      "text/plain": [
       "   total_fractioned_transactions\n",
       "0                        1832878"
      ]
     },
     "execution_count": 34,
     "metadata": {},
     "output_type": "execute_result"
    }
   ],
   "source": [
    "query = f\"\"\"\n",
    "    SELECT \n",
    "        COUNT(*) as total_fractioned_transactions\n",
    "    FROM \n",
    "        '{franctioned_table_path}'\n",
    "\"\"\"\n",
    "con.execute(query).df()"
   ]
  },
  {
   "cell_type": "markdown",
   "id": "e7e3e3a5",
   "metadata": {},
   "source": [
    "**Yes the table was saved correctly. Now In another file I will perform the exploratory analysis.**"
   ]
  },
  {
   "cell_type": "markdown",
   "id": "13887b8e",
   "metadata": {},
   "source": []
  },
  {
   "cell_type": "markdown",
   "id": "6479f26f",
   "metadata": {},
   "source": []
  }
 ],
 "metadata": {
  "kernelspec": {
   "display_name": "jupyter_notebook_sql",
   "language": "python",
   "name": "python3"
  },
  "language_info": {
   "codemirror_mode": {
    "name": "ipython",
    "version": 3
   },
   "file_extension": ".py",
   "mimetype": "text/x-python",
   "name": "python",
   "nbconvert_exporter": "python",
   "pygments_lexer": "ipython3",
   "version": "3.13.1"
  }
 },
 "nbformat": 4,
 "nbformat_minor": 5
}
